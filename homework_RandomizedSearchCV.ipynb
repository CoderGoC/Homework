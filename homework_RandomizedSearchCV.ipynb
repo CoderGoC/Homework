{
 "cells": [
  {
   "cell_type": "code",
   "execution_count": 5,
   "metadata": {},
   "outputs": [],
   "source": [
    "import numpy as np\n",
    "import pandas as pd\n",
    "from sklearn.datasets import fetch_california_housing\n",
    "from sklearn.linear_model import LinearRegression, Ridge, Lasso, ElasticNet,TheilSenRegressor,HuberRegressor,RANSACRegressor\n",
    "from sklearn.model_selection import cross_val_score, KFold, train_test_split\n",
    "from sklearn.metrics import mean_squared_error, mean_absolute_error, r2_score,median_absolute_error\n",
    "from sklearn.preprocessing import OrdinalEncoder\n",
    "from sklearn.pipeline import Pipeline\n",
    "from sklearn.model_selection import GridSearchCV, train_test_split, RandomizedSearchCV\n",
    "from sklearn.preprocessing import PolynomialFeatures\n",
    "import warnings\n",
    "import re\n",
    "import seaborn as sns\n",
    "import plotly.express as px\n",
    "import matplotlib.pyplot as plt\n",
    "warnings.filterwarnings('ignore')\n"
   ]
  },
  {
   "cell_type": "code",
   "execution_count": 6,
   "metadata": {},
   "outputs": [
    {
     "data": {
      "text/plain": [
       "(Index(['id', 'brand', 'model', 'model_year', 'milage', 'fuel_type', 'engine',\n",
       "        'transmission', 'ext_col', 'int_col', 'accident', 'clean_title',\n",
       "        'price'],\n",
       "       dtype='object'),\n",
       " RangeIndex(start=0, stop=54273, step=1))"
      ]
     },
     "execution_count": 6,
     "metadata": {},
     "output_type": "execute_result"
    }
   ],
   "source": [
    "data = pd.read_csv('car_prices.csv')\n",
    "col = data.columns\n",
    "index = data.index\n",
    "\n",
    "col, index"
   ]
  },
  {
   "cell_type": "code",
   "execution_count": 7,
   "metadata": {},
   "outputs": [
    {
     "data": {
      "text/html": [
       "<div>\n",
       "<style scoped>\n",
       "    .dataframe tbody tr th:only-of-type {\n",
       "        vertical-align: middle;\n",
       "    }\n",
       "\n",
       "    .dataframe tbody tr th {\n",
       "        vertical-align: top;\n",
       "    }\n",
       "\n",
       "    .dataframe thead th {\n",
       "        text-align: right;\n",
       "    }\n",
       "</style>\n",
       "<table border=\"1\" class=\"dataframe\">\n",
       "  <thead>\n",
       "    <tr style=\"text-align: right;\">\n",
       "      <th></th>\n",
       "      <th>id</th>\n",
       "      <th>brand</th>\n",
       "      <th>model</th>\n",
       "      <th>model_year</th>\n",
       "      <th>milage</th>\n",
       "      <th>fuel_type</th>\n",
       "      <th>engine</th>\n",
       "      <th>transmission</th>\n",
       "      <th>ext_col</th>\n",
       "      <th>int_col</th>\n",
       "      <th>accident</th>\n",
       "      <th>clean_title</th>\n",
       "      <th>price</th>\n",
       "    </tr>\n",
       "  </thead>\n",
       "  <tbody>\n",
       "    <tr>\n",
       "      <th>0</th>\n",
       "      <td>0</td>\n",
       "      <td>Ford</td>\n",
       "      <td>F-150 Lariat</td>\n",
       "      <td>2018</td>\n",
       "      <td>74349</td>\n",
       "      <td>Gasoline</td>\n",
       "      <td>375.0HP 3.5L V6 Cylinder Engine Gasoline Fuel</td>\n",
       "      <td>10-Speed A/T</td>\n",
       "      <td>Blue</td>\n",
       "      <td>Gray</td>\n",
       "      <td>None reported</td>\n",
       "      <td>Yes</td>\n",
       "      <td>11000</td>\n",
       "    </tr>\n",
       "    <tr>\n",
       "      <th>1</th>\n",
       "      <td>1</td>\n",
       "      <td>BMW</td>\n",
       "      <td>335 i</td>\n",
       "      <td>2007</td>\n",
       "      <td>80000</td>\n",
       "      <td>Gasoline</td>\n",
       "      <td>300.0HP 3.0L Straight 6 Cylinder Engine Gasoli...</td>\n",
       "      <td>6-Speed M/T</td>\n",
       "      <td>Black</td>\n",
       "      <td>Black</td>\n",
       "      <td>None reported</td>\n",
       "      <td>Yes</td>\n",
       "      <td>8250</td>\n",
       "    </tr>\n",
       "    <tr>\n",
       "      <th>2</th>\n",
       "      <td>2</td>\n",
       "      <td>Jaguar</td>\n",
       "      <td>XF Luxury</td>\n",
       "      <td>2009</td>\n",
       "      <td>91491</td>\n",
       "      <td>Gasoline</td>\n",
       "      <td>300.0HP 4.2L 8 Cylinder Engine Gasoline Fuel</td>\n",
       "      <td>6-Speed A/T</td>\n",
       "      <td>Purple</td>\n",
       "      <td>Beige</td>\n",
       "      <td>None reported</td>\n",
       "      <td>Yes</td>\n",
       "      <td>15000</td>\n",
       "    </tr>\n",
       "    <tr>\n",
       "      <th>3</th>\n",
       "      <td>3</td>\n",
       "      <td>BMW</td>\n",
       "      <td>X7 xDrive40i</td>\n",
       "      <td>2022</td>\n",
       "      <td>2437</td>\n",
       "      <td>Hybrid</td>\n",
       "      <td>335.0HP 3.0L Straight 6 Cylinder Engine Gasoli...</td>\n",
       "      <td>Transmission w/Dual Shift Mode</td>\n",
       "      <td>Gray</td>\n",
       "      <td>Brown</td>\n",
       "      <td>None reported</td>\n",
       "      <td>Yes</td>\n",
       "      <td>63500</td>\n",
       "    </tr>\n",
       "    <tr>\n",
       "      <th>4</th>\n",
       "      <td>4</td>\n",
       "      <td>Pontiac</td>\n",
       "      <td>Firebird Base</td>\n",
       "      <td>2001</td>\n",
       "      <td>111000</td>\n",
       "      <td>Gasoline</td>\n",
       "      <td>200.0HP 3.8L V6 Cylinder Engine Gasoline Fuel</td>\n",
       "      <td>A/T</td>\n",
       "      <td>White</td>\n",
       "      <td>Black</td>\n",
       "      <td>None reported</td>\n",
       "      <td>Yes</td>\n",
       "      <td>7850</td>\n",
       "    </tr>\n",
       "  </tbody>\n",
       "</table>\n",
       "</div>"
      ],
      "text/plain": [
       "   id    brand          model  model_year  milage fuel_type  \\\n",
       "0   0     Ford   F-150 Lariat        2018   74349  Gasoline   \n",
       "1   1      BMW          335 i        2007   80000  Gasoline   \n",
       "2   2   Jaguar      XF Luxury        2009   91491  Gasoline   \n",
       "3   3      BMW   X7 xDrive40i        2022    2437    Hybrid   \n",
       "4   4  Pontiac  Firebird Base        2001  111000  Gasoline   \n",
       "\n",
       "                                              engine  \\\n",
       "0      375.0HP 3.5L V6 Cylinder Engine Gasoline Fuel   \n",
       "1  300.0HP 3.0L Straight 6 Cylinder Engine Gasoli...   \n",
       "2       300.0HP 4.2L 8 Cylinder Engine Gasoline Fuel   \n",
       "3  335.0HP 3.0L Straight 6 Cylinder Engine Gasoli...   \n",
       "4      200.0HP 3.8L V6 Cylinder Engine Gasoline Fuel   \n",
       "\n",
       "                     transmission ext_col int_col       accident clean_title  \\\n",
       "0                    10-Speed A/T    Blue    Gray  None reported         Yes   \n",
       "1                     6-Speed M/T   Black   Black  None reported         Yes   \n",
       "2                     6-Speed A/T  Purple   Beige  None reported         Yes   \n",
       "3  Transmission w/Dual Shift Mode    Gray   Brown  None reported         Yes   \n",
       "4                             A/T   White   Black  None reported         Yes   \n",
       "\n",
       "   price  \n",
       "0  11000  \n",
       "1   8250  \n",
       "2  15000  \n",
       "3  63500  \n",
       "4   7850  "
      ]
     },
     "execution_count": 7,
     "metadata": {},
     "output_type": "execute_result"
    }
   ],
   "source": [
    "data.head()"
   ]
  },
  {
   "cell_type": "markdown",
   "metadata": {},
   "source": [
    "#### Uniqual datalar sonini korib chiqamiz har bir column uchun"
   ]
  },
  {
   "cell_type": "code",
   "execution_count": 8,
   "metadata": {},
   "outputs": [
    {
     "name": "stdout",
     "output_type": "stream",
     "text": [
      "id: 54273\n",
      "brand: 53\n",
      "model: 1827\n",
      "model_year: 34\n",
      "milage: 3212\n",
      "fuel_type: 7\n",
      "engine: 1061\n",
      "transmission: 46\n",
      "ext_col: 260\n",
      "int_col: 124\n",
      "accident: 2\n",
      "clean_title: 1\n",
      "price: 1481\n"
     ]
    }
   ],
   "source": [
    "for i in col:\n",
    "    print(f\"{i}: {data[i].nunique()}\")\n",
    "    "
   ]
  },
  {
   "cell_type": "markdown",
   "metadata": {},
   "source": [
    "#### Feature enginering qilamiz\n"
   ]
  },
  {
   "cell_type": "code",
   "execution_count": 9,
   "metadata": {},
   "outputs": [],
   "source": [
    "def feature_engine(engine):\n",
    "    if pd.isna(engine):\n",
    "        return pd.Series([np.nan, np.nan, np.nan, np.nan, np.nan])\n",
    "\n",
    "    hp = re.search(r'(\\d+\\.?\\d*)HP', engine)\n",
    "    liter = re.search(r'(\\d+\\.?\\d*)L', engine)\n",
    "    motor = re.search(r'(Straight|V)\\s*\\d*', engine)\n",
    "    cylinder = re.search(r'(\\d+)\\s*Cylinder', engine)\n",
    "    fuel = re.search(r'(Gasoline|Hybrid|Flex|Diesel)', engine)\n",
    "    \n",
    "    return pd.Series([\n",
    "        hp.group(1) if hp else np.nan,\n",
    "        liter.group(1) if liter else np.nan,\n",
    "        motor.group(0) if motor else np.nan,\n",
    "        cylinder.group(1) if cylinder else np.nan,\n",
    "        fuel.group(1) if fuel else np.nan\n",
    "    ])\n",
    "\n",
    "\n"
   ]
  },
  {
   "cell_type": "markdown",
   "metadata": {},
   "source": [
    "#### NaN va zero ustunlarni 2ta metrica yani mode va mean boyicha toldirib olamiz feature enginering qilgandan keyin "
   ]
  },
  {
   "cell_type": "code",
   "execution_count": 10,
   "metadata": {},
   "outputs": [],
   "source": [
    "### Numeric datalani mean boyicha nan va zerolarini toldirib olamiz\n",
    "\n",
    "def fillna_mean(df, col, columns):\n",
    "    print(f\"Col: {col}, Columns: {columns}, Nan: {df[col].isna().sum()}\", end='')\n",
    "    value = df[df[col].notna()].groupby(by=columns)[col].mean().reset_index()\n",
    "    df = pd.merge(df, value, on=columns, how='left', suffixes=('', '_mean'))\n",
    "    df[col] = df[col].fillna(df[col + '_mean'])\n",
    "    df.drop(columns=[col + '_mean'], inplace=True)\n",
    "    print(f\", After Clean: {df[col].isna().sum()}\")\n",
    "    return df\n",
    "\n",
    "\n",
    "###  Objective ustunlardagi nan va zero datalarni  modelari boyicha toldirib olamiz\n",
    "\n",
    "def fillna_mode(df, col, columns):\n",
    "    print(f\"Col: {col}, Columns: {columns}, Nan: {df[col].isna().sum()}\", end='')\n",
    "    mode_values = df.groupby(columns)[col].apply(lambda x: x.mode().iloc[0] if not x.mode().empty else pd.NA).reset_index()\n",
    "    df = pd.merge(df, mode_values, on=columns, how='left', suffixes=('', '_mode'))\n",
    "    df[col] = df[col].fillna(df[col + '_mode'])\n",
    "    df.drop(columns=[col + '_mode'], inplace=True)\n",
    "\n",
    "    print(f\", After Clean: {df[col].isna().sum()}\")\n",
    "    return df\n",
    "\n",
    "def to_numeric(x):\n",
    "    try:\n",
    "        return float(x)\n",
    "    except ValueError as err:\n",
    "        print(err)\n",
    "        return np.nan\n"
   ]
  },
  {
   "cell_type": "markdown",
   "metadata": {},
   "source": [
    "#### datalarni price ustuini boyicha sortlab olamiz"
   ]
  },
  {
   "cell_type": "code",
   "execution_count": 11,
   "metadata": {},
   "outputs": [],
   "source": [
    "def ordinal_encoder(df, column, on):\n",
    "\n",
    "    avg_prices = df.groupby(column)[on].mean().reset_index()\n",
    "    avg_prices.columns = [column, 'avg_price']\n",
    "    avg_prices = avg_prices.sort_values(by='avg_price').reset_index(drop=True)\n",
    "    avg_prices[column+'_rank'] = avg_prices.index + 1\n",
    "    return pd.merge(df, avg_prices[[column, column+'_rank']], on=column, how='left')"
   ]
  },
  {
   "cell_type": "markdown",
   "metadata": {},
   "source": [
    "####  Feature enginering qilamiz engine ustunidagi datalarni"
   ]
  },
  {
   "cell_type": "code",
   "execution_count": 12,
   "metadata": {},
   "outputs": [],
   "source": [
    "new_columns = ['hp', 'litr', 'motor', 'Cylinder', 'fuel']\n",
    "data[new_columns] = data['engine'].apply(feature_engine)"
   ]
  },
  {
   "cell_type": "code",
   "execution_count": 13,
   "metadata": {},
   "outputs": [
    {
     "data": {
      "text/html": [
       "<div>\n",
       "<style scoped>\n",
       "    .dataframe tbody tr th:only-of-type {\n",
       "        vertical-align: middle;\n",
       "    }\n",
       "\n",
       "    .dataframe tbody tr th {\n",
       "        vertical-align: top;\n",
       "    }\n",
       "\n",
       "    .dataframe thead th {\n",
       "        text-align: right;\n",
       "    }\n",
       "</style>\n",
       "<table border=\"1\" class=\"dataframe\">\n",
       "  <thead>\n",
       "    <tr style=\"text-align: right;\">\n",
       "      <th></th>\n",
       "      <th>id</th>\n",
       "      <th>brand</th>\n",
       "      <th>model</th>\n",
       "      <th>model_year</th>\n",
       "      <th>milage</th>\n",
       "      <th>fuel_type</th>\n",
       "      <th>engine</th>\n",
       "      <th>transmission</th>\n",
       "      <th>ext_col</th>\n",
       "      <th>int_col</th>\n",
       "      <th>accident</th>\n",
       "      <th>clean_title</th>\n",
       "      <th>price</th>\n",
       "      <th>hp</th>\n",
       "      <th>litr</th>\n",
       "      <th>motor</th>\n",
       "      <th>Cylinder</th>\n",
       "      <th>fuel</th>\n",
       "    </tr>\n",
       "  </thead>\n",
       "  <tbody>\n",
       "    <tr>\n",
       "      <th>0</th>\n",
       "      <td>0</td>\n",
       "      <td>Ford</td>\n",
       "      <td>F-150 Lariat</td>\n",
       "      <td>2018</td>\n",
       "      <td>74349</td>\n",
       "      <td>Gasoline</td>\n",
       "      <td>375.0HP 3.5L V6 Cylinder Engine Gasoline Fuel</td>\n",
       "      <td>10-Speed A/T</td>\n",
       "      <td>Blue</td>\n",
       "      <td>Gray</td>\n",
       "      <td>None reported</td>\n",
       "      <td>Yes</td>\n",
       "      <td>11000</td>\n",
       "      <td>375.0</td>\n",
       "      <td>3.5</td>\n",
       "      <td>V6</td>\n",
       "      <td>6</td>\n",
       "      <td>Gasoline</td>\n",
       "    </tr>\n",
       "    <tr>\n",
       "      <th>1</th>\n",
       "      <td>1</td>\n",
       "      <td>BMW</td>\n",
       "      <td>335 i</td>\n",
       "      <td>2007</td>\n",
       "      <td>80000</td>\n",
       "      <td>Gasoline</td>\n",
       "      <td>300.0HP 3.0L Straight 6 Cylinder Engine Gasoli...</td>\n",
       "      <td>6-Speed M/T</td>\n",
       "      <td>Black</td>\n",
       "      <td>Black</td>\n",
       "      <td>None reported</td>\n",
       "      <td>Yes</td>\n",
       "      <td>8250</td>\n",
       "      <td>300.0</td>\n",
       "      <td>3.0</td>\n",
       "      <td>Straight 6</td>\n",
       "      <td>6</td>\n",
       "      <td>Gasoline</td>\n",
       "    </tr>\n",
       "    <tr>\n",
       "      <th>2</th>\n",
       "      <td>2</td>\n",
       "      <td>Jaguar</td>\n",
       "      <td>XF Luxury</td>\n",
       "      <td>2009</td>\n",
       "      <td>91491</td>\n",
       "      <td>Gasoline</td>\n",
       "      <td>300.0HP 4.2L 8 Cylinder Engine Gasoline Fuel</td>\n",
       "      <td>6-Speed A/T</td>\n",
       "      <td>Purple</td>\n",
       "      <td>Beige</td>\n",
       "      <td>None reported</td>\n",
       "      <td>Yes</td>\n",
       "      <td>15000</td>\n",
       "      <td>300.0</td>\n",
       "      <td>4.2</td>\n",
       "      <td>NaN</td>\n",
       "      <td>8</td>\n",
       "      <td>Gasoline</td>\n",
       "    </tr>\n",
       "    <tr>\n",
       "      <th>3</th>\n",
       "      <td>3</td>\n",
       "      <td>BMW</td>\n",
       "      <td>X7 xDrive40i</td>\n",
       "      <td>2022</td>\n",
       "      <td>2437</td>\n",
       "      <td>Hybrid</td>\n",
       "      <td>335.0HP 3.0L Straight 6 Cylinder Engine Gasoli...</td>\n",
       "      <td>Transmission w/Dual Shift Mode</td>\n",
       "      <td>Gray</td>\n",
       "      <td>Brown</td>\n",
       "      <td>None reported</td>\n",
       "      <td>Yes</td>\n",
       "      <td>63500</td>\n",
       "      <td>335.0</td>\n",
       "      <td>3.0</td>\n",
       "      <td>Straight 6</td>\n",
       "      <td>6</td>\n",
       "      <td>Gasoline</td>\n",
       "    </tr>\n",
       "    <tr>\n",
       "      <th>4</th>\n",
       "      <td>4</td>\n",
       "      <td>Pontiac</td>\n",
       "      <td>Firebird Base</td>\n",
       "      <td>2001</td>\n",
       "      <td>111000</td>\n",
       "      <td>Gasoline</td>\n",
       "      <td>200.0HP 3.8L V6 Cylinder Engine Gasoline Fuel</td>\n",
       "      <td>A/T</td>\n",
       "      <td>White</td>\n",
       "      <td>Black</td>\n",
       "      <td>None reported</td>\n",
       "      <td>Yes</td>\n",
       "      <td>7850</td>\n",
       "      <td>200.0</td>\n",
       "      <td>3.8</td>\n",
       "      <td>V6</td>\n",
       "      <td>6</td>\n",
       "      <td>Gasoline</td>\n",
       "    </tr>\n",
       "  </tbody>\n",
       "</table>\n",
       "</div>"
      ],
      "text/plain": [
       "   id    brand          model  model_year  milage fuel_type  \\\n",
       "0   0     Ford   F-150 Lariat        2018   74349  Gasoline   \n",
       "1   1      BMW          335 i        2007   80000  Gasoline   \n",
       "2   2   Jaguar      XF Luxury        2009   91491  Gasoline   \n",
       "3   3      BMW   X7 xDrive40i        2022    2437    Hybrid   \n",
       "4   4  Pontiac  Firebird Base        2001  111000  Gasoline   \n",
       "\n",
       "                                              engine  \\\n",
       "0      375.0HP 3.5L V6 Cylinder Engine Gasoline Fuel   \n",
       "1  300.0HP 3.0L Straight 6 Cylinder Engine Gasoli...   \n",
       "2       300.0HP 4.2L 8 Cylinder Engine Gasoline Fuel   \n",
       "3  335.0HP 3.0L Straight 6 Cylinder Engine Gasoli...   \n",
       "4      200.0HP 3.8L V6 Cylinder Engine Gasoline Fuel   \n",
       "\n",
       "                     transmission ext_col int_col       accident clean_title  \\\n",
       "0                    10-Speed A/T    Blue    Gray  None reported         Yes   \n",
       "1                     6-Speed M/T   Black   Black  None reported         Yes   \n",
       "2                     6-Speed A/T  Purple   Beige  None reported         Yes   \n",
       "3  Transmission w/Dual Shift Mode    Gray   Brown  None reported         Yes   \n",
       "4                             A/T   White   Black  None reported         Yes   \n",
       "\n",
       "   price     hp litr       motor Cylinder      fuel  \n",
       "0  11000  375.0  3.5          V6        6  Gasoline  \n",
       "1   8250  300.0  3.0  Straight 6        6  Gasoline  \n",
       "2  15000  300.0  4.2         NaN        8  Gasoline  \n",
       "3  63500  335.0  3.0  Straight 6        6  Gasoline  \n",
       "4   7850  200.0  3.8          V6        6  Gasoline  "
      ]
     },
     "execution_count": 13,
     "metadata": {},
     "output_type": "execute_result"
    }
   ],
   "source": [
    "data.head()"
   ]
  },
  {
   "cell_type": "code",
   "execution_count": 14,
   "metadata": {},
   "outputs": [],
   "source": [
    "data = data.drop(columns=['clean_title', 'id'])"
   ]
  },
  {
   "cell_type": "markdown",
   "metadata": {},
   "source": [
    "#### Nan va zero qiymatlarni korib chiqamiz\n"
   ]
  },
  {
   "cell_type": "code",
   "execution_count": 15,
   "metadata": {},
   "outputs": [
    {
     "data": {
      "text/plain": [
       "hp           4057\n",
       "litr          606\n",
       "motor       29640\n",
       "Cylinder     4175\n",
       "fuel         4258\n",
       "dtype: int64"
      ]
     },
     "execution_count": 15,
     "metadata": {},
     "output_type": "execute_result"
    }
   ],
   "source": [
    "data[new_columns].isna().sum()"
   ]
  },
  {
   "cell_type": "markdown",
   "metadata": {},
   "source": [
    "### Har bir yaratilgan yangi ustunlar boyicha NaN larni toldirib chiqamiz tepadagi yozgan functionlardan foydalanib"
   ]
  },
  {
   "cell_type": "markdown",
   "metadata": {},
   "source": [
    "#### HP ustuni boyicha "
   ]
  },
  {
   "cell_type": "code",
   "execution_count": 16,
   "metadata": {},
   "outputs": [
    {
     "name": "stdout",
     "output_type": "stream",
     "text": [
      "Col: hp, Columns: ['motor', 'Cylinder', 'litr'], Nan: 4057, After Clean: 4055\n",
      "Col: hp, Columns: ['motor', 'litr'], Nan: 4055, After Clean: 2809\n",
      "Col: hp, Columns: ['brand', 'model'], Nan: 2809, After Clean: 369\n",
      "Col: hp, Columns: ['litr', 'fuel_type'], Nan: 369, After Clean: 119\n",
      "Col: hp, Columns: ['model'], Nan: 119, After Clean: 111\n",
      "Col: hp, Columns: ['motor'], Nan: 111, After Clean: 107\n",
      "Col: hp, Columns: ['price', 'brand'], Nan: 107, After Clean: 23\n",
      "Col: hp, Columns: ['price', 'fuel_type'], Nan: 23, After Clean: 14\n",
      "Col: hp, Columns: ['engine'], Nan: 14, After Clean: 0\n",
      "0\n"
     ]
    }
   ],
   "source": [
    "data['hp'] = data['hp'].agg(to_numeric)\n",
    "\n",
    "data = fillna_mean(data.copy(), 'hp', ['motor', 'Cylinder', 'litr'])\n",
    "data = fillna_mean(data.copy(), 'hp', ['motor', 'litr'])\n",
    "data = fillna_mean(data.copy(), 'hp', ['brand', 'model'])\n",
    "data = fillna_mean(data.copy(), 'hp', ['litr', 'fuel_type'])\n",
    "data = fillna_mean(data.copy(), 'hp', ['model'])\n",
    "data = fillna_mean(data.copy(), 'hp', ['motor'])\n",
    "data = fillna_mean(data.copy(), 'hp', ['price', 'brand'])\n",
    "data = fillna_mean(data.copy(), 'hp', ['price', 'fuel_type'])\n",
    "data = fillna_mean(data.copy(), 'hp', ['engine'])\n",
    "\n",
    "\n",
    "\n",
    "print(data['hp'].isna().sum())"
   ]
  },
  {
   "cell_type": "markdown",
   "metadata": {},
   "source": [
    "#### Litr ustuni boyicha"
   ]
  },
  {
   "cell_type": "code",
   "execution_count": 17,
   "metadata": {},
   "outputs": [
    {
     "name": "stdout",
     "output_type": "stream",
     "text": [
      "Col: litr, Columns: ['motor', 'Cylinder', 'hp'], Nan: 606, After Clean: 606\n",
      "Col: litr, Columns: ['hp', 'fuel_type'], Nan: 606, After Clean: 396\n",
      "Col: litr, Columns: ['model'], Nan: 396, After Clean: 124\n",
      "Col: litr, Columns: ['engine'], Nan: 124, After Clean: 46\n",
      "Col: litr, Columns: ['price', 'fuel_type'], Nan: 46, After Clean: 3\n",
      "Col: litr, Columns: ['price', 'transmission'], Nan: 3, After Clean: 0\n",
      "0\n"
     ]
    }
   ],
   "source": [
    "data['litr'] = data['litr'].agg(to_numeric)\n",
    "\n",
    "\n",
    "data = fillna_mean(data.copy(), 'litr', ['motor', 'Cylinder', 'hp'])\n",
    "data = fillna_mean(data.copy(), 'litr', ['hp', 'fuel_type'])\n",
    "data = fillna_mean(data.copy(), 'litr', ['model'])\n",
    "data = fillna_mean(data.copy(), 'litr', ['engine'])\n",
    "data = fillna_mean(data.copy(), 'litr', ['price', 'fuel_type'])\n",
    "data = fillna_mean(data.copy(), 'litr', ['price', 'transmission'])\n",
    "\n",
    "\n",
    "print(data['litr'].isna().sum())"
   ]
  },
  {
   "cell_type": "markdown",
   "metadata": {},
   "source": [
    "#### Cylinder boyicha"
   ]
  },
  {
   "cell_type": "code",
   "execution_count": 18,
   "metadata": {},
   "outputs": [
    {
     "name": "stdout",
     "output_type": "stream",
     "text": [
      "Col: Cylinder, Columns: ['litr', 'hp'], Nan: 4175, After Clean: 3772\n",
      "Col: Cylinder, Columns: ['litr', 'model'], Nan: 3772, After Clean: 1383\n",
      "Col: Cylinder, Columns: ['hp', 'model'], Nan: 1383, After Clean: 1033\n",
      "Col: Cylinder, Columns: ['model'], Nan: 1033, After Clean: 632\n",
      "Col: Cylinder, Columns: ['hp', 'fuel_type'], Nan: 632, After Clean: 214\n",
      "Col: Cylinder, Columns: ['price', 'fuel_type'], Nan: 214, After Clean: 32\n",
      "Col: Cylinder, Columns: ['price', 'transmission'], Nan: 32, After Clean: 8\n",
      "Col: Cylinder, Columns: ['litr', 'fuel_type'], Nan: 8, After Clean: 2\n",
      "Col: Cylinder, Columns: ['engine'], Nan: 2, After Clean: 0\n",
      "0\n"
     ]
    }
   ],
   "source": [
    "data['Cylinder'] = data['Cylinder'].agg(to_numeric)\n",
    "\n",
    "data = fillna_mean(data.copy(), 'Cylinder', ['litr', 'hp'])\n",
    "data = fillna_mean(data.copy(), 'Cylinder', ['litr', 'model'])\n",
    "data = fillna_mean(data.copy(), 'Cylinder', ['hp', 'model'])\n",
    "data = fillna_mean(data.copy(), 'Cylinder', ['model'])\n",
    "data = fillna_mean(data.copy(), 'Cylinder', ['hp', 'fuel_type'])\n",
    "data = fillna_mean(data.copy(), 'Cylinder', ['price', 'fuel_type'])\n",
    "data = fillna_mean(data.copy(), 'Cylinder', ['price', 'transmission'])\n",
    "data = fillna_mean(data.copy(), 'Cylinder', ['litr', 'fuel_type'])\n",
    "data = fillna_mean(data.copy(), 'Cylinder', ['engine'])\n",
    "\n",
    "\n",
    "print(data['Cylinder'].isna().sum())"
   ]
  },
  {
   "cell_type": "markdown",
   "metadata": {},
   "source": [
    "#### Objectlarni yani Motor ustunini todiramiz mode boyicha\n"
   ]
  },
  {
   "cell_type": "code",
   "execution_count": 19,
   "metadata": {},
   "outputs": [
    {
     "name": "stdout",
     "output_type": "stream",
     "text": [
      "Col: motor, Columns: ['litr', 'hp', 'Cylinder', 'model'], Nan: 29640, After Clean: 28986\n",
      "Col: motor, Columns: ['litr', 'hp', 'Cylinder'], Nan: 28986, After Clean: 21847\n",
      "Col: motor, Columns: ['litr', 'hp'], Nan: 21847, After Clean: 21438\n",
      "Col: motor, Columns: ['model'], Nan: 21438, After Clean: 6649\n",
      "Col: motor, Columns: ['engine'], Nan: 6649, After Clean: 1320\n",
      "Col: motor, Columns: ['fuel_type', 'hp'], Nan: 1320, After Clean: 522\n",
      "Col: motor, Columns: ['litr', 'Cylinder'], Nan: 522, After Clean: 76\n",
      "Col: motor, Columns: ['Cylinder', 'price'], Nan: 76, After Clean: 66\n",
      "Col: motor, Columns: ['Cylinder', 'brand'], Nan: 66, After Clean: 52\n",
      "Col: motor, Columns: ['litr', 'brand'], Nan: 52, After Clean: 40\n",
      "Col: motor, Columns: ['hp', 'brand'], Nan: 40, After Clean: 12\n",
      "Col: motor, Columns: ['hp', 'fuel'], Nan: 12, After Clean: 11\n",
      "Col: motor, Columns: ['brand', 'price'], Nan: 11, After Clean: 4\n",
      "Col: motor, Columns: ['brand', 'price'], Nan: 4, After Clean: 4\n",
      "Col: motor, Columns: ['brand', 'fuel_type'], Nan: 4, After Clean: 0\n",
      "0\n"
     ]
    }
   ],
   "source": [
    "data = fillna_mode(data.copy(), 'motor', ['litr', 'hp', 'Cylinder', 'model'])\n",
    "data = fillna_mode(data.copy(), 'motor', ['litr', 'hp', 'Cylinder'])\n",
    "data = fillna_mode(data.copy(), 'motor', ['litr', 'hp'])\n",
    "data = fillna_mode(data.copy(), 'motor', ['model'])\n",
    "data = fillna_mode(data.copy(), 'motor', ['engine'])\n",
    "data = fillna_mode(data.copy(), 'motor', ['fuel_type', 'hp'])\n",
    "data = fillna_mode(data.copy(), 'motor', ['litr', 'Cylinder'])\n",
    "data = fillna_mode(data.copy(), 'motor', ['Cylinder', 'price'])\n",
    "data = fillna_mode(data.copy(), 'motor', ['Cylinder', 'brand'])\n",
    "data = fillna_mode(data.copy(), 'motor', ['litr', 'brand'])\n",
    "data = fillna_mode(data.copy(), 'motor', ['hp', 'brand'])\n",
    "data = fillna_mode(data.copy(), 'motor', ['hp', 'fuel'])\n",
    "data = fillna_mode(data.copy(), 'motor', ['brand', 'price'])\n",
    "data = fillna_mode(data.copy(), 'motor', ['brand', 'price'])\n",
    "data = fillna_mode(data.copy(), 'motor', ['brand', 'fuel_type'])\n",
    "\n",
    "\n",
    "print(data['motor'].isna().sum())"
   ]
  },
  {
   "cell_type": "markdown",
   "metadata": {},
   "source": [
    "#### Fuel ustunini toldiramiz\n"
   ]
  },
  {
   "cell_type": "code",
   "execution_count": 20,
   "metadata": {},
   "outputs": [
    {
     "name": "stdout",
     "output_type": "stream",
     "text": [
      "Col: fuel, Columns: ['litr', 'hp', 'Cylinder', 'model'], Nan: 4258, After Clean: 3855\n",
      "Col: fuel, Columns: ['litr', 'hp', 'model'], Nan: 3855, After Clean: 3756\n",
      "Col: fuel, Columns: ['hp', 'model'], Nan: 3756, After Clean: 3515\n",
      "Col: fuel, Columns: ['model'], Nan: 3515, After Clean: 787\n",
      "Col: fuel, Columns: ['motor', 'hp'], Nan: 787, After Clean: 304\n",
      "Col: fuel, Columns: ['motor', 'hp'], Nan: 304, After Clean: 304\n",
      "Col: fuel, Columns: ['motor', 'Cylinder'], Nan: 304, After Clean: 182\n",
      "Col: fuel, Columns: ['motor', 'litr'], Nan: 182, After Clean: 58\n",
      "Col: fuel, Columns: ['motor'], Nan: 58, After Clean: 0\n",
      "0\n"
     ]
    }
   ],
   "source": [
    "data = fillna_mode(data.copy(), 'fuel', ['litr', 'hp', 'Cylinder', 'model'])\n",
    "data = fillna_mode(data.copy(), 'fuel', ['litr', 'hp', 'model'])\n",
    "data = fillna_mode(data.copy(), 'fuel', ['hp', 'model'])\n",
    "data = fillna_mode(data.copy(), 'fuel', ['model'])\n",
    "data = fillna_mode(data.copy(), 'fuel', ['motor', 'hp'])\n",
    "data = fillna_mode(data.copy(), 'fuel', ['motor', 'hp'])\n",
    "data = fillna_mode(data.copy(), 'fuel', ['motor', 'Cylinder'])\n",
    "data = fillna_mode(data.copy(), 'fuel', ['motor', 'litr'])\n",
    "data = fillna_mode(data.copy(), 'fuel', ['motor'])\n",
    "\n",
    "print(data['fuel'].isna().sum())"
   ]
  },
  {
   "cell_type": "code",
   "execution_count": 21,
   "metadata": {},
   "outputs": [
    {
     "data": {
      "text/html": [
       "<div>\n",
       "<style scoped>\n",
       "    .dataframe tbody tr th:only-of-type {\n",
       "        vertical-align: middle;\n",
       "    }\n",
       "\n",
       "    .dataframe tbody tr th {\n",
       "        vertical-align: top;\n",
       "    }\n",
       "\n",
       "    .dataframe thead th {\n",
       "        text-align: right;\n",
       "    }\n",
       "</style>\n",
       "<table border=\"1\" class=\"dataframe\">\n",
       "  <thead>\n",
       "    <tr style=\"text-align: right;\">\n",
       "      <th></th>\n",
       "      <th>brand</th>\n",
       "      <th>model</th>\n",
       "      <th>model_year</th>\n",
       "      <th>milage</th>\n",
       "      <th>fuel_type</th>\n",
       "      <th>engine</th>\n",
       "      <th>transmission</th>\n",
       "      <th>ext_col</th>\n",
       "      <th>int_col</th>\n",
       "      <th>accident</th>\n",
       "      <th>price</th>\n",
       "      <th>hp</th>\n",
       "      <th>litr</th>\n",
       "      <th>motor</th>\n",
       "      <th>Cylinder</th>\n",
       "      <th>fuel</th>\n",
       "    </tr>\n",
       "  </thead>\n",
       "  <tbody>\n",
       "    <tr>\n",
       "      <th>0</th>\n",
       "      <td>Ford</td>\n",
       "      <td>F-150 Lariat</td>\n",
       "      <td>2018</td>\n",
       "      <td>74349</td>\n",
       "      <td>Gasoline</td>\n",
       "      <td>375.0HP 3.5L V6 Cylinder Engine Gasoline Fuel</td>\n",
       "      <td>10-Speed A/T</td>\n",
       "      <td>Blue</td>\n",
       "      <td>Gray</td>\n",
       "      <td>None reported</td>\n",
       "      <td>11000</td>\n",
       "      <td>375.0</td>\n",
       "      <td>3.5</td>\n",
       "      <td>V6</td>\n",
       "      <td>6.0</td>\n",
       "      <td>Gasoline</td>\n",
       "    </tr>\n",
       "  </tbody>\n",
       "</table>\n",
       "</div>"
      ],
      "text/plain": [
       "  brand         model  model_year  milage fuel_type  \\\n",
       "0  Ford  F-150 Lariat        2018   74349  Gasoline   \n",
       "\n",
       "                                          engine  transmission ext_col  \\\n",
       "0  375.0HP 3.5L V6 Cylinder Engine Gasoline Fuel  10-Speed A/T    Blue   \n",
       "\n",
       "  int_col       accident  price     hp  litr motor  Cylinder      fuel  \n",
       "0    Gray  None reported  11000  375.0   3.5    V6       6.0  Gasoline  "
      ]
     },
     "execution_count": 21,
     "metadata": {},
     "output_type": "execute_result"
    }
   ],
   "source": [
    "data.head(1)"
   ]
  },
  {
   "cell_type": "code",
   "execution_count": 22,
   "metadata": {},
   "outputs": [
    {
     "data": {
      "text/plain": [
       "hp          0\n",
       "litr        0\n",
       "motor       0\n",
       "Cylinder    0\n",
       "fuel        0\n",
       "dtype: int64"
      ]
     },
     "execution_count": 22,
     "metadata": {},
     "output_type": "execute_result"
    }
   ],
   "source": [
    "data[new_columns].isna().sum()"
   ]
  },
  {
   "cell_type": "code",
   "execution_count": 23,
   "metadata": {},
   "outputs": [
    {
     "data": {
      "text/plain": [
       "Index(['brand', 'model', 'fuel_type', 'engine', 'transmission', 'ext_col',\n",
       "       'int_col', 'accident', 'motor', 'fuel'],\n",
       "      dtype='object')"
      ]
     },
     "execution_count": 23,
     "metadata": {},
     "output_type": "execute_result"
    }
   ],
   "source": [
    "data.select_dtypes(include='object').columns"
   ]
  },
  {
   "cell_type": "code",
   "execution_count": 24,
   "metadata": {},
   "outputs": [],
   "source": [
    "for col in data.select_dtypes(include='object').columns:\n",
    "    data = ordinal_encoder(data.copy(), col, 'price')"
   ]
  },
  {
   "cell_type": "code",
   "execution_count": 25,
   "metadata": {},
   "outputs": [
    {
     "data": {
      "text/html": [
       "<div>\n",
       "<style scoped>\n",
       "    .dataframe tbody tr th:only-of-type {\n",
       "        vertical-align: middle;\n",
       "    }\n",
       "\n",
       "    .dataframe tbody tr th {\n",
       "        vertical-align: top;\n",
       "    }\n",
       "\n",
       "    .dataframe thead th {\n",
       "        text-align: right;\n",
       "    }\n",
       "</style>\n",
       "<table border=\"1\" class=\"dataframe\">\n",
       "  <thead>\n",
       "    <tr style=\"text-align: right;\">\n",
       "      <th></th>\n",
       "      <th>brand</th>\n",
       "      <th>model</th>\n",
       "      <th>model_year</th>\n",
       "      <th>milage</th>\n",
       "      <th>fuel_type</th>\n",
       "      <th>engine</th>\n",
       "      <th>transmission</th>\n",
       "      <th>ext_col</th>\n",
       "      <th>int_col</th>\n",
       "      <th>accident</th>\n",
       "      <th>...</th>\n",
       "      <th>brand_rank</th>\n",
       "      <th>model_rank</th>\n",
       "      <th>fuel_type_rank</th>\n",
       "      <th>engine_rank</th>\n",
       "      <th>transmission_rank</th>\n",
       "      <th>ext_col_rank</th>\n",
       "      <th>int_col_rank</th>\n",
       "      <th>accident_rank</th>\n",
       "      <th>motor_rank</th>\n",
       "      <th>fuel_rank</th>\n",
       "    </tr>\n",
       "  </thead>\n",
       "  <tbody>\n",
       "    <tr>\n",
       "      <th>0</th>\n",
       "      <td>Ford</td>\n",
       "      <td>F-150 Lariat</td>\n",
       "      <td>2018</td>\n",
       "      <td>74349</td>\n",
       "      <td>Gasoline</td>\n",
       "      <td>375.0HP 3.5L V6 Cylinder Engine Gasoline Fuel</td>\n",
       "      <td>10-Speed A/T</td>\n",
       "      <td>Blue</td>\n",
       "      <td>Gray</td>\n",
       "      <td>None reported</td>\n",
       "      <td>...</td>\n",
       "      <td>31</td>\n",
       "      <td>1256</td>\n",
       "      <td>4</td>\n",
       "      <td>821</td>\n",
       "      <td>28</td>\n",
       "      <td>91</td>\n",
       "      <td>14</td>\n",
       "      <td>2</td>\n",
       "      <td>1</td>\n",
       "      <td>3</td>\n",
       "    </tr>\n",
       "  </tbody>\n",
       "</table>\n",
       "<p>1 rows × 26 columns</p>\n",
       "</div>"
      ],
      "text/plain": [
       "  brand         model  model_year  milage fuel_type  \\\n",
       "0  Ford  F-150 Lariat        2018   74349  Gasoline   \n",
       "\n",
       "                                          engine  transmission ext_col  \\\n",
       "0  375.0HP 3.5L V6 Cylinder Engine Gasoline Fuel  10-Speed A/T    Blue   \n",
       "\n",
       "  int_col       accident  ...  brand_rank  model_rank  fuel_type_rank  \\\n",
       "0    Gray  None reported  ...          31        1256               4   \n",
       "\n",
       "  engine_rank  transmission_rank ext_col_rank  int_col_rank  accident_rank  \\\n",
       "0         821                 28           91            14              2   \n",
       "\n",
       "   motor_rank  fuel_rank  \n",
       "0           1          3  \n",
       "\n",
       "[1 rows x 26 columns]"
      ]
     },
     "execution_count": 25,
     "metadata": {},
     "output_type": "execute_result"
    }
   ],
   "source": [
    "data.head(1)"
   ]
  },
  {
   "cell_type": "markdown",
   "metadata": {},
   "source": [
    "### Chiziqli model"
   ]
  },
  {
   "cell_type": "code",
   "execution_count": 26,
   "metadata": {},
   "outputs": [
    {
     "name": "stdout",
     "output_type": "stream",
     "text": [
      "CV RMSE: 68040.11252712364\n",
      "RMSE: 69944.67979996078\n",
      "MAE: 19389.99585093425\n",
      "R2: 0.1094867627865036\n"
     ]
    }
   ],
   "source": [
    "columns = ['model_year',\n",
    "           'milage',\n",
    "           'hp',\n",
    "           'litr',\n",
    "           'Cylinder',\n",
    "           'brand_rank',\n",
    "           'model_rank',\n",
    "           'fuel_type_rank',\n",
    "           'engine_rank',\n",
    "           'transmission_rank',\n",
    "           'ext_col_rank',\n",
    "           'int_col_rank',\n",
    "           'accident_rank',\n",
    "           'motor_rank',\n",
    "           'fuel_rank'\n",
    "           ]\n",
    "\n",
    "X = data[columns]\n",
    "y = data['price']\n",
    "\n",
    "X_train, X_test, y_train, y_test = train_test_split(X, y, test_size=0.37, random_state=125)\n",
    "\n",
    "model = LinearRegression()\n",
    "\n",
    "cv = KFold(n_splits=5, shuffle=True, random_state=42)\n",
    "cv_rmse = np.sqrt(np.mean((-cross_val_score(model, X_train, y_train, cv=cv, scoring='neg_mean_squared_error'))))\n",
    "\n",
    "model.fit(X_train, y_train)\n",
    "\n",
    "y_pred = model.predict(X_test)\n",
    "\n",
    "rmse = mean_squared_error(y_test, y_pred, squared=False)\n",
    "mae = mean_absolute_error(y_test, y_pred)\n",
    "r2 = r2_score(y_test, y_pred)\n",
    "\n",
    "print(f'CV RMSE: {cv_rmse}')\n",
    "print(f'RMSE: {rmse}')\n",
    "print(f'MAE: {mae}')\n",
    "print(f'R2: {r2}')"
   ]
  },
  {
   "cell_type": "markdown",
   "metadata": {},
   "source": [
    "#### Polynomial Reg models"
   ]
  },
  {
   "cell_type": "code",
   "execution_count": 27,
   "metadata": {},
   "outputs": [
    {
     "name": "stdout",
     "output_type": "stream",
     "text": [
      "CV RMSE: 67275.41297095054\n",
      "RMSE: 68974.20593149104\n",
      "MAE: 18491.2921885455\n",
      "R2: 0.13402685237038292\n"
     ]
    }
   ],
   "source": [
    "poly = PolynomialFeatures(degree=2, include_bias=False)\n",
    "X_poly = poly.fit_transform(X)\n",
    "\n",
    "\n",
    "X_train, X_test, y_train, y_test = train_test_split(X_poly, y, test_size=0.37, random_state=125)\n",
    "\n",
    "model = LinearRegression()\n",
    "\n",
    "cv = KFold(n_splits=5, shuffle=True, random_state=42)\n",
    "cv_rmse = np.sqrt(np.mean((-cross_val_score(model, X_train, y_train, cv=cv, scoring='neg_mean_squared_error'))))\n",
    "\n",
    "model.fit(X_train, y_train)\n",
    "\n",
    "y_pred = model.predict(X_test)\n",
    "\n",
    "rmse = mean_squared_error(y_test, y_pred, squared=False)\n",
    "mae = mean_absolute_error(y_test, y_pred)\n",
    "r2 = r2_score(y_test, y_pred)\n",
    "\n",
    "print(f'CV RMSE: {cv_rmse}')\n",
    "print(f'RMSE: {rmse}')\n",
    "print(f'MAE: {mae}')\n",
    "print(f'R2: {r2}')"
   ]
  },
  {
   "cell_type": "markdown",
   "metadata": {},
   "source": [
    "#### Outlierlarni filtirlab olib korib chiqamiz\n"
   ]
  },
  {
   "cell_type": "code",
   "execution_count": 28,
   "metadata": {},
   "outputs": [],
   "source": [
    "data1 = data[data['price'] <= data['price'].quantile(0.95)]"
   ]
  },
  {
   "cell_type": "code",
   "execution_count": 29,
   "metadata": {},
   "outputs": [],
   "source": [
    "X = data1[columns]\n",
    "y = data1['price']"
   ]
  },
  {
   "cell_type": "code",
   "execution_count": 30,
   "metadata": {},
   "outputs": [
    {
     "name": "stdout",
     "output_type": "stream",
     "text": [
      "CV RMSE: 12015.062360617138\n",
      "RMSE: 11961.465478650307\n",
      "MAE: 8395.475149823636\n",
      "R2: 0.6362014146709627\n"
     ]
    }
   ],
   "source": [
    "poly = PolynomialFeatures(degree=2, include_bias=False)\n",
    "X_poly = poly.fit_transform(X)\n",
    "\n",
    "\n",
    "X_train, X_test, y_train, y_test = train_test_split(X_poly, y, test_size=0.37, random_state=125)\n",
    "\n",
    "model = LinearRegression()\n",
    "\n",
    "cv = KFold(n_splits=5, shuffle=True, random_state=42)\n",
    "cv_rmse = np.sqrt(np.mean((-cross_val_score(model, X_train, y_train, cv=cv, scoring='neg_mean_squared_error'))))\n",
    "\n",
    "model.fit(X_train, y_train)\n",
    "\n",
    "y_pred = model.predict(X_test)\n",
    "\n",
    "rmse = mean_squared_error(y_test, y_pred, squared=False)\n",
    "mae = mean_absolute_error(y_test, y_pred)\n",
    "r2 = r2_score(y_test, y_pred)\n",
    "\n",
    "print(f'CV RMSE: {cv_rmse}')\n",
    "print(f'RMSE: {rmse}')\n",
    "print(f'MAE: {mae}')\n",
    "print(f'R2: {r2}')"
   ]
  },
  {
   "cell_type": "markdown",
   "metadata": {},
   "source": [
    "#### Robostic Reg tahlillari"
   ]
  },
  {
   "cell_type": "code",
   "execution_count": 31,
   "metadata": {},
   "outputs": [],
   "source": [
    "# linear_model = LinearRegression()\n",
    "# linear_model.fit(X, y)\n",
    "\n",
    "# tail = TheilSenRegressor()\n",
    "# tail.fit(X, y)\n",
    "\n",
    "# huber = HuberRegressor()\n",
    "# huber.fit(X, y)\n",
    "\n",
    "# ransac = RANSACRegressor()\n",
    "# ransac.fit(X, y)\n",
    "\n",
    "\n",
    "# linear_rmse = np.sqrt(mean_squared_error(y, linear_model.predict(X)))\n",
    "# tail_rmse = np.sqrt(mean_squared_error(y, tail.predict(X)))\n",
    "# huber_rmse = np.sqrt(mean_squared_error(y, huber.predict(X)))\n",
    "# ransac_rmse = np.sqrt(mean_squared_error(y, ransac.predict(X)))\n",
    "\n",
    "# mae_linear = mean_absolute_error(y, linear_model.predict(X))\n",
    "# mae_tail = mean_absolute_error(y, tail.predict(X))\n",
    "# mae_huber = mean_absolute_error(y, huber.predict(X))\n",
    "# mae_ransac = mean_absolute_error(y, ransac.predict(X))\n",
    "\n",
    "\n",
    "# median_error = median_absolute_error(y, linear_model.predict(X))\n",
    "# median_error_tail = median_absolute_error(y, tail.predict(X))\n",
    "# median_error_huber = median_absolute_error(y, huber.predict(X))\n",
    "# median_error_ransac = median_absolute_error(y, ransac.predict(X))\n",
    "\n",
    "# print('Median Error Linear:', median_error)\n",
    "# print('Linear MAE:', mae_linear)\n",
    "# print('Linear RMSE:', linear_rmse)\n",
    "# print()\n",
    "# print('Median Error RANSAC:', median_error_ransac)\n",
    "# print('RANSAC MAE:', mae_ransac)\n",
    "# print('RANSAC RMSE:', ransac_rmse)\n",
    "# print()\n",
    "# print('Median Error Tail:', median_error_tail)\n",
    "# print('Theil MAE:', mae_tail)\n",
    "# print('Theil RMSE:', tail_rmse)\n",
    "# print()\n",
    "# print('Median Error Huber:', median_error_huber)\n",
    "# print('Huber MAE:', mae_huber)\n",
    "# print('Huber RMSE:', huber_rmse)"
   ]
  },
  {
   "cell_type": "code",
   "execution_count": 32,
   "metadata": {},
   "outputs": [],
   "source": [
    "# linear_model = LinearRegression()\n",
    "# linear_model.fit(X_poly, y)\n",
    "\n",
    "# tail = TheilSenRegressor()\n",
    "# tail.fit(X_poly, y)\n",
    "\n",
    "# huber = HuberRegressor()\n",
    "# huber.fit(X_poly, y)\n",
    "\n",
    "# ransac = RANSACRegressor()\n",
    "# ransac.fit(X_poly, y)\n",
    "\n",
    "\n",
    "# linear_rmse = np.sqrt(mean_squared_error(y, linear_model.predict(X_poly)))\n",
    "# tail_rmse = np.sqrt(mean_squared_error(y, tail.predict(X_poly)))\n",
    "# huber_rmse = np.sqrt(mean_squared_error(y, huber.predict(X_poly)))\n",
    "# ransac_rmse = np.sqrt(mean_squared_error(y, ransac.predict(X_poly)))\n",
    "\n",
    "# mae_linear = mean_absolute_error(y, linear_model.predict(X_poly))\n",
    "# mae_tail = mean_absolute_error(y, tail.predict(X_poly))\n",
    "# mae_huber = mean_absolute_error(y, huber.predict(X_poly))\n",
    "# mae_ransac = mean_absolute_error(y, ransac.predict(X_poly))\n",
    "\n",
    "\n",
    "# median_error = median_absolute_error(y, linear_model.predict(X_poly))\n",
    "# median_error_tail = median_absolute_error(y, tail.predict(X_poly))\n",
    "# median_error_huber = median_absolute_error(y, huber.predict(X_poly))\n",
    "# median_error_ransac = median_absolute_error(y, ransac.predict(X_poly))\n",
    "\n",
    "# print('Median Error Linear:', median_error)\n",
    "# print('Linear MAE:', mae_linear)\n",
    "# print('Linear RMSE:', linear_rmse)\n",
    "# print()\n",
    "# print('Median Error RANSAC:', median_error_ransac)\n",
    "# print('RANSAC MAE:', mae_ransac)\n",
    "# print('RANSAC RMSE:', ransac_rmse)\n",
    "# print()\n",
    "# print('Median Error Tail:', median_error_tail)\n",
    "# print('Theil MAE:', mae_tail)\n",
    "# print('Theil RMSE:', tail_rmse)\n",
    "# print()\n",
    "# print('Median Error Huber:', median_error_huber)\n",
    "# print('Huber MAE:', mae_huber)\n",
    "# print('Huber RMSE:', huber_rmse)"
   ]
  },
  {
   "cell_type": "code",
   "execution_count": 33,
   "metadata": {},
   "outputs": [],
   "source": [
    "# from sklearn.feature_selection import RFECV\n",
    "# X = data[columns]\n",
    "# y = data['price']\n",
    "# poly = PolynomialFeatures(degree=2, include_bias=False)\n",
    "# X_poly = pd.DataFrame(poly.fit_transform(X), columns=poly.get_feature_names_out(X.columns))\n",
    "\n",
    "\n",
    "# cv = KFold(n_splits=6, shuffle=True, random_state=42)\n",
    "\n",
    "# linear_model = LinearRegression()\n",
    "\n",
    "# rfecv = RFECV(estimator=linear_model, step=1, cv=cv, scoring='neg_mean_squared_error', verbose=2)\n",
    "\n",
    "# rfecv.fit(X_poly, y)\n",
    "# optimal_num_features = rfecv.n_features_\n",
    "# selected_features = X_poly.columns[rfecv.support_]\n",
    "\n",
    "# print(\"Optimal number of features:\", optimal_num_features)\n",
    "# print(\"Selected features:\", selected_features.tolist())"
   ]
  },
  {
   "cell_type": "code",
   "execution_count": 34,
   "metadata": {},
   "outputs": [],
   "source": [
    "# X_poly = pd.DataFrame(poly.fit_transform(X), columns=poly.get_feature_names_out(X.columns))\n",
    "# X = X_poly[selected_features]\n",
    "# y = data['price']\n",
    "\n",
    "# linear_model = LinearRegression()\n",
    "# linear_model.fit(X, y)\n",
    "\n",
    "# tail = TheilSenRegressor()\n",
    "# tail.fit(X, y)\n",
    "\n",
    "# huber = HuberRegressor()\n",
    "# huber.fit(X, y)\n",
    "\n",
    "# ransac = RANSACRegressor()\n",
    "# ransac.fit(X, y)\n",
    "\n",
    "\n",
    "# linear_rmse = np.sqrt(mean_squared_error(y, linear_model.predict(X)))\n",
    "# tail_rmse = np.sqrt(mean_squared_error(y, tail.predict(X)))\n",
    "# huber_rmse = np.sqrt(mean_squared_error(y, huber.predict(X)))\n",
    "# ransac_rmse = np.sqrt(mean_squared_error(y, ransac.predict(X)))\n",
    "\n",
    "# mae_linear = mean_absolute_error(y, linear_model.predict(X))\n",
    "# mae_tail = mean_absolute_error(y, tail.predict(X))\n",
    "# mae_huber = mean_absolute_error(y, huber.predict(X))\n",
    "# mae_ransac = mean_absolute_error(y, ransac.predict(X))\n",
    "\n",
    "\n",
    "# median_error = median_absolute_error(y, linear_model.predict(X))\n",
    "# median_error_tail = median_absolute_error(y, tail.predict(X))\n",
    "# median_error_huber = median_absolute_error(y, huber.predict(X))\n",
    "# median_error_ransac = median_absolute_error(y, ransac.predict(X))\n",
    "\n",
    "# print('Median Error Linear:', median_error)\n",
    "# print('Linear MAE:', mae_linear)\n",
    "# print('Linear RMSE:', linear_rmse)\n",
    "# print()\n",
    "# print('Median Error RANSAC:', median_error_ransac)\n",
    "# print('RANSAC MAE:', mae_ransac)\n",
    "# print('RANSAC RMSE:', ransac_rmse)\n",
    "# print()\n",
    "# print('Median Error Tail:', median_error_tail)\n",
    "# print('Theil MAE:', mae_tail)\n",
    "# print('Theil RMSE:', tail_rmse)\n",
    "# print()\n",
    "# print('Median Error Huber:', median_error_huber)\n",
    "# print('Huber MAE:', mae_huber)\n",
    "# print('Huber RMSE:', huber_rmse)"
   ]
  },
  {
   "cell_type": "code",
   "execution_count": 35,
   "metadata": {},
   "outputs": [],
   "source": [
    "X = data1[columns]\n",
    "y = data1['price']"
   ]
  },
  {
   "cell_type": "code",
   "execution_count": 36,
   "metadata": {},
   "outputs": [
    {
     "name": "stdout",
     "output_type": "stream",
     "text": [
      "R-squared: 0.5922\n",
      "Adjusted R-squared: 0.5920\n",
      "RMSE: 12738.7051\n",
      "MAE: 9370.4621\n",
      "MedAE: 6964.2190\n",
      "MAPE: 44.6106\n",
      "sMAPE: 37.7572\n",
      "MedAPE: 27.5337\n"
     ]
    }
   ],
   "source": [
    "\n",
    "def calculate_metrics(X, y):\n",
    "    model = LinearRegression()\n",
    "    model.fit(X, y)\n",
    "\n",
    "    y_pred = model.predict(X)\n",
    "\n",
    "    r_squared = model.score(X, y)\n",
    "\n",
    "    n = X.shape[0]\n",
    "    k = X.shape[1]\n",
    "    adjusted_r_squared = 1 - (1 - r_squared) * (n - 1) / (n - k - 1)\n",
    "\n",
    "    \n",
    "    rmse = np.sqrt(mean_squared_error(y, y_pred))\n",
    "\n",
    "    \n",
    "    mae = mean_absolute_error(y, y_pred)\n",
    "\n",
    "    \n",
    "    medae = median_absolute_error(y, y_pred)\n",
    "\n",
    "    \n",
    "    mape = np.mean(np.abs((y - y_pred) / y)) * 100\n",
    "\n",
    "\n",
    "    smape = np.mean(2 * np.abs(y - y_pred) / (np.abs(y) + np.abs(y_pred))) * 100\n",
    "\n",
    "\n",
    "    medape = np.median(np.abs((y - y_pred) / y)) * 100\n",
    "\n",
    "    return {\n",
    "        'R-squared': r_squared,\n",
    "        'Adjusted R-squared': adjusted_r_squared,\n",
    "        'RMSE': rmse,\n",
    "        'MAE': mae,\n",
    "        'MedAE': medae,\n",
    "        'MAPE': mape,\n",
    "        'sMAPE': smape,\n",
    "        'MedAPE': medape\n",
    "    }\n",
    "\n",
    "\n",
    "\n",
    " \n",
    "metrics = calculate_metrics(X, y)\n",
    "for metric_name, metric_value in metrics.items():\n",
    "    print(f\"{metric_name}: {metric_value:.4f}\")\n"
   ]
  },
  {
   "cell_type": "markdown",
   "metadata": {},
   "source": [
    "### Blending and Stacking"
   ]
  },
  {
   "cell_type": "markdown",
   "metadata": {},
   "source": [
    "#### Blending"
   ]
  },
  {
   "cell_type": "code",
   "execution_count": 37,
   "metadata": {},
   "outputs": [
    {
     "name": "stdout",
     "output_type": "stream",
     "text": [
      "Blending Model Metrics:\n",
      "  R-squared: 0.5954\n",
      "  RMSE: 12729.9380\n",
      "  MAE: 9368.7879\n"
     ]
    }
   ],
   "source": [
    "base_models = {\n",
    "    'LinearRegression': LinearRegression(),\n",
    "    'Ridge': Ridge(),\n",
    "    'Lasso': Lasso(),\n",
    "    'ElasticNet': ElasticNet(),\n",
    "    'TheilSenRegressor': TheilSenRegressor(),\n",
    "    'HuberRegressor': HuberRegressor(),\n",
    "    'RANSACRegressor': RANSACRegressor()\n",
    "}\n",
    "\n",
    "\n",
    "X_train, X_test, y_train, y_test = train_test_split(X, y, test_size=0.2, random_state=42)\n",
    "\n",
    "\n",
    "base_model_preds_train = np.zeros((X_train.shape[0], len(base_models)))\n",
    "base_model_preds_test = np.zeros((X_test.shape[0], len(base_models)))\n",
    "\n",
    "for i, (model_name, model) in enumerate(base_models.items()):\n",
    "    model.fit(X_train, y_train)\n",
    "    base_model_preds_train[:, i] = model.predict(X_train)\n",
    "    base_model_preds_test[:, i] = model.predict(X_test)\n",
    "\n",
    "\n",
    "meta_model = LinearRegression()\n",
    "meta_model.fit(base_model_preds_train, y_train)\n",
    "\n",
    "\n",
    "final_predictions = meta_model.predict(base_model_preds_test)\n",
    "\n",
    "\n",
    "\n",
    "r_squared = meta_model.score(base_model_preds_test, y_test)\n",
    "rmse = np.sqrt(mean_squared_error(y_test, final_predictions))\n",
    "mae = mean_absolute_error(y_test, final_predictions)\n",
    "\n",
    "print(f\"Blending Model Metrics:\")\n",
    "print(f\"  R-squared: {r_squared:.4f}\")\n",
    "print(f\"  RMSE: {rmse:.4f}\")\n",
    "print(f\"  MAE: {mae:.4f}\")"
   ]
  },
  {
   "cell_type": "markdown",
   "metadata": {},
   "source": [
    "#### Stacking "
   ]
  },
  {
   "cell_type": "code",
   "execution_count": 38,
   "metadata": {},
   "outputs": [
    {
     "name": "stdout",
     "output_type": "stream",
     "text": [
      "Stacking Model Metrics:\n",
      "  R-squared: 0.5955\n",
      "  RMSE: 12728.0108\n",
      "  MAE: 9371.8901\n"
     ]
    }
   ],
   "source": [
    "from sklearn.ensemble import StackingRegressor\n",
    "from sklearn.model_selection import cross_val_predict\n",
    "\n",
    "\n",
    "base_models = [\n",
    "    ('LinearRegression', LinearRegression()),\n",
    "    ('Ridge', Ridge()),\n",
    "    ('Lasso', Lasso()),\n",
    "    ('ElasticNet', ElasticNet()),\n",
    "    ('TheilSenRegressor', TheilSenRegressor()),\n",
    "    ('HuberRegressor', HuberRegressor()),\n",
    "    ('RANSACRegressor', RANSACRegressor())\n",
    "]\n",
    "\n",
    "meta_model = LinearRegression()\n",
    "\n",
    "stacking_model = StackingRegressor(estimators=base_models, final_estimator=meta_model, cv=5)\n",
    "\n",
    "stacking_model.fit(X_train, y_train)\n",
    "\n",
    "stacking_predictions = stacking_model.predict(X_test)\n",
    "\n",
    "r_squared = stacking_model.score(X_test, y_test)\n",
    "rmse = np.sqrt(mean_squared_error(y_test, stacking_predictions))\n",
    "mae = mean_absolute_error(y_test, stacking_predictions)\n",
    "\n",
    "print(f\"Stacking Model Metrics:\")\n",
    "print(f\"  R-squared: {r_squared:.4f}\")\n",
    "print(f\"  RMSE: {rmse:.4f}\")\n",
    "print(f\"  MAE: {mae:.4f}\")"
   ]
  },
  {
   "cell_type": "markdown",
   "metadata": {},
   "source": [
    "### RandomizedSearchCV for both Blending and Stacking "
   ]
  },
  {
   "cell_type": "markdown",
   "metadata": {},
   "source": [
    "#### Blending with RandomizedSearchCV"
   ]
  },
  {
   "cell_type": "code",
   "execution_count": 39,
   "metadata": {},
   "outputs": [],
   "source": [
    "from sklearn.model_selection import RandomizedSearchCV\n"
   ]
  },
  {
   "cell_type": "code",
   "execution_count": 42,
   "metadata": {},
   "outputs": [
    {
     "name": "stdout",
     "output_type": "stream",
     "text": [
      "Blending Model Metrics with RandomizedSearchCV:\n",
      "  R-squared: 0.5954\n",
      "  RMSE: 12729.9380\n",
      "  MAE: 9368.7879\n"
     ]
    }
   ],
   "source": [
    "param_grids = {\n",
    "    'LinearRegression': {},\n",
    "    'Ridge': {'alpha': [0.1, 1, 10, 100]},\n",
    "    'Lasso': {'alpha': [0.1, 1, 10, 100]},\n",
    "    'ElasticNet': {'alpha': [0.1, 1, 10, 100], 'l1_ratio': [0.1, 0.5, 0.9]},\n",
    "    # 'TheilSenRegressor': {'alpha': [1e-6, 1e-4, 1e-2, 1e0]},\n",
    "    'HuberRegressor': {'alpha': [1e-6, 1e-4, 1e-2, 1e0], 'epsilon': [1.0, 1.1, 1.2]},\n",
    "    'RANSACRegressor': {'min_samples': [0.5, 0.7, 0.9], 'residual_threshold': [0.1, 1, 10]}\n",
    "}\n",
    "\n",
    "\n",
    "best_base_models = {}\n",
    "for model_name, param_grid in param_grids.items():\n",
    "    model = eval(f\"{model_name}()\")  # Create model instance\n",
    "    random_search = RandomizedSearchCV(model, param_grid, n_iter=10, cv=5, scoring='neg_mean_squared_error', random_state=42)\n",
    "    random_search.fit(X_train, y_train)\n",
    "    best_base_models[model_name] = random_search.best_estimator_\n",
    "\n",
    "\n",
    "base_model_preds_train = np.zeros((X_train.shape[0], len(best_base_models)))\n",
    "base_model_preds_test = np.zeros((X_test.shape[0], len(best_base_models)))\n",
    "\n",
    "for i, (model_name, model) in enumerate(best_base_models.items()):\n",
    "    model.fit(X_train, y_train)\n",
    "    base_model_preds_train[:, i] = model.predict(X_train)\n",
    "    base_model_preds_test[:, i] = model.predict(X_test)\n",
    "\n",
    "\n",
    "meta_model = LinearRegression()\n",
    "meta_model.fit(base_model_preds_train, y_train)\n",
    "\n",
    "\n",
    "final_predictions = meta_model.predict(base_model_preds_test)\n",
    "\n",
    "\n",
    "r_squared = meta_model.score(base_model_preds_test, y_test)\n",
    "rmse = np.sqrt(mean_squared_error(y_test, final_predictions))\n",
    "mae = mean_absolute_error(y_test, final_predictions)\n",
    "\n",
    "print(f\"Blending Model Metrics with RandomizedSearchCV:\")\n",
    "print(f\"  R-squared: {r_squared:.4f}\")\n",
    "print(f\"  RMSE: {rmse:.4f}\")\n",
    "print(f\"  MAE: {mae:.4f}\")"
   ]
  },
  {
   "cell_type": "code",
   "execution_count": null,
   "metadata": {},
   "outputs": [
    {
     "name": "stdout",
     "output_type": "stream",
     "text": [
      "Requirement already satisfied: scipy in c:\\users\\user\\appdata\\local\\programs\\python\\python311\\lib\\site-packages (1.14.0)\n",
      "Requirement already satisfied: numpy<2.3,>=1.23.5 in c:\\users\\user\\appdata\\local\\programs\\python\\python311\\lib\\site-packages (from scipy) (2.0.0)\n"
     ]
    },
    {
     "name": "stderr",
     "output_type": "stream",
     "text": [
      "\n",
      "[notice] A new release of pip is available: 23.2.1 -> 24.2\n",
      "[notice] To update, run: python.exe -m pip install --upgrade pip\n"
     ]
    }
   ],
   "source": [
    "! pip install scipy"
   ]
  },
  {
   "cell_type": "markdown",
   "metadata": {},
   "source": [
    "#### Stacking with RandomizedSearchCV\n"
   ]
  },
  {
   "cell_type": "code",
   "execution_count": 44,
   "metadata": {},
   "outputs": [
    {
     "name": "stdout",
     "output_type": "stream",
     "text": [
      "Stacking Model Metrics with RandomizedSearchCV:\n",
      "  R-squared: 0.5951\n",
      "  RMSE: 12734.0199\n",
      "  MAE: 9367.0636\n"
     ]
    }
   ],
   "source": [
    "param_grids = {\n",
    "    'LinearRegression': {},\n",
    "    'Ridge': {'alpha': [0.1, 1, 10, 100]},\n",
    "    'Lasso': {'alpha': [0.1, 1, 10, 100]},\n",
    "    'ElasticNet': {'alpha': [0.1, 1, 10, 100], 'l1_ratio': [0.1, 0.5, 0.9]},\n",
    "    # 'TheilSenRegressor': {'alpha': [1e-6, 1e-4, 1e-2, 1e0]},\n",
    "    'HuberRegressor': {'alpha': [1e-6, 1e-4, 1e-2, 1e0], 'epsilon': [1.0, 1.1, 1.2]},\n",
    "    'RANSACRegressor': {'min_samples': [0.5, 0.7, 0.9], 'residual_threshold': [0.1, 1, 10]}\n",
    "}\n",
    "\n",
    "\n",
    "best_base_models = []\n",
    "for model_name, param_grid in param_grids.items():\n",
    "    model = eval(f\"{model_name}()\")  # Create model instance\n",
    "    random_search = RandomizedSearchCV(model, param_grid, n_iter=10, cv=5, scoring='neg_mean_squared_error', random_state=42)\n",
    "    random_search.fit(X_train, y_train)\n",
    "    best_base_models.append((model_name, random_search.best_estimator_))\n",
    "\n",
    "\n",
    "meta_model = LinearRegression()\n",
    "\n",
    "\n",
    "stacking_model = StackingRegressor(estimators=best_base_models, final_estimator=meta_model, cv=5)\n",
    "stacking_model.fit(X_train, y_train)\n",
    "\n",
    "\n",
    "stacking_predictions = stacking_model.predict(X_test)\n",
    "\n",
    "\n",
    "r_squared = stacking_model.score(X_test, y_test)\n",
    "rmse = np.sqrt(mean_squared_error(y_test, stacking_predictions))\n",
    "mae = mean_absolute_error(y_test, stacking_predictions)\n",
    "\n",
    "print(f\"Stacking Model Metrics with RandomizedSearchCV:\")\n",
    "print(f\"  R-squared: {r_squared:.4f}\")\n",
    "print(f\"  RMSE: {rmse:.4f}\")\n",
    "print(f\"  MAE: {mae:.4f}\")"
   ]
  }
 ],
 "metadata": {
  "kernelspec": {
   "display_name": "Python 3",
   "language": "python",
   "name": "python3"
  },
  "language_info": {
   "codemirror_mode": {
    "name": "ipython",
    "version": 3
   },
   "file_extension": ".py",
   "mimetype": "text/x-python",
   "name": "python",
   "nbconvert_exporter": "python",
   "pygments_lexer": "ipython3",
   "version": "3.11.5"
  }
 },
 "nbformat": 4,
 "nbformat_minor": 2
}
