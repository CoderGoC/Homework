{
 "cells": [
  {
   "cell_type": "code",
   "execution_count": 167,
   "metadata": {},
   "outputs": [],
   "source": [
    "import numpy as np\n",
    "import pandas as pd\n",
    "from sklearn.datasets import fetch_california_housing\n",
    "from sklearn.linear_model import LinearRegression, Ridge, Lasso, ElasticNet\n",
    "from sklearn.model_selection import cross_val_score, KFold, train_test_split\n",
    "from sklearn.metrics import mean_squared_error, mean_absolute_error, r2_score\n",
    "from sklearn.preprocessing import OrdinalEncoder\n",
    "from sklearn.pipeline import Pipeline\n",
    "from sklearn.model_selection import GridSearchCV, train_test_split, RandomizedSearchCV\n",
    "from sklearn.preprocessing import PolynomialFeatures\n",
    "import warnings\n",
    "import re\n",
    "import seaborn as sns\n",
    "import plotly.express as px\n",
    "import matplotlib.pyplot as plt\n",
    "warnings.filterwarnings('ignore')\n"
   ]
  },
  {
   "cell_type": "code",
   "execution_count": 168,
   "metadata": {},
   "outputs": [
    {
     "data": {
      "text/plain": [
       "(Index(['id', 'brand', 'model', 'model_year', 'milage', 'fuel_type', 'engine',\n",
       "        'transmission', 'ext_col', 'int_col', 'accident', 'clean_title',\n",
       "        'price'],\n",
       "       dtype='object'),\n",
       " RangeIndex(start=0, stop=54273, step=1))"
      ]
     },
     "execution_count": 168,
     "metadata": {},
     "output_type": "execute_result"
    }
   ],
   "source": [
    "data = pd.read_csv('car_prices.csv')\n",
    "col = data.columns\n",
    "index = data.index\n",
    "\n",
    "col, index"
   ]
  },
  {
   "cell_type": "code",
   "execution_count": 169,
   "metadata": {},
   "outputs": [
    {
     "data": {
      "text/html": [
       "<div>\n",
       "<style scoped>\n",
       "    .dataframe tbody tr th:only-of-type {\n",
       "        vertical-align: middle;\n",
       "    }\n",
       "\n",
       "    .dataframe tbody tr th {\n",
       "        vertical-align: top;\n",
       "    }\n",
       "\n",
       "    .dataframe thead th {\n",
       "        text-align: right;\n",
       "    }\n",
       "</style>\n",
       "<table border=\"1\" class=\"dataframe\">\n",
       "  <thead>\n",
       "    <tr style=\"text-align: right;\">\n",
       "      <th></th>\n",
       "      <th>id</th>\n",
       "      <th>brand</th>\n",
       "      <th>model</th>\n",
       "      <th>model_year</th>\n",
       "      <th>milage</th>\n",
       "      <th>fuel_type</th>\n",
       "      <th>engine</th>\n",
       "      <th>transmission</th>\n",
       "      <th>ext_col</th>\n",
       "      <th>int_col</th>\n",
       "      <th>accident</th>\n",
       "      <th>clean_title</th>\n",
       "      <th>price</th>\n",
       "    </tr>\n",
       "  </thead>\n",
       "  <tbody>\n",
       "    <tr>\n",
       "      <th>0</th>\n",
       "      <td>0</td>\n",
       "      <td>Ford</td>\n",
       "      <td>F-150 Lariat</td>\n",
       "      <td>2018</td>\n",
       "      <td>74349</td>\n",
       "      <td>Gasoline</td>\n",
       "      <td>375.0HP 3.5L V6 Cylinder Engine Gasoline Fuel</td>\n",
       "      <td>10-Speed A/T</td>\n",
       "      <td>Blue</td>\n",
       "      <td>Gray</td>\n",
       "      <td>None reported</td>\n",
       "      <td>Yes</td>\n",
       "      <td>11000</td>\n",
       "    </tr>\n",
       "    <tr>\n",
       "      <th>1</th>\n",
       "      <td>1</td>\n",
       "      <td>BMW</td>\n",
       "      <td>335 i</td>\n",
       "      <td>2007</td>\n",
       "      <td>80000</td>\n",
       "      <td>Gasoline</td>\n",
       "      <td>300.0HP 3.0L Straight 6 Cylinder Engine Gasoli...</td>\n",
       "      <td>6-Speed M/T</td>\n",
       "      <td>Black</td>\n",
       "      <td>Black</td>\n",
       "      <td>None reported</td>\n",
       "      <td>Yes</td>\n",
       "      <td>8250</td>\n",
       "    </tr>\n",
       "    <tr>\n",
       "      <th>2</th>\n",
       "      <td>2</td>\n",
       "      <td>Jaguar</td>\n",
       "      <td>XF Luxury</td>\n",
       "      <td>2009</td>\n",
       "      <td>91491</td>\n",
       "      <td>Gasoline</td>\n",
       "      <td>300.0HP 4.2L 8 Cylinder Engine Gasoline Fuel</td>\n",
       "      <td>6-Speed A/T</td>\n",
       "      <td>Purple</td>\n",
       "      <td>Beige</td>\n",
       "      <td>None reported</td>\n",
       "      <td>Yes</td>\n",
       "      <td>15000</td>\n",
       "    </tr>\n",
       "    <tr>\n",
       "      <th>3</th>\n",
       "      <td>3</td>\n",
       "      <td>BMW</td>\n",
       "      <td>X7 xDrive40i</td>\n",
       "      <td>2022</td>\n",
       "      <td>2437</td>\n",
       "      <td>Hybrid</td>\n",
       "      <td>335.0HP 3.0L Straight 6 Cylinder Engine Gasoli...</td>\n",
       "      <td>Transmission w/Dual Shift Mode</td>\n",
       "      <td>Gray</td>\n",
       "      <td>Brown</td>\n",
       "      <td>None reported</td>\n",
       "      <td>Yes</td>\n",
       "      <td>63500</td>\n",
       "    </tr>\n",
       "    <tr>\n",
       "      <th>4</th>\n",
       "      <td>4</td>\n",
       "      <td>Pontiac</td>\n",
       "      <td>Firebird Base</td>\n",
       "      <td>2001</td>\n",
       "      <td>111000</td>\n",
       "      <td>Gasoline</td>\n",
       "      <td>200.0HP 3.8L V6 Cylinder Engine Gasoline Fuel</td>\n",
       "      <td>A/T</td>\n",
       "      <td>White</td>\n",
       "      <td>Black</td>\n",
       "      <td>None reported</td>\n",
       "      <td>Yes</td>\n",
       "      <td>7850</td>\n",
       "    </tr>\n",
       "  </tbody>\n",
       "</table>\n",
       "</div>"
      ],
      "text/plain": [
       "   id    brand          model  model_year  milage fuel_type  \\\n",
       "0   0     Ford   F-150 Lariat        2018   74349  Gasoline   \n",
       "1   1      BMW          335 i        2007   80000  Gasoline   \n",
       "2   2   Jaguar      XF Luxury        2009   91491  Gasoline   \n",
       "3   3      BMW   X7 xDrive40i        2022    2437    Hybrid   \n",
       "4   4  Pontiac  Firebird Base        2001  111000  Gasoline   \n",
       "\n",
       "                                              engine  \\\n",
       "0      375.0HP 3.5L V6 Cylinder Engine Gasoline Fuel   \n",
       "1  300.0HP 3.0L Straight 6 Cylinder Engine Gasoli...   \n",
       "2       300.0HP 4.2L 8 Cylinder Engine Gasoline Fuel   \n",
       "3  335.0HP 3.0L Straight 6 Cylinder Engine Gasoli...   \n",
       "4      200.0HP 3.8L V6 Cylinder Engine Gasoline Fuel   \n",
       "\n",
       "                     transmission ext_col int_col       accident clean_title  \\\n",
       "0                    10-Speed A/T    Blue    Gray  None reported         Yes   \n",
       "1                     6-Speed M/T   Black   Black  None reported         Yes   \n",
       "2                     6-Speed A/T  Purple   Beige  None reported         Yes   \n",
       "3  Transmission w/Dual Shift Mode    Gray   Brown  None reported         Yes   \n",
       "4                             A/T   White   Black  None reported         Yes   \n",
       "\n",
       "   price  \n",
       "0  11000  \n",
       "1   8250  \n",
       "2  15000  \n",
       "3  63500  \n",
       "4   7850  "
      ]
     },
     "execution_count": 169,
     "metadata": {},
     "output_type": "execute_result"
    }
   ],
   "source": [
    "data.head()"
   ]
  },
  {
   "cell_type": "markdown",
   "metadata": {},
   "source": [
    "#### Uniqual datalar sonini korib chiqamiz har bir column uchun"
   ]
  },
  {
   "cell_type": "code",
   "execution_count": 170,
   "metadata": {},
   "outputs": [
    {
     "name": "stdout",
     "output_type": "stream",
     "text": [
      "id: 54273\n",
      "brand: 53\n",
      "model: 1827\n",
      "model_year: 34\n",
      "milage: 3212\n",
      "fuel_type: 7\n",
      "engine: 1061\n",
      "transmission: 46\n",
      "ext_col: 260\n",
      "int_col: 124\n",
      "accident: 2\n",
      "clean_title: 1\n",
      "price: 1481\n"
     ]
    }
   ],
   "source": [
    "for i in col:\n",
    "    print(f\"{i}: {data[i].nunique()}\")\n",
    "    "
   ]
  },
  {
   "cell_type": "markdown",
   "metadata": {},
   "source": [
    "#### Feature enginering qilamiz\n"
   ]
  },
  {
   "cell_type": "code",
   "execution_count": 171,
   "metadata": {},
   "outputs": [],
   "source": [
    "def feature_engine(engine):\n",
    "    if pd.isna(engine):\n",
    "        return pd.Series([np.nan, np.nan, np.nan, np.nan, np.nan])\n",
    "\n",
    "    hp = re.search(r'(\\d+\\.?\\d*)HP', engine)\n",
    "    liter = re.search(r'(\\d+\\.?\\d*)L', engine)\n",
    "    motor = re.search(r'(Straight|V)\\s*\\d*', engine)\n",
    "    cylinder = re.search(r'(\\d+)\\s*Cylinder', engine)\n",
    "    fuel = re.search(r'(Gasoline|Hybrid|Flex|Diesel)', engine)\n",
    "    \n",
    "    return pd.Series([\n",
    "        hp.group(1) if hp else np.nan,\n",
    "        liter.group(1) if liter else np.nan,\n",
    "        motor.group(0) if motor else np.nan,\n",
    "        cylinder.group(1) if cylinder else np.nan,\n",
    "        fuel.group(1) if fuel else np.nan\n",
    "    ])\n",
    "\n",
    "\n"
   ]
  },
  {
   "cell_type": "markdown",
   "metadata": {},
   "source": [
    "#### NaN va zero ustunlarni 2ta metrica yani mode va mean boyicha toldirib olamiz feature enginering qilgandan keyin "
   ]
  },
  {
   "cell_type": "code",
   "execution_count": 172,
   "metadata": {},
   "outputs": [],
   "source": [
    "### Numeric datalani mean boyicha nan va zerolarini toldirib olamiz\n",
    "\n",
    "def fillna_mean(df, col, columns):\n",
    "    print(f\"Col: {col}, Columns: {columns}, Nan: {df[col].isna().sum()}\", end='')\n",
    "    value = df[df[col].notna()].groupby(by=columns)[col].mean().reset_index()\n",
    "    df = pd.merge(df, value, on=columns, how='left', suffixes=('', '_mean'))\n",
    "    df[col] = df[col].fillna(df[col + '_mean'])\n",
    "    df.drop(columns=[col + '_mean'], inplace=True)\n",
    "    print(f\", After Clean: {df[col].isna().sum()}\")\n",
    "    return df\n",
    "\n",
    "\n",
    "###  Objective ustunlardagi nan va zero datalarni  modelari boyicha toldirib olamiz\n",
    "\n",
    "def fillna_mode(df, col, columns):\n",
    "    print(f\"Col: {col}, Columns: {columns}, Nan: {df[col].isna().sum()}\", end='')\n",
    "    mode_values = df.groupby(columns)[col].apply(lambda x: x.mode().iloc[0] if not x.mode().empty else pd.NA).reset_index()\n",
    "    df = pd.merge(df, mode_values, on=columns, how='left', suffixes=('', '_mode'))\n",
    "    df[col] = df[col].fillna(df[col + '_mode'])\n",
    "    df.drop(columns=[col + '_mode'], inplace=True)\n",
    "\n",
    "    print(f\", After Clean: {df[col].isna().sum()}\")\n",
    "    return df\n",
    "\n",
    "def to_numeric(x):\n",
    "    try:\n",
    "        return float(x)\n",
    "    except ValueError as err:\n",
    "        print(err)\n",
    "        return np.nan\n"
   ]
  },
  {
   "cell_type": "markdown",
   "metadata": {},
   "source": [
    "#### datalarni price ustuini boyicha sortlab olamiz"
   ]
  },
  {
   "cell_type": "code",
   "execution_count": 173,
   "metadata": {},
   "outputs": [],
   "source": [
    "def ordinal_encoder(df, column, on):\n",
    "\n",
    "    avg_prices = df.groupby(column)[on].mean().reset_index()\n",
    "    avg_prices.columns = [column, 'avg_price']\n",
    "    avg_prices = avg_prices.sort_values(by='avg_price').reset_index(drop=True)\n",
    "    avg_prices[column+'_rank'] = avg_prices.index + 1\n",
    "    return pd.merge(df, avg_prices[[column, column+'_rank']], on=column, how='left')"
   ]
  },
  {
   "cell_type": "markdown",
   "metadata": {},
   "source": [
    "####  Feature enginering qilamiz engine ustunidagi datalarni"
   ]
  },
  {
   "cell_type": "code",
   "execution_count": 174,
   "metadata": {},
   "outputs": [],
   "source": [
    "new_columns = ['hp', 'litr', 'motor', 'Cylinder', 'fuel']\n",
    "data[new_columns] = data['engine'].apply(feature_engine)"
   ]
  },
  {
   "cell_type": "code",
   "execution_count": 175,
   "metadata": {},
   "outputs": [
    {
     "data": {
      "text/html": [
       "<div>\n",
       "<style scoped>\n",
       "    .dataframe tbody tr th:only-of-type {\n",
       "        vertical-align: middle;\n",
       "    }\n",
       "\n",
       "    .dataframe tbody tr th {\n",
       "        vertical-align: top;\n",
       "    }\n",
       "\n",
       "    .dataframe thead th {\n",
       "        text-align: right;\n",
       "    }\n",
       "</style>\n",
       "<table border=\"1\" class=\"dataframe\">\n",
       "  <thead>\n",
       "    <tr style=\"text-align: right;\">\n",
       "      <th></th>\n",
       "      <th>id</th>\n",
       "      <th>brand</th>\n",
       "      <th>model</th>\n",
       "      <th>model_year</th>\n",
       "      <th>milage</th>\n",
       "      <th>fuel_type</th>\n",
       "      <th>engine</th>\n",
       "      <th>transmission</th>\n",
       "      <th>ext_col</th>\n",
       "      <th>int_col</th>\n",
       "      <th>accident</th>\n",
       "      <th>clean_title</th>\n",
       "      <th>price</th>\n",
       "      <th>hp</th>\n",
       "      <th>litr</th>\n",
       "      <th>motor</th>\n",
       "      <th>Cylinder</th>\n",
       "      <th>fuel</th>\n",
       "    </tr>\n",
       "  </thead>\n",
       "  <tbody>\n",
       "    <tr>\n",
       "      <th>0</th>\n",
       "      <td>0</td>\n",
       "      <td>Ford</td>\n",
       "      <td>F-150 Lariat</td>\n",
       "      <td>2018</td>\n",
       "      <td>74349</td>\n",
       "      <td>Gasoline</td>\n",
       "      <td>375.0HP 3.5L V6 Cylinder Engine Gasoline Fuel</td>\n",
       "      <td>10-Speed A/T</td>\n",
       "      <td>Blue</td>\n",
       "      <td>Gray</td>\n",
       "      <td>None reported</td>\n",
       "      <td>Yes</td>\n",
       "      <td>11000</td>\n",
       "      <td>375.0</td>\n",
       "      <td>3.5</td>\n",
       "      <td>V6</td>\n",
       "      <td>6</td>\n",
       "      <td>Gasoline</td>\n",
       "    </tr>\n",
       "    <tr>\n",
       "      <th>1</th>\n",
       "      <td>1</td>\n",
       "      <td>BMW</td>\n",
       "      <td>335 i</td>\n",
       "      <td>2007</td>\n",
       "      <td>80000</td>\n",
       "      <td>Gasoline</td>\n",
       "      <td>300.0HP 3.0L Straight 6 Cylinder Engine Gasoli...</td>\n",
       "      <td>6-Speed M/T</td>\n",
       "      <td>Black</td>\n",
       "      <td>Black</td>\n",
       "      <td>None reported</td>\n",
       "      <td>Yes</td>\n",
       "      <td>8250</td>\n",
       "      <td>300.0</td>\n",
       "      <td>3.0</td>\n",
       "      <td>Straight 6</td>\n",
       "      <td>6</td>\n",
       "      <td>Gasoline</td>\n",
       "    </tr>\n",
       "    <tr>\n",
       "      <th>2</th>\n",
       "      <td>2</td>\n",
       "      <td>Jaguar</td>\n",
       "      <td>XF Luxury</td>\n",
       "      <td>2009</td>\n",
       "      <td>91491</td>\n",
       "      <td>Gasoline</td>\n",
       "      <td>300.0HP 4.2L 8 Cylinder Engine Gasoline Fuel</td>\n",
       "      <td>6-Speed A/T</td>\n",
       "      <td>Purple</td>\n",
       "      <td>Beige</td>\n",
       "      <td>None reported</td>\n",
       "      <td>Yes</td>\n",
       "      <td>15000</td>\n",
       "      <td>300.0</td>\n",
       "      <td>4.2</td>\n",
       "      <td>NaN</td>\n",
       "      <td>8</td>\n",
       "      <td>Gasoline</td>\n",
       "    </tr>\n",
       "    <tr>\n",
       "      <th>3</th>\n",
       "      <td>3</td>\n",
       "      <td>BMW</td>\n",
       "      <td>X7 xDrive40i</td>\n",
       "      <td>2022</td>\n",
       "      <td>2437</td>\n",
       "      <td>Hybrid</td>\n",
       "      <td>335.0HP 3.0L Straight 6 Cylinder Engine Gasoli...</td>\n",
       "      <td>Transmission w/Dual Shift Mode</td>\n",
       "      <td>Gray</td>\n",
       "      <td>Brown</td>\n",
       "      <td>None reported</td>\n",
       "      <td>Yes</td>\n",
       "      <td>63500</td>\n",
       "      <td>335.0</td>\n",
       "      <td>3.0</td>\n",
       "      <td>Straight 6</td>\n",
       "      <td>6</td>\n",
       "      <td>Gasoline</td>\n",
       "    </tr>\n",
       "    <tr>\n",
       "      <th>4</th>\n",
       "      <td>4</td>\n",
       "      <td>Pontiac</td>\n",
       "      <td>Firebird Base</td>\n",
       "      <td>2001</td>\n",
       "      <td>111000</td>\n",
       "      <td>Gasoline</td>\n",
       "      <td>200.0HP 3.8L V6 Cylinder Engine Gasoline Fuel</td>\n",
       "      <td>A/T</td>\n",
       "      <td>White</td>\n",
       "      <td>Black</td>\n",
       "      <td>None reported</td>\n",
       "      <td>Yes</td>\n",
       "      <td>7850</td>\n",
       "      <td>200.0</td>\n",
       "      <td>3.8</td>\n",
       "      <td>V6</td>\n",
       "      <td>6</td>\n",
       "      <td>Gasoline</td>\n",
       "    </tr>\n",
       "  </tbody>\n",
       "</table>\n",
       "</div>"
      ],
      "text/plain": [
       "   id    brand          model  model_year  milage fuel_type  \\\n",
       "0   0     Ford   F-150 Lariat        2018   74349  Gasoline   \n",
       "1   1      BMW          335 i        2007   80000  Gasoline   \n",
       "2   2   Jaguar      XF Luxury        2009   91491  Gasoline   \n",
       "3   3      BMW   X7 xDrive40i        2022    2437    Hybrid   \n",
       "4   4  Pontiac  Firebird Base        2001  111000  Gasoline   \n",
       "\n",
       "                                              engine  \\\n",
       "0      375.0HP 3.5L V6 Cylinder Engine Gasoline Fuel   \n",
       "1  300.0HP 3.0L Straight 6 Cylinder Engine Gasoli...   \n",
       "2       300.0HP 4.2L 8 Cylinder Engine Gasoline Fuel   \n",
       "3  335.0HP 3.0L Straight 6 Cylinder Engine Gasoli...   \n",
       "4      200.0HP 3.8L V6 Cylinder Engine Gasoline Fuel   \n",
       "\n",
       "                     transmission ext_col int_col       accident clean_title  \\\n",
       "0                    10-Speed A/T    Blue    Gray  None reported         Yes   \n",
       "1                     6-Speed M/T   Black   Black  None reported         Yes   \n",
       "2                     6-Speed A/T  Purple   Beige  None reported         Yes   \n",
       "3  Transmission w/Dual Shift Mode    Gray   Brown  None reported         Yes   \n",
       "4                             A/T   White   Black  None reported         Yes   \n",
       "\n",
       "   price     hp litr       motor Cylinder      fuel  \n",
       "0  11000  375.0  3.5          V6        6  Gasoline  \n",
       "1   8250  300.0  3.0  Straight 6        6  Gasoline  \n",
       "2  15000  300.0  4.2         NaN        8  Gasoline  \n",
       "3  63500  335.0  3.0  Straight 6        6  Gasoline  \n",
       "4   7850  200.0  3.8          V6        6  Gasoline  "
      ]
     },
     "execution_count": 175,
     "metadata": {},
     "output_type": "execute_result"
    }
   ],
   "source": [
    "data.head()"
   ]
  },
  {
   "cell_type": "code",
   "execution_count": 176,
   "metadata": {},
   "outputs": [],
   "source": [
    "data = data.drop(columns=['clean_title', 'id'])"
   ]
  },
  {
   "cell_type": "markdown",
   "metadata": {},
   "source": [
    "#### Nan va zero qiymatlarni korib chiqamiz\n"
   ]
  },
  {
   "cell_type": "code",
   "execution_count": 177,
   "metadata": {},
   "outputs": [
    {
     "data": {
      "text/plain": [
       "hp           4057\n",
       "litr          606\n",
       "motor       29640\n",
       "Cylinder     4175\n",
       "fuel         4258\n",
       "dtype: int64"
      ]
     },
     "execution_count": 177,
     "metadata": {},
     "output_type": "execute_result"
    }
   ],
   "source": [
    "data[new_columns].isna().sum()"
   ]
  },
  {
   "cell_type": "markdown",
   "metadata": {},
   "source": [
    "### Har bir yaratilgan yangi ustunlar boyicha NaN larni toldirib chiqamiz tepadagi yozgan functionlardan foydalanib"
   ]
  },
  {
   "cell_type": "markdown",
   "metadata": {},
   "source": [
    "#### HP ustuni boyicha "
   ]
  },
  {
   "cell_type": "code",
   "execution_count": 178,
   "metadata": {},
   "outputs": [
    {
     "name": "stdout",
     "output_type": "stream",
     "text": [
      "Col: hp, Columns: ['motor', 'Cylinder', 'litr'], Nan: 4057, After Clean: 4055\n",
      "Col: hp, Columns: ['motor', 'litr'], Nan: 4055, After Clean: 2809\n",
      "Col: hp, Columns: ['brand', 'model'], Nan: 2809, After Clean: 369\n",
      "Col: hp, Columns: ['litr', 'fuel_type'], Nan: 369, After Clean: 119\n",
      "Col: hp, Columns: ['model'], Nan: 119, After Clean: 111\n",
      "Col: hp, Columns: ['motor'], Nan: 111, After Clean: 107\n",
      "Col: hp, Columns: ['price', 'brand'], Nan: 107, After Clean: 23\n",
      "Col: hp, Columns: ['price', 'fuel_type'], Nan: 23, After Clean: 14\n",
      "Col: hp, Columns: ['engine'], Nan: 14, After Clean: 0\n",
      "0\n"
     ]
    }
   ],
   "source": [
    "data['hp'] = data['hp'].agg(to_numeric)\n",
    "\n",
    "data = fillna_mean(data.copy(), 'hp', ['motor', 'Cylinder', 'litr'])\n",
    "data = fillna_mean(data.copy(), 'hp', ['motor', 'litr'])\n",
    "data = fillna_mean(data.copy(), 'hp', ['brand', 'model'])\n",
    "data = fillna_mean(data.copy(), 'hp', ['litr', 'fuel_type'])\n",
    "data = fillna_mean(data.copy(), 'hp', ['model'])\n",
    "data = fillna_mean(data.copy(), 'hp', ['motor'])\n",
    "data = fillna_mean(data.copy(), 'hp', ['price', 'brand'])\n",
    "data = fillna_mean(data.copy(), 'hp', ['price', 'fuel_type'])\n",
    "data = fillna_mean(data.copy(), 'hp', ['engine'])\n",
    "\n",
    "\n",
    "\n",
    "print(data['hp'].isna().sum())"
   ]
  },
  {
   "cell_type": "markdown",
   "metadata": {},
   "source": [
    "#### Litr ustuni boyicha"
   ]
  },
  {
   "cell_type": "code",
   "execution_count": 179,
   "metadata": {},
   "outputs": [
    {
     "name": "stdout",
     "output_type": "stream",
     "text": [
      "Col: litr, Columns: ['motor', 'Cylinder', 'hp'], Nan: 606, After Clean: 606\n",
      "Col: litr, Columns: ['hp', 'fuel_type'], Nan: 606, After Clean: 396\n",
      "Col: litr, Columns: ['model'], Nan: 396, After Clean: 124\n",
      "Col: litr, Columns: ['engine'], Nan: 124, After Clean: 46\n",
      "Col: litr, Columns: ['price', 'fuel_type'], Nan: 46, After Clean: 3\n",
      "Col: litr, Columns: ['price', 'transmission'], Nan: 3, After Clean: 0\n",
      "0\n"
     ]
    }
   ],
   "source": [
    "data['litr'] = data['litr'].agg(to_numeric)\n",
    "\n",
    "\n",
    "data = fillna_mean(data.copy(), 'litr', ['motor', 'Cylinder', 'hp'])\n",
    "data = fillna_mean(data.copy(), 'litr', ['hp', 'fuel_type'])\n",
    "data = fillna_mean(data.copy(), 'litr', ['model'])\n",
    "data = fillna_mean(data.copy(), 'litr', ['engine'])\n",
    "data = fillna_mean(data.copy(), 'litr', ['price', 'fuel_type'])\n",
    "data = fillna_mean(data.copy(), 'litr', ['price', 'transmission'])\n",
    "\n",
    "\n",
    "print(data['litr'].isna().sum())"
   ]
  },
  {
   "cell_type": "markdown",
   "metadata": {},
   "source": [
    "#### Cylinder boyicha"
   ]
  },
  {
   "cell_type": "code",
   "execution_count": 180,
   "metadata": {},
   "outputs": [
    {
     "name": "stdout",
     "output_type": "stream",
     "text": [
      "Col: Cylinder, Columns: ['litr', 'hp'], Nan: 4175, After Clean: 3772\n",
      "Col: Cylinder, Columns: ['litr', 'model'], Nan: 3772, After Clean: 1383\n",
      "Col: Cylinder, Columns: ['hp', 'model'], Nan: 1383, After Clean: 1033\n",
      "Col: Cylinder, Columns: ['model'], Nan: 1033, After Clean: 632\n",
      "Col: Cylinder, Columns: ['hp', 'fuel_type'], Nan: 632, After Clean: 214\n",
      "Col: Cylinder, Columns: ['price', 'fuel_type'], Nan: 214, After Clean: 32\n",
      "Col: Cylinder, Columns: ['price', 'transmission'], Nan: 32, After Clean: 8\n",
      "Col: Cylinder, Columns: ['litr', 'fuel_type'], Nan: 8, After Clean: 2\n",
      "Col: Cylinder, Columns: ['engine'], Nan: 2, After Clean: 0\n",
      "0\n"
     ]
    }
   ],
   "source": [
    "data['Cylinder'] = data['Cylinder'].agg(to_numeric)\n",
    "\n",
    "data = fillna_mean(data.copy(), 'Cylinder', ['litr', 'hp'])\n",
    "data = fillna_mean(data.copy(), 'Cylinder', ['litr', 'model'])\n",
    "data = fillna_mean(data.copy(), 'Cylinder', ['hp', 'model'])\n",
    "data = fillna_mean(data.copy(), 'Cylinder', ['model'])\n",
    "data = fillna_mean(data.copy(), 'Cylinder', ['hp', 'fuel_type'])\n",
    "data = fillna_mean(data.copy(), 'Cylinder', ['price', 'fuel_type'])\n",
    "data = fillna_mean(data.copy(), 'Cylinder', ['price', 'transmission'])\n",
    "data = fillna_mean(data.copy(), 'Cylinder', ['litr', 'fuel_type'])\n",
    "data = fillna_mean(data.copy(), 'Cylinder', ['engine'])\n",
    "\n",
    "\n",
    "print(data['Cylinder'].isna().sum())"
   ]
  },
  {
   "cell_type": "markdown",
   "metadata": {},
   "source": [
    "#### Objectlarni yani Motor ustunini todiramiz mode boyicha\n"
   ]
  },
  {
   "cell_type": "code",
   "execution_count": 181,
   "metadata": {},
   "outputs": [
    {
     "name": "stdout",
     "output_type": "stream",
     "text": [
      "Col: motor, Columns: ['litr', 'hp', 'Cylinder', 'model'], Nan: 29640, After Clean: 28986\n",
      "Col: motor, Columns: ['litr', 'hp', 'Cylinder'], Nan: 28986, After Clean: 21847\n",
      "Col: motor, Columns: ['litr', 'hp'], Nan: 21847, After Clean: 21438\n",
      "Col: motor, Columns: ['model'], Nan: 21438, After Clean: 6649\n",
      "Col: motor, Columns: ['engine'], Nan: 6649, After Clean: 1320\n",
      "Col: motor, Columns: ['fuel_type', 'hp'], Nan: 1320, After Clean: 522\n",
      "Col: motor, Columns: ['litr', 'Cylinder'], Nan: 522, After Clean: 76\n",
      "Col: motor, Columns: ['Cylinder', 'price'], Nan: 76, After Clean: 66\n",
      "Col: motor, Columns: ['Cylinder', 'brand'], Nan: 66, After Clean: 52\n",
      "Col: motor, Columns: ['litr', 'brand'], Nan: 52, After Clean: 40\n",
      "Col: motor, Columns: ['hp', 'brand'], Nan: 40, After Clean: 12\n",
      "Col: motor, Columns: ['hp', 'fuel'], Nan: 12, After Clean: 11\n",
      "Col: motor, Columns: ['brand', 'price'], Nan: 11, After Clean: 4\n",
      "Col: motor, Columns: ['brand', 'price'], Nan: 4, After Clean: 4\n",
      "Col: motor, Columns: ['brand', 'fuel_type'], Nan: 4, After Clean: 0\n",
      "0\n"
     ]
    }
   ],
   "source": [
    "data = fillna_mode(data.copy(), 'motor', ['litr', 'hp', 'Cylinder', 'model'])\n",
    "data = fillna_mode(data.copy(), 'motor', ['litr', 'hp', 'Cylinder'])\n",
    "data = fillna_mode(data.copy(), 'motor', ['litr', 'hp'])\n",
    "data = fillna_mode(data.copy(), 'motor', ['model'])\n",
    "data = fillna_mode(data.copy(), 'motor', ['engine'])\n",
    "data = fillna_mode(data.copy(), 'motor', ['fuel_type', 'hp'])\n",
    "data = fillna_mode(data.copy(), 'motor', ['litr', 'Cylinder'])\n",
    "data = fillna_mode(data.copy(), 'motor', ['Cylinder', 'price'])\n",
    "data = fillna_mode(data.copy(), 'motor', ['Cylinder', 'brand'])\n",
    "data = fillna_mode(data.copy(), 'motor', ['litr', 'brand'])\n",
    "data = fillna_mode(data.copy(), 'motor', ['hp', 'brand'])\n",
    "data = fillna_mode(data.copy(), 'motor', ['hp', 'fuel'])\n",
    "data = fillna_mode(data.copy(), 'motor', ['brand', 'price'])\n",
    "data = fillna_mode(data.copy(), 'motor', ['brand', 'price'])\n",
    "data = fillna_mode(data.copy(), 'motor', ['brand', 'fuel_type'])\n",
    "\n",
    "\n",
    "print(data['motor'].isna().sum())"
   ]
  },
  {
   "cell_type": "markdown",
   "metadata": {},
   "source": [
    "#### Fuel ustunini toldiramiz\n"
   ]
  },
  {
   "cell_type": "code",
   "execution_count": 182,
   "metadata": {},
   "outputs": [
    {
     "name": "stdout",
     "output_type": "stream",
     "text": [
      "Col: fuel, Columns: ['litr', 'hp', 'Cylinder', 'model'], Nan: 4258, After Clean: 3855\n",
      "Col: fuel, Columns: ['litr', 'hp', 'model'], Nan: 3855, After Clean: 3756\n",
      "Col: fuel, Columns: ['hp', 'model'], Nan: 3756, After Clean: 3515\n",
      "Col: fuel, Columns: ['model'], Nan: 3515, After Clean: 787\n",
      "Col: fuel, Columns: ['motor', 'hp'], Nan: 787, After Clean: 304\n",
      "Col: fuel, Columns: ['motor', 'hp'], Nan: 304, After Clean: 304\n",
      "Col: fuel, Columns: ['motor', 'Cylinder'], Nan: 304, After Clean: 182\n",
      "Col: fuel, Columns: ['motor', 'litr'], Nan: 182, After Clean: 58\n",
      "Col: fuel, Columns: ['motor'], Nan: 58, After Clean: 0\n",
      "0\n"
     ]
    }
   ],
   "source": [
    "data = fillna_mode(data.copy(), 'fuel', ['litr', 'hp', 'Cylinder', 'model'])\n",
    "data = fillna_mode(data.copy(), 'fuel', ['litr', 'hp', 'model'])\n",
    "data = fillna_mode(data.copy(), 'fuel', ['hp', 'model'])\n",
    "data = fillna_mode(data.copy(), 'fuel', ['model'])\n",
    "data = fillna_mode(data.copy(), 'fuel', ['motor', 'hp'])\n",
    "data = fillna_mode(data.copy(), 'fuel', ['motor', 'hp'])\n",
    "data = fillna_mode(data.copy(), 'fuel', ['motor', 'Cylinder'])\n",
    "data = fillna_mode(data.copy(), 'fuel', ['motor', 'litr'])\n",
    "data = fillna_mode(data.copy(), 'fuel', ['motor'])\n",
    "\n",
    "print(data['fuel'].isna().sum())"
   ]
  },
  {
   "cell_type": "code",
   "execution_count": 183,
   "metadata": {},
   "outputs": [
    {
     "data": {
      "text/html": [
       "<div>\n",
       "<style scoped>\n",
       "    .dataframe tbody tr th:only-of-type {\n",
       "        vertical-align: middle;\n",
       "    }\n",
       "\n",
       "    .dataframe tbody tr th {\n",
       "        vertical-align: top;\n",
       "    }\n",
       "\n",
       "    .dataframe thead th {\n",
       "        text-align: right;\n",
       "    }\n",
       "</style>\n",
       "<table border=\"1\" class=\"dataframe\">\n",
       "  <thead>\n",
       "    <tr style=\"text-align: right;\">\n",
       "      <th></th>\n",
       "      <th>brand</th>\n",
       "      <th>model</th>\n",
       "      <th>model_year</th>\n",
       "      <th>milage</th>\n",
       "      <th>fuel_type</th>\n",
       "      <th>engine</th>\n",
       "      <th>transmission</th>\n",
       "      <th>ext_col</th>\n",
       "      <th>int_col</th>\n",
       "      <th>accident</th>\n",
       "      <th>price</th>\n",
       "      <th>hp</th>\n",
       "      <th>litr</th>\n",
       "      <th>motor</th>\n",
       "      <th>Cylinder</th>\n",
       "      <th>fuel</th>\n",
       "    </tr>\n",
       "  </thead>\n",
       "  <tbody>\n",
       "    <tr>\n",
       "      <th>0</th>\n",
       "      <td>Ford</td>\n",
       "      <td>F-150 Lariat</td>\n",
       "      <td>2018</td>\n",
       "      <td>74349</td>\n",
       "      <td>Gasoline</td>\n",
       "      <td>375.0HP 3.5L V6 Cylinder Engine Gasoline Fuel</td>\n",
       "      <td>10-Speed A/T</td>\n",
       "      <td>Blue</td>\n",
       "      <td>Gray</td>\n",
       "      <td>None reported</td>\n",
       "      <td>11000</td>\n",
       "      <td>375.0</td>\n",
       "      <td>3.5</td>\n",
       "      <td>V6</td>\n",
       "      <td>6.0</td>\n",
       "      <td>Gasoline</td>\n",
       "    </tr>\n",
       "  </tbody>\n",
       "</table>\n",
       "</div>"
      ],
      "text/plain": [
       "  brand         model  model_year  milage fuel_type  \\\n",
       "0  Ford  F-150 Lariat        2018   74349  Gasoline   \n",
       "\n",
       "                                          engine  transmission ext_col  \\\n",
       "0  375.0HP 3.5L V6 Cylinder Engine Gasoline Fuel  10-Speed A/T    Blue   \n",
       "\n",
       "  int_col       accident  price     hp  litr motor  Cylinder      fuel  \n",
       "0    Gray  None reported  11000  375.0   3.5    V6       6.0  Gasoline  "
      ]
     },
     "execution_count": 183,
     "metadata": {},
     "output_type": "execute_result"
    }
   ],
   "source": [
    "data.head(1)"
   ]
  },
  {
   "cell_type": "code",
   "execution_count": 184,
   "metadata": {},
   "outputs": [
    {
     "data": {
      "text/plain": [
       "hp          0\n",
       "litr        0\n",
       "motor       0\n",
       "Cylinder    0\n",
       "fuel        0\n",
       "dtype: int64"
      ]
     },
     "execution_count": 184,
     "metadata": {},
     "output_type": "execute_result"
    }
   ],
   "source": [
    "data[new_columns].isna().sum()"
   ]
  },
  {
   "cell_type": "code",
   "execution_count": 185,
   "metadata": {},
   "outputs": [
    {
     "data": {
      "text/plain": [
       "Index(['brand', 'model', 'fuel_type', 'engine', 'transmission', 'ext_col',\n",
       "       'int_col', 'accident', 'motor', 'fuel'],\n",
       "      dtype='object')"
      ]
     },
     "execution_count": 185,
     "metadata": {},
     "output_type": "execute_result"
    }
   ],
   "source": [
    "data.select_dtypes(include='object').columns"
   ]
  },
  {
   "cell_type": "code",
   "execution_count": 186,
   "metadata": {},
   "outputs": [],
   "source": [
    "for col in data.select_dtypes(include='object').columns:\n",
    "    data = ordinal_encoder(data.copy(), col, 'price')"
   ]
  },
  {
   "cell_type": "code",
   "execution_count": 187,
   "metadata": {},
   "outputs": [
    {
     "data": {
      "text/html": [
       "<div>\n",
       "<style scoped>\n",
       "    .dataframe tbody tr th:only-of-type {\n",
       "        vertical-align: middle;\n",
       "    }\n",
       "\n",
       "    .dataframe tbody tr th {\n",
       "        vertical-align: top;\n",
       "    }\n",
       "\n",
       "    .dataframe thead th {\n",
       "        text-align: right;\n",
       "    }\n",
       "</style>\n",
       "<table border=\"1\" class=\"dataframe\">\n",
       "  <thead>\n",
       "    <tr style=\"text-align: right;\">\n",
       "      <th></th>\n",
       "      <th>brand</th>\n",
       "      <th>model</th>\n",
       "      <th>model_year</th>\n",
       "      <th>milage</th>\n",
       "      <th>fuel_type</th>\n",
       "      <th>engine</th>\n",
       "      <th>transmission</th>\n",
       "      <th>ext_col</th>\n",
       "      <th>int_col</th>\n",
       "      <th>accident</th>\n",
       "      <th>...</th>\n",
       "      <th>brand_rank</th>\n",
       "      <th>model_rank</th>\n",
       "      <th>fuel_type_rank</th>\n",
       "      <th>engine_rank</th>\n",
       "      <th>transmission_rank</th>\n",
       "      <th>ext_col_rank</th>\n",
       "      <th>int_col_rank</th>\n",
       "      <th>accident_rank</th>\n",
       "      <th>motor_rank</th>\n",
       "      <th>fuel_rank</th>\n",
       "    </tr>\n",
       "  </thead>\n",
       "  <tbody>\n",
       "    <tr>\n",
       "      <th>0</th>\n",
       "      <td>Ford</td>\n",
       "      <td>F-150 Lariat</td>\n",
       "      <td>2018</td>\n",
       "      <td>74349</td>\n",
       "      <td>Gasoline</td>\n",
       "      <td>375.0HP 3.5L V6 Cylinder Engine Gasoline Fuel</td>\n",
       "      <td>10-Speed A/T</td>\n",
       "      <td>Blue</td>\n",
       "      <td>Gray</td>\n",
       "      <td>None reported</td>\n",
       "      <td>...</td>\n",
       "      <td>31</td>\n",
       "      <td>1256</td>\n",
       "      <td>4</td>\n",
       "      <td>821</td>\n",
       "      <td>28</td>\n",
       "      <td>91</td>\n",
       "      <td>14</td>\n",
       "      <td>2</td>\n",
       "      <td>1</td>\n",
       "      <td>3</td>\n",
       "    </tr>\n",
       "  </tbody>\n",
       "</table>\n",
       "<p>1 rows × 26 columns</p>\n",
       "</div>"
      ],
      "text/plain": [
       "  brand         model  model_year  milage fuel_type  \\\n",
       "0  Ford  F-150 Lariat        2018   74349  Gasoline   \n",
       "\n",
       "                                          engine  transmission ext_col  \\\n",
       "0  375.0HP 3.5L V6 Cylinder Engine Gasoline Fuel  10-Speed A/T    Blue   \n",
       "\n",
       "  int_col       accident  ...  brand_rank  model_rank  fuel_type_rank  \\\n",
       "0    Gray  None reported  ...          31        1256               4   \n",
       "\n",
       "  engine_rank  transmission_rank ext_col_rank  int_col_rank  accident_rank  \\\n",
       "0         821                 28           91            14              2   \n",
       "\n",
       "   motor_rank  fuel_rank  \n",
       "0           1          3  \n",
       "\n",
       "[1 rows x 26 columns]"
      ]
     },
     "execution_count": 187,
     "metadata": {},
     "output_type": "execute_result"
    }
   ],
   "source": [
    "data.head(1)"
   ]
  },
  {
   "cell_type": "markdown",
   "metadata": {},
   "source": [
    "### Chiziqli model"
   ]
  },
  {
   "cell_type": "code",
   "execution_count": 188,
   "metadata": {},
   "outputs": [
    {
     "name": "stdout",
     "output_type": "stream",
     "text": [
      "CV RMSE: 68040.11252712364\n",
      "RMSE: 69944.67979996078\n",
      "MAE: 19389.99585093425\n",
      "R2: 0.1094867627865036\n"
     ]
    }
   ],
   "source": [
    "columns = ['model_year',\n",
    "           'milage',\n",
    "           'hp',\n",
    "           'litr',\n",
    "           'Cylinder',\n",
    "           'brand_rank',\n",
    "           'model_rank',\n",
    "           'fuel_type_rank',\n",
    "           'engine_rank',\n",
    "           'transmission_rank',\n",
    "           'ext_col_rank',\n",
    "           'int_col_rank',\n",
    "           'accident_rank',\n",
    "           'motor_rank',\n",
    "           'fuel_rank'\n",
    "           ]\n",
    "\n",
    "X = data[columns]\n",
    "y = data['price']\n",
    "\n",
    "X_train, X_test, y_train, y_test = train_test_split(X, y, test_size=0.37, random_state=125)\n",
    "\n",
    "model = LinearRegression()\n",
    "\n",
    "cv = KFold(n_splits=5, shuffle=True, random_state=42)\n",
    "cv_rmse = np.sqrt(np.mean((-cross_val_score(model, X_train, y_train, cv=cv, scoring='neg_mean_squared_error'))))\n",
    "\n",
    "model.fit(X_train, y_train)\n",
    "\n",
    "y_pred = model.predict(X_test)\n",
    "\n",
    "rmse = mean_squared_error(y_test, y_pred, squared=False)\n",
    "mae = mean_absolute_error(y_test, y_pred)\n",
    "r2 = r2_score(y_test, y_pred)\n",
    "\n",
    "print(f'CV RMSE: {cv_rmse}')\n",
    "print(f'RMSE: {rmse}')\n",
    "print(f'MAE: {mae}')\n",
    "print(f'R2: {r2}')"
   ]
  },
  {
   "cell_type": "markdown",
   "metadata": {},
   "source": [
    "#### Polynomial Reg models"
   ]
  },
  {
   "cell_type": "code",
   "execution_count": 189,
   "metadata": {},
   "outputs": [
    {
     "name": "stdout",
     "output_type": "stream",
     "text": [
      "CV RMSE: 67275.41297095054\n",
      "RMSE: 68974.20593149104\n",
      "MAE: 18491.2921885455\n",
      "R2: 0.13402685237038292\n"
     ]
    }
   ],
   "source": [
    "poly = PolynomialFeatures(degree=2, include_bias=False)\n",
    "X_poly = poly.fit_transform(X)\n",
    "\n",
    "\n",
    "X_train, X_test, y_train, y_test = train_test_split(X_poly, y, test_size=0.37, random_state=125)\n",
    "\n",
    "model = LinearRegression()\n",
    "\n",
    "cv = KFold(n_splits=5, shuffle=True, random_state=42)\n",
    "cv_rmse = np.sqrt(np.mean((-cross_val_score(model, X_train, y_train, cv=cv, scoring='neg_mean_squared_error'))))\n",
    "\n",
    "model.fit(X_train, y_train)\n",
    "\n",
    "y_pred = model.predict(X_test)\n",
    "\n",
    "rmse = mean_squared_error(y_test, y_pred, squared=False)\n",
    "mae = mean_absolute_error(y_test, y_pred)\n",
    "r2 = r2_score(y_test, y_pred)\n",
    "\n",
    "print(f'CV RMSE: {cv_rmse}')\n",
    "print(f'RMSE: {rmse}')\n",
    "print(f'MAE: {mae}')\n",
    "print(f'R2: {r2}')"
   ]
  },
  {
   "cell_type": "markdown",
   "metadata": {},
   "source": [
    "#### Outlierlarni filtirlab olib korib chiqamiz\n"
   ]
  },
  {
   "cell_type": "code",
   "execution_count": 190,
   "metadata": {},
   "outputs": [],
   "source": [
    "data1 = data[data['price'] <= data['price'].quantile(0.95)]"
   ]
  },
  {
   "cell_type": "code",
   "execution_count": 191,
   "metadata": {},
   "outputs": [],
   "source": [
    "X = data1[columns]\n",
    "y = data1['price']"
   ]
  },
  {
   "cell_type": "code",
   "execution_count": 192,
   "metadata": {},
   "outputs": [
    {
     "name": "stdout",
     "output_type": "stream",
     "text": [
      "CV RMSE: 12015.062360617138\n",
      "RMSE: 11961.465478650307\n",
      "MAE: 8395.475149823636\n",
      "R2: 0.6362014146709627\n"
     ]
    }
   ],
   "source": [
    "poly = PolynomialFeatures(degree=2, include_bias=False)\n",
    "X_poly = poly.fit_transform(X)\n",
    "\n",
    "\n",
    "X_train, X_test, y_train, y_test = train_test_split(X_poly, y, test_size=0.37, random_state=125)\n",
    "\n",
    "model = LinearRegression()\n",
    "\n",
    "cv = KFold(n_splits=5, shuffle=True, random_state=42)\n",
    "cv_rmse = np.sqrt(np.mean((-cross_val_score(model, X_train, y_train, cv=cv, scoring='neg_mean_squared_error'))))\n",
    "\n",
    "model.fit(X_train, y_train)\n",
    "\n",
    "y_pred = model.predict(X_test)\n",
    "\n",
    "rmse = mean_squared_error(y_test, y_pred, squared=False)\n",
    "mae = mean_absolute_error(y_test, y_pred)\n",
    "r2 = r2_score(y_test, y_pred)\n",
    "\n",
    "print(f'CV RMSE: {cv_rmse}')\n",
    "print(f'RMSE: {rmse}')\n",
    "print(f'MAE: {mae}')\n",
    "print(f'R2: {r2}')"
   ]
  }
 ],
 "metadata": {
  "kernelspec": {
   "display_name": "Python 3",
   "language": "python",
   "name": "python3"
  },
  "language_info": {
   "codemirror_mode": {
    "name": "ipython",
    "version": 3
   },
   "file_extension": ".py",
   "mimetype": "text/x-python",
   "name": "python",
   "nbconvert_exporter": "python",
   "pygments_lexer": "ipython3",
   "version": "3.11.5"
  }
 },
 "nbformat": 4,
 "nbformat_minor": 2
}
