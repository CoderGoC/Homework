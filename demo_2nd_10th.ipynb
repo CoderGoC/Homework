{
 "cells": [
  {
   "cell_type": "code",
   "execution_count": 28,
   "metadata": {},
   "outputs": [],
   "source": [
    "import numpy as np\n",
    "import pandas as pd\n",
    "from sklearn.linear_model import LinearRegression\n",
    "from sklearn.model_selection import cross_val_score, KFold\n",
    "from sklearn.metrics import mean_squared_error\n",
    "import numpy as np\n",
    "import pandas as pd\n",
    "from sklearn.linear_model import LinearRegression\n",
    "from sklearn.model_selection import train_test_split, GridSearchCV, RandomizedSearchCV\n",
    "from sklearn.metrics import mean_squared_error\n",
    "from sklearn.linear_model import LinearRegression\n",
    "from sklearn.preprocessing import PolynomialFeatures\n",
    "from sklearn.model_selection import KFold, cross_val_score\n",
    "from sklearn.linear_model import Ridge, Lasso, ElasticNet\n",
    "import  warnings\n",
    "warnings.filterwarnings(\"ignore\")\n",
    "import seaborn as sns\n",
    "import plotly.express as px\n",
    "import matplotlib as plt"
   ]
  },
  {
   "cell_type": "code",
   "execution_count": 29,
   "metadata": {},
   "outputs": [
    {
     "data": {
      "text/html": [
       "<div>\n",
       "<style scoped>\n",
       "    .dataframe tbody tr th:only-of-type {\n",
       "        vertical-align: middle;\n",
       "    }\n",
       "\n",
       "    .dataframe tbody tr th {\n",
       "        vertical-align: top;\n",
       "    }\n",
       "\n",
       "    .dataframe thead th {\n",
       "        text-align: right;\n",
       "    }\n",
       "</style>\n",
       "<table border=\"1\" class=\"dataframe\">\n",
       "  <thead>\n",
       "    <tr style=\"text-align: right;\">\n",
       "      <th></th>\n",
       "      <th>x1</th>\n",
       "      <th>y</th>\n",
       "    </tr>\n",
       "  </thead>\n",
       "  <tbody>\n",
       "    <tr>\n",
       "      <th>0</th>\n",
       "      <td>15.488135</td>\n",
       "      <td>14.236548</td>\n",
       "    </tr>\n",
       "    <tr>\n",
       "      <th>1</th>\n",
       "      <td>17.151894</td>\n",
       "      <td>16.458941</td>\n",
       "    </tr>\n",
       "    <tr>\n",
       "      <th>2</th>\n",
       "      <td>16.027634</td>\n",
       "      <td>14.375872</td>\n",
       "    </tr>\n",
       "    <tr>\n",
       "      <th>3</th>\n",
       "      <td>15.448832</td>\n",
       "      <td>18.917730</td>\n",
       "    </tr>\n",
       "    <tr>\n",
       "      <th>4</th>\n",
       "      <td>1.139401</td>\n",
       "      <td>108.474556</td>\n",
       "    </tr>\n",
       "  </tbody>\n",
       "</table>\n",
       "</div>"
      ],
      "text/plain": [
       "          x1           y\n",
       "0  15.488135   14.236548\n",
       "1  17.151894   16.458941\n",
       "2  16.027634   14.375872\n",
       "3  15.448832   18.917730\n",
       "4   1.139401  108.474556"
      ]
     },
     "execution_count": 29,
     "metadata": {},
     "output_type": "execute_result"
    }
   ],
   "source": [
    "data = pd.read_csv(\"outlier_dataset.csv\")\n",
    "data.head()"
   ]
  },
  {
   "cell_type": "code",
   "execution_count": 30,
   "metadata": {},
   "outputs": [
    {
     "data": {
      "application/vnd.plotly.v1+json": {
       "config": {
        "plotlyServerURL": "https://plot.ly"
       },
       "data": [
        {
         "hovertemplate": "x1=%{x}<br>y=%{y}<extra></extra>",
         "legendgroup": "",
         "marker": {
          "color": "#636efa",
          "symbol": "circle"
         },
         "mode": "markers",
         "name": "",
         "orientation": "v",
         "showlegend": false,
         "type": "scatter",
         "x": [
          15.488135039273248,
          17.151893663724195,
          16.02763376071644,
          15.448831829968968,
          1.139400684543301,
          -0.5096521817516535,
          0.4074618362411104,
          0.7610377251469934,
          0.4438632327454256,
          0.3781625196021735,
          -1.4543656745987648,
          -1.0707526215105423,
          -0.4136189807597473,
          1.9229420264803847,
          -0.8954665611936756,
          -0.3873268174079523,
          -1.5447710967776116,
          -0.8034096641738411,
          -0.4555325035173431,
          -0.510805137568873,
          0.166673495372529,
          0.9222066715665268,
          1.1787795711596507,
          -0.6743326606573761,
          -0.5788496647644155,
          1.8958891760305832,
          0.4393917012645369,
          -0.6343220936809636,
          -1.6301983469660446,
          2.240893199201458,
          -0.437820044744434,
          -1.7062701906250126,
          1.4805147914344243,
          0.3563663971744019,
          -1.3477590611424464,
          0.144043571160878,
          1.3263858966870303,
          2.16323594928069,
          0.6536185954403606,
          -1.0002153473895647,
          -0.6436184028328905,
          -0.8264385386590144,
          -1.225435518830168,
          -0.2127402802139687,
          0.7290905621775369,
          -0.1496345403276707,
          -1.980796468223927,
          0.5765908166149409,
          0.5232766605317537,
          -0.4380743016111864,
          0.2670508693491829,
          -1.0994007905841945,
          -0.2082987555779948,
          0.6252314510271875,
          -1.2527953600499262,
          -1.2928569097234486,
          -0.635846078378881,
          -1.2348258203536526,
          -0.2051582637658008,
          1.7858704939058352,
          -1.3159074105115212,
          0.3336743273742668,
          0.4283318705304176,
          2.269754623987608,
          -0.6895497777502005,
          0.045758517301446,
          -1.7262826023316769,
          0.9494208069257608,
          2.383144774863942,
          0.6722947570124355,
          -0.4017809362082619,
          -0.6848100909403132,
          -0.3023027505753355,
          1.494079073157606,
          -1.0930615087305058,
          -0.4980324506923049,
          -1.17312340511416,
          1.7133427216493666,
          1.336527949436392,
          0.4656624397304598,
          -0.4351535517216374,
          -1.4200179371789752,
          -0.672460447775951,
          -0.6634782863621074,
          0.920858823780819,
          -2.5529898158340787,
          1.8675579901499677,
          0.4019893634447016,
          -0.6510255933001469,
          -0.6945678597313655,
          -1.034242841784465,
          -2.223403152224426,
          1.126635922106507,
          1.469358769900285,
          0.4001572083672233,
          0.0519453957961389,
          -0.7474548114407578,
          0.8443629764015471,
          -0.1032188517935578,
          -0.8540957393017248,
          -0.3539939112534839,
          -1.180632184122412,
          -0.9072983643832422,
          0.3169426119248496,
          1.1880297923523018,
          -0.7699160744453164,
          0.15634896910398,
          0.9008264869541872,
          -0.0281822283386548,
          -0.3479121493261526,
          0.8568306119026912,
          0.298238174206056,
          0.9693967081580112,
          -0.3115525321273726,
          -0.1799248358123509,
          1.454273506962975,
          -0.2680033709513804,
          0.9060446582753852,
          -1.1043833394284506,
          -0.1871838500258336,
          0.9444794869904138,
          0.6140793703460803,
          0.1549474256969163,
          0.1269120927036199,
          0.8644361988595057,
          -0.1513572082976979,
          1.8675589604265697,
          1.2224450703824274,
          -0.7421650204064419,
          -0.9128222254441586,
          0.1289829107574106,
          1.5430145954067358,
          -0.1715463312222481,
          -0.1550100930908342,
          0.681594518281627,
          0.0875512413851909,
          0.0665172223831678,
          -0.0392828182274956,
          1.4882521937955997,
          -0.8612256850547025,
          0.4627822555257742,
          -0.3595531615405413,
          0.5392491912918173,
          0.402341641177549,
          1.764052345967664,
          -1.1651498407833565,
          0.6764332949464997,
          1.9295320538169856,
          -0.7447548220484399,
          0.0174791590250567,
          -0.977277879876411,
          1.8492637284793416,
          -1.5362436862772235,
          1.2302906807277207,
          0.3187276529430212,
          1.117016288095853,
          -0.0682416053246312,
          -0.4031769469731796,
          0.7717905512136674,
          0.1774261422537528,
          0.9766390364837128,
          -1.4912575927056055,
          0.3960067126616453,
          -0.7395629963913133,
          -0.8877857476301128,
          0.0105000207208204,
          0.7065731681919482,
          1.9100649530990337,
          -0.3627411659871381,
          1.2023798487844113,
          0.6350314368921064,
          -1.1680934977411974,
          -1.1474686524111024,
          -0.0984525244254323,
          -1.0485529650670926,
          -1.6138978475579515,
          1.8831506970562544,
          0.9500884175255894,
          1.9436211856492929,
          0.2082749780768603,
          0.1216750164928284,
          1.0544517269311366,
          0.3130677016509013,
          0.3764255311556294,
          -0.461584604814709,
          0.0521650792609744,
          0.7774903558319101,
          0.8235041539637314,
          -0.813146282044454,
          0.0561653422297454,
          1.9507753952317897,
          -1.3749512934180188,
          0.947251967773748,
          0.0318305582743511,
          0.8024563957963952,
          0.4105985019383723,
          -1.079931508363423,
          -0.8707971491818818,
          0.9787379841057392,
          0.386902497859262
         ],
         "xaxis": "x",
         "y": [
          14.236547993389047,
          16.45894113066656,
          14.375872112626926,
          18.9177300078208,
          108.47455625396596,
          -41.33990958184328,
          42.26231138130423,
          75.29493824499362,
          41.166874214082185,
          33.32117377193104,
          -145.42156851089302,
          -101.30336911180844,
          -41.33162952915805,
          177.14170247286015,
          -82.10120797482027,
          -32.82787689286322,
          -149.52189829018857,
          -78.62298244152063,
          -49.66679079656993,
          -52.04843529294572,
          19.05376577910794,
          89.00184252322963,
          108.21655806230083,
          -58.81260738965203,
          -56.14125044078714,
          179.2826459836743,
          44.50816351661698,
          -61.75515206936035,
          -157.11040328200943,
          217.6535209838536,
          -39.97534955988766,
          -168.3835164824136,
          140.3442529412735,
          36.75738721860149,
          -130.2399545649847,
          12.447081895859746,
          123.43073318730842,
          210.24934522809136,
          68.57597497135367,
          -100.34656775781676,
          -60.11712003031121,
          -84.55651124975572,
          -121.03895505458516,
          -22.21040984258577,
          65.51477139177452,
          -14.41696640044122,
          -191.99158258370144,
          48.24329769196815,
          55.479775825426735,
          -43.97908281743003,
          31.720098277236648,
          -105.35521236740944,
          -24.44579940732168,
          56.98804974295471,
          -124.86708091166828,
          -120.27539655958012,
          -57.14005570779732,
          -122.68500643944988,
          -15.544578377919912,
          172.97636833179777,
          -132.49779341028503,
          34.86399508233777,
          34.06358528843218,
          218.5374371837046,
          -73.19818774319543,
          3.35498997409498,
          -173.00712043426336,
          88.28445209175015,
          229.4612608272256,
          59.87773153517459,
          -37.18616409171162,
          -62.25241407441431,
          -28.37464630206595,
          145.13644133554368,
          -107.22049918578357,
          -44.5851987623333,
          -113.31730716238454,
          167.94950379230116,
          119.56044080127975,
          49.26575851955819,
          -45.78980188677821,
          -132.87831388263223,
          -64.54137781821028,
          -65.79836738631641,
          81.67921732387495,
          -250.9540047123573,
          176.8496176918498,
          34.45612172886189,
          -61.80446780519449,
          -65.64809564505967,
          -94.64212734741348,
          -223.0034923221285,
          108.43375451892491,
          145.89427285297094,
          35.29242472905453,
          8.431833203401707,
          -76.82276991122453,
          79.33898786749613,
          -8.221412767860894,
          -96.21764871605968,
          -41.92367490842599,
          -110.2112389269382,
          -74.87020795327743,
          36.21027042411782,
          107.83993376609618,
          -73.19092586558126,
          12.521208476591468,
          85.82450486732192,
          2.2451328492780678,
          -32.41109406171503,
          85.94939340048685,
          30.400938728259018,
          91.26704309216493,
          -22.997216567905117,
          -14.599517251084366,
          143.1697255040059,
          -29.0126834301058,
          81.74080038201984,
          -109.99953941590144,
          -18.72341425317087,
          90.43580320387709,
          60.23706472566334,
          14.22832754944309,
          13.802478792248422,
          84.06759070569615,
          -14.026302491699484,
          181.96648549570176,
          119.85966388579529,
          -72.42220823896741,
          -89.21412931441992,
          16.17467275954422,
          145.2162082271575,
          -21.12193378295456,
          -16.445693501984408,
          56.88736348397706,
          8.080147137182099,
          3.213790244369528,
          -7.472123975475851,
          147.76571190490267,
          -85.7225383216539,
          42.54263840863592,
          -37.844348856184176,
          60.21010818397013,
          39.09545288864902,
          165.70034236943567,
          -108.76171745622467,
          60.92011992886155,
          189.78322596915552,
          -72.42234445701389,
          -0.6030244483021558,
          -90.35309123059528,
          174.67076653144903,
          -143.5198700825951,
          116.457102581264,
          32.09657077605531,
          109.80905685005378,
          -9.870252751916228,
          -38.98984617688912,
          74.71684659975078,
          17.530688865490347,
          95.03284475349965,
          -144.5755982230555,
          42.407642711668224,
          -66.05171050662727,
          -87.39163311054679,
          6.036320791838907,
          67.73333947825743,
          183.26163190765587,
          -40.45816481719298,
          109.60784758878378,
          56.842420640079936,
          -109.7280526762809,
          -109.73122593894524,
          -6.042773778387534,
          -104.62553836202132,
          -159.88353038159775,
          178.5892111117197,
          88.70132202766878,
          188.45647310207232,
          24.306062116411248,
          16.49340193191046,
          99.48884286449322,
          28.41953618221424,
          36.135524242684966,
          -50.09332618352295,
          4.505029955113737,
          78.72609489684545,
          83.34444027140962,
          -75.43000768136079,
          4.115231826900085,
          184.1065568329621,
          -132.01803398533843,
          88.8254370590973,
          -5.34140173678785,
          74.31555614866093,
          39.44556603224459,
          -110.30840625840712,
          -79.69017986572632,
          94.97666949394744,
          40.071117046239706
         ],
         "yaxis": "y"
        }
       ],
       "layout": {
        "legend": {
         "tracegroupgap": 0
        },
        "margin": {
         "t": 60
        },
        "template": {
         "data": {
          "bar": [
           {
            "error_x": {
             "color": "#2a3f5f"
            },
            "error_y": {
             "color": "#2a3f5f"
            },
            "marker": {
             "line": {
              "color": "#E5ECF6",
              "width": 0.5
             },
             "pattern": {
              "fillmode": "overlay",
              "size": 10,
              "solidity": 0.2
             }
            },
            "type": "bar"
           }
          ],
          "barpolar": [
           {
            "marker": {
             "line": {
              "color": "#E5ECF6",
              "width": 0.5
             },
             "pattern": {
              "fillmode": "overlay",
              "size": 10,
              "solidity": 0.2
             }
            },
            "type": "barpolar"
           }
          ],
          "carpet": [
           {
            "aaxis": {
             "endlinecolor": "#2a3f5f",
             "gridcolor": "white",
             "linecolor": "white",
             "minorgridcolor": "white",
             "startlinecolor": "#2a3f5f"
            },
            "baxis": {
             "endlinecolor": "#2a3f5f",
             "gridcolor": "white",
             "linecolor": "white",
             "minorgridcolor": "white",
             "startlinecolor": "#2a3f5f"
            },
            "type": "carpet"
           }
          ],
          "choropleth": [
           {
            "colorbar": {
             "outlinewidth": 0,
             "ticks": ""
            },
            "type": "choropleth"
           }
          ],
          "contour": [
           {
            "colorbar": {
             "outlinewidth": 0,
             "ticks": ""
            },
            "colorscale": [
             [
              0,
              "#0d0887"
             ],
             [
              0.1111111111111111,
              "#46039f"
             ],
             [
              0.2222222222222222,
              "#7201a8"
             ],
             [
              0.3333333333333333,
              "#9c179e"
             ],
             [
              0.4444444444444444,
              "#bd3786"
             ],
             [
              0.5555555555555556,
              "#d8576b"
             ],
             [
              0.6666666666666666,
              "#ed7953"
             ],
             [
              0.7777777777777778,
              "#fb9f3a"
             ],
             [
              0.8888888888888888,
              "#fdca26"
             ],
             [
              1,
              "#f0f921"
             ]
            ],
            "type": "contour"
           }
          ],
          "contourcarpet": [
           {
            "colorbar": {
             "outlinewidth": 0,
             "ticks": ""
            },
            "type": "contourcarpet"
           }
          ],
          "heatmap": [
           {
            "colorbar": {
             "outlinewidth": 0,
             "ticks": ""
            },
            "colorscale": [
             [
              0,
              "#0d0887"
             ],
             [
              0.1111111111111111,
              "#46039f"
             ],
             [
              0.2222222222222222,
              "#7201a8"
             ],
             [
              0.3333333333333333,
              "#9c179e"
             ],
             [
              0.4444444444444444,
              "#bd3786"
             ],
             [
              0.5555555555555556,
              "#d8576b"
             ],
             [
              0.6666666666666666,
              "#ed7953"
             ],
             [
              0.7777777777777778,
              "#fb9f3a"
             ],
             [
              0.8888888888888888,
              "#fdca26"
             ],
             [
              1,
              "#f0f921"
             ]
            ],
            "type": "heatmap"
           }
          ],
          "heatmapgl": [
           {
            "colorbar": {
             "outlinewidth": 0,
             "ticks": ""
            },
            "colorscale": [
             [
              0,
              "#0d0887"
             ],
             [
              0.1111111111111111,
              "#46039f"
             ],
             [
              0.2222222222222222,
              "#7201a8"
             ],
             [
              0.3333333333333333,
              "#9c179e"
             ],
             [
              0.4444444444444444,
              "#bd3786"
             ],
             [
              0.5555555555555556,
              "#d8576b"
             ],
             [
              0.6666666666666666,
              "#ed7953"
             ],
             [
              0.7777777777777778,
              "#fb9f3a"
             ],
             [
              0.8888888888888888,
              "#fdca26"
             ],
             [
              1,
              "#f0f921"
             ]
            ],
            "type": "heatmapgl"
           }
          ],
          "histogram": [
           {
            "marker": {
             "pattern": {
              "fillmode": "overlay",
              "size": 10,
              "solidity": 0.2
             }
            },
            "type": "histogram"
           }
          ],
          "histogram2d": [
           {
            "colorbar": {
             "outlinewidth": 0,
             "ticks": ""
            },
            "colorscale": [
             [
              0,
              "#0d0887"
             ],
             [
              0.1111111111111111,
              "#46039f"
             ],
             [
              0.2222222222222222,
              "#7201a8"
             ],
             [
              0.3333333333333333,
              "#9c179e"
             ],
             [
              0.4444444444444444,
              "#bd3786"
             ],
             [
              0.5555555555555556,
              "#d8576b"
             ],
             [
              0.6666666666666666,
              "#ed7953"
             ],
             [
              0.7777777777777778,
              "#fb9f3a"
             ],
             [
              0.8888888888888888,
              "#fdca26"
             ],
             [
              1,
              "#f0f921"
             ]
            ],
            "type": "histogram2d"
           }
          ],
          "histogram2dcontour": [
           {
            "colorbar": {
             "outlinewidth": 0,
             "ticks": ""
            },
            "colorscale": [
             [
              0,
              "#0d0887"
             ],
             [
              0.1111111111111111,
              "#46039f"
             ],
             [
              0.2222222222222222,
              "#7201a8"
             ],
             [
              0.3333333333333333,
              "#9c179e"
             ],
             [
              0.4444444444444444,
              "#bd3786"
             ],
             [
              0.5555555555555556,
              "#d8576b"
             ],
             [
              0.6666666666666666,
              "#ed7953"
             ],
             [
              0.7777777777777778,
              "#fb9f3a"
             ],
             [
              0.8888888888888888,
              "#fdca26"
             ],
             [
              1,
              "#f0f921"
             ]
            ],
            "type": "histogram2dcontour"
           }
          ],
          "mesh3d": [
           {
            "colorbar": {
             "outlinewidth": 0,
             "ticks": ""
            },
            "type": "mesh3d"
           }
          ],
          "parcoords": [
           {
            "line": {
             "colorbar": {
              "outlinewidth": 0,
              "ticks": ""
             }
            },
            "type": "parcoords"
           }
          ],
          "pie": [
           {
            "automargin": true,
            "type": "pie"
           }
          ],
          "scatter": [
           {
            "fillpattern": {
             "fillmode": "overlay",
             "size": 10,
             "solidity": 0.2
            },
            "type": "scatter"
           }
          ],
          "scatter3d": [
           {
            "line": {
             "colorbar": {
              "outlinewidth": 0,
              "ticks": ""
             }
            },
            "marker": {
             "colorbar": {
              "outlinewidth": 0,
              "ticks": ""
             }
            },
            "type": "scatter3d"
           }
          ],
          "scattercarpet": [
           {
            "marker": {
             "colorbar": {
              "outlinewidth": 0,
              "ticks": ""
             }
            },
            "type": "scattercarpet"
           }
          ],
          "scattergeo": [
           {
            "marker": {
             "colorbar": {
              "outlinewidth": 0,
              "ticks": ""
             }
            },
            "type": "scattergeo"
           }
          ],
          "scattergl": [
           {
            "marker": {
             "colorbar": {
              "outlinewidth": 0,
              "ticks": ""
             }
            },
            "type": "scattergl"
           }
          ],
          "scattermapbox": [
           {
            "marker": {
             "colorbar": {
              "outlinewidth": 0,
              "ticks": ""
             }
            },
            "type": "scattermapbox"
           }
          ],
          "scatterpolar": [
           {
            "marker": {
             "colorbar": {
              "outlinewidth": 0,
              "ticks": ""
             }
            },
            "type": "scatterpolar"
           }
          ],
          "scatterpolargl": [
           {
            "marker": {
             "colorbar": {
              "outlinewidth": 0,
              "ticks": ""
             }
            },
            "type": "scatterpolargl"
           }
          ],
          "scatterternary": [
           {
            "marker": {
             "colorbar": {
              "outlinewidth": 0,
              "ticks": ""
             }
            },
            "type": "scatterternary"
           }
          ],
          "surface": [
           {
            "colorbar": {
             "outlinewidth": 0,
             "ticks": ""
            },
            "colorscale": [
             [
              0,
              "#0d0887"
             ],
             [
              0.1111111111111111,
              "#46039f"
             ],
             [
              0.2222222222222222,
              "#7201a8"
             ],
             [
              0.3333333333333333,
              "#9c179e"
             ],
             [
              0.4444444444444444,
              "#bd3786"
             ],
             [
              0.5555555555555556,
              "#d8576b"
             ],
             [
              0.6666666666666666,
              "#ed7953"
             ],
             [
              0.7777777777777778,
              "#fb9f3a"
             ],
             [
              0.8888888888888888,
              "#fdca26"
             ],
             [
              1,
              "#f0f921"
             ]
            ],
            "type": "surface"
           }
          ],
          "table": [
           {
            "cells": {
             "fill": {
              "color": "#EBF0F8"
             },
             "line": {
              "color": "white"
             }
            },
            "header": {
             "fill": {
              "color": "#C8D4E3"
             },
             "line": {
              "color": "white"
             }
            },
            "type": "table"
           }
          ]
         },
         "layout": {
          "annotationdefaults": {
           "arrowcolor": "#2a3f5f",
           "arrowhead": 0,
           "arrowwidth": 1
          },
          "autotypenumbers": "strict",
          "coloraxis": {
           "colorbar": {
            "outlinewidth": 0,
            "ticks": ""
           }
          },
          "colorscale": {
           "diverging": [
            [
             0,
             "#8e0152"
            ],
            [
             0.1,
             "#c51b7d"
            ],
            [
             0.2,
             "#de77ae"
            ],
            [
             0.3,
             "#f1b6da"
            ],
            [
             0.4,
             "#fde0ef"
            ],
            [
             0.5,
             "#f7f7f7"
            ],
            [
             0.6,
             "#e6f5d0"
            ],
            [
             0.7,
             "#b8e186"
            ],
            [
             0.8,
             "#7fbc41"
            ],
            [
             0.9,
             "#4d9221"
            ],
            [
             1,
             "#276419"
            ]
           ],
           "sequential": [
            [
             0,
             "#0d0887"
            ],
            [
             0.1111111111111111,
             "#46039f"
            ],
            [
             0.2222222222222222,
             "#7201a8"
            ],
            [
             0.3333333333333333,
             "#9c179e"
            ],
            [
             0.4444444444444444,
             "#bd3786"
            ],
            [
             0.5555555555555556,
             "#d8576b"
            ],
            [
             0.6666666666666666,
             "#ed7953"
            ],
            [
             0.7777777777777778,
             "#fb9f3a"
            ],
            [
             0.8888888888888888,
             "#fdca26"
            ],
            [
             1,
             "#f0f921"
            ]
           ],
           "sequentialminus": [
            [
             0,
             "#0d0887"
            ],
            [
             0.1111111111111111,
             "#46039f"
            ],
            [
             0.2222222222222222,
             "#7201a8"
            ],
            [
             0.3333333333333333,
             "#9c179e"
            ],
            [
             0.4444444444444444,
             "#bd3786"
            ],
            [
             0.5555555555555556,
             "#d8576b"
            ],
            [
             0.6666666666666666,
             "#ed7953"
            ],
            [
             0.7777777777777778,
             "#fb9f3a"
            ],
            [
             0.8888888888888888,
             "#fdca26"
            ],
            [
             1,
             "#f0f921"
            ]
           ]
          },
          "colorway": [
           "#636efa",
           "#EF553B",
           "#00cc96",
           "#ab63fa",
           "#FFA15A",
           "#19d3f3",
           "#FF6692",
           "#B6E880",
           "#FF97FF",
           "#FECB52"
          ],
          "font": {
           "color": "#2a3f5f"
          },
          "geo": {
           "bgcolor": "white",
           "lakecolor": "white",
           "landcolor": "#E5ECF6",
           "showlakes": true,
           "showland": true,
           "subunitcolor": "white"
          },
          "hoverlabel": {
           "align": "left"
          },
          "hovermode": "closest",
          "mapbox": {
           "style": "light"
          },
          "paper_bgcolor": "white",
          "plot_bgcolor": "#E5ECF6",
          "polar": {
           "angularaxis": {
            "gridcolor": "white",
            "linecolor": "white",
            "ticks": ""
           },
           "bgcolor": "#E5ECF6",
           "radialaxis": {
            "gridcolor": "white",
            "linecolor": "white",
            "ticks": ""
           }
          },
          "scene": {
           "xaxis": {
            "backgroundcolor": "#E5ECF6",
            "gridcolor": "white",
            "gridwidth": 2,
            "linecolor": "white",
            "showbackground": true,
            "ticks": "",
            "zerolinecolor": "white"
           },
           "yaxis": {
            "backgroundcolor": "#E5ECF6",
            "gridcolor": "white",
            "gridwidth": 2,
            "linecolor": "white",
            "showbackground": true,
            "ticks": "",
            "zerolinecolor": "white"
           },
           "zaxis": {
            "backgroundcolor": "#E5ECF6",
            "gridcolor": "white",
            "gridwidth": 2,
            "linecolor": "white",
            "showbackground": true,
            "ticks": "",
            "zerolinecolor": "white"
           }
          },
          "shapedefaults": {
           "line": {
            "color": "#2a3f5f"
           }
          },
          "ternary": {
           "aaxis": {
            "gridcolor": "white",
            "linecolor": "white",
            "ticks": ""
           },
           "baxis": {
            "gridcolor": "white",
            "linecolor": "white",
            "ticks": ""
           },
           "bgcolor": "#E5ECF6",
           "caxis": {
            "gridcolor": "white",
            "linecolor": "white",
            "ticks": ""
           }
          },
          "title": {
           "x": 0.05
          },
          "xaxis": {
           "automargin": true,
           "gridcolor": "white",
           "linecolor": "white",
           "ticks": "",
           "title": {
            "standoff": 15
           },
           "zerolinecolor": "white",
           "zerolinewidth": 2
          },
          "yaxis": {
           "automargin": true,
           "gridcolor": "white",
           "linecolor": "white",
           "ticks": "",
           "title": {
            "standoff": 15
           },
           "zerolinecolor": "white",
           "zerolinewidth": 2
          }
         }
        },
        "xaxis": {
         "anchor": "y",
         "domain": [
          0,
          1
         ],
         "title": {
          "text": "x1"
         }
        },
        "yaxis": {
         "anchor": "x",
         "domain": [
          0,
          1
         ],
         "title": {
          "text": "y"
         }
        }
       }
      }
     },
     "metadata": {},
     "output_type": "display_data"
    }
   ],
   "source": [
    "px.scatter(data, y=\"y\",x=\"x1\")"
   ]
  },
  {
   "cell_type": "code",
   "execution_count": 31,
   "metadata": {},
   "outputs": [
    {
     "data": {
      "text/html": [
       "<div>\n",
       "<style scoped>\n",
       "    .dataframe tbody tr th:only-of-type {\n",
       "        vertical-align: middle;\n",
       "    }\n",
       "\n",
       "    .dataframe tbody tr th {\n",
       "        vertical-align: top;\n",
       "    }\n",
       "\n",
       "    .dataframe thead th {\n",
       "        text-align: right;\n",
       "    }\n",
       "</style>\n",
       "<table border=\"1\" class=\"dataframe\">\n",
       "  <thead>\n",
       "    <tr style=\"text-align: right;\">\n",
       "      <th></th>\n",
       "      <th>x1</th>\n",
       "      <th>y</th>\n",
       "    </tr>\n",
       "  </thead>\n",
       "  <tbody>\n",
       "    <tr>\n",
       "      <th>count</th>\n",
       "      <td>200.000000</td>\n",
       "      <td>200.000000</td>\n",
       "    </tr>\n",
       "    <tr>\n",
       "      <th>mean</th>\n",
       "      <td>0.396679</td>\n",
       "      <td>7.138867</td>\n",
       "    </tr>\n",
       "    <tr>\n",
       "      <th>std</th>\n",
       "      <td>2.456859</td>\n",
       "      <td>97.109882</td>\n",
       "    </tr>\n",
       "    <tr>\n",
       "      <th>min</th>\n",
       "      <td>-2.552990</td>\n",
       "      <td>-250.954005</td>\n",
       "    </tr>\n",
       "    <tr>\n",
       "      <th>25%</th>\n",
       "      <td>-0.685995</td>\n",
       "      <td>-65.685664</td>\n",
       "    </tr>\n",
       "    <tr>\n",
       "      <th>50%</th>\n",
       "      <td>0.077034</td>\n",
       "      <td>8.255990</td>\n",
       "    </tr>\n",
       "    <tr>\n",
       "      <th>75%</th>\n",
       "      <td>0.858732</td>\n",
       "      <td>76.152727</td>\n",
       "    </tr>\n",
       "    <tr>\n",
       "      <th>max</th>\n",
       "      <td>17.151894</td>\n",
       "      <td>229.461261</td>\n",
       "    </tr>\n",
       "  </tbody>\n",
       "</table>\n",
       "</div>"
      ],
      "text/plain": [
       "               x1           y\n",
       "count  200.000000  200.000000\n",
       "mean     0.396679    7.138867\n",
       "std      2.456859   97.109882\n",
       "min     -2.552990 -250.954005\n",
       "25%     -0.685995  -65.685664\n",
       "50%      0.077034    8.255990\n",
       "75%      0.858732   76.152727\n",
       "max     17.151894  229.461261"
      ]
     },
     "execution_count": 31,
     "metadata": {},
     "output_type": "execute_result"
    }
   ],
   "source": [
    "X = data[[\"x1\"]]\n",
    "y = data[\"y\"]\n",
    "\n",
    "data.describe()"
   ]
  },
  {
   "cell_type": "code",
   "execution_count": 59,
   "metadata": {},
   "outputs": [
    {
     "name": "stdout",
     "output_type": "stream",
     "text": [
      "Linear Reg RMSE:  87.84258324232447\n"
     ]
    },
    {
     "data": {
      "image/png": "[encoded data removed]",
      "text/plain": [
       "<Figure size 640x480 with 1 Axes>"
      ]
     },
     "metadata": {},
     "output_type": "display_data"
    },
    {
     "data": {
      "image/png": "[encoded data removed]",
      "text/plain": [
       "<Figure size 800x600 with 1 Axes>"
      ]
     },
     "metadata": {},
     "output_type": "display_data"
    }
   ],
   "source": [
    "\n",
    "\n",
    "model = LinearRegression()\n",
    "\n",
    "\n",
    "model.fit(X, y)\n",
    "\n",
    "\n",
    "y_pred = model.predict(X)\n",
    "\n",
    "\n",
    "rmse = np.sqrt(mean_squared_error(y, y_pred))\n",
    "print(\"Linear Reg RMSE: \", rmse)\n",
    "\n",
    "\n",
    "\n",
    "sns.regplot(data=data, x=\"x1\",y=\"y\")\n",
    "\n",
    "plt.figure(figsize=(8,6))\n",
    "plt.scatter(X, y, color=\"blue\",label=\"Data\")\n",
    "plt.plot(X,y_pred,color=\"red\",label=\"Linear\")\n",
    "plt.title(\"Linear Regression\")\n",
    "plt.xlabel(\"X\")\n",
    "plt.ylabel(\"y\")\n",
    "plt.legend()\n",
    "plt.grid(True)\n",
    "plt.show()\n",
    "\n"
   ]
  },
  {
   "cell_type": "code",
   "execution_count": 47,
   "metadata": {},
   "outputs": [
    {
     "name": "stdout",
     "output_type": "stream",
     "text": [
      "[94.24727163]\n",
      "-0.3438726425069548\n",
      "Linear Reg RMSE:  211.5793715520509\n"
     ]
    },
    {
     "data": {
      "image/png": "[encoded data removed]",
      "text/plain": [
       "<Figure size 800x600 with 1 Axes>"
      ]
     },
     "metadata": {},
     "output_type": "display_data"
    }
   ],
   "source": [
    "from sklearn.linear_model import HuberRegressor\n",
    "\n",
    "\n",
    "\n",
    "Huber = HuberRegressor()\n",
    "\n",
    "\n",
    "Huber.fit(X, y)\n",
    "\n",
    "\n",
    "y_pred = Huber.predict(X)\n",
    "print(Huber.coef_)\n",
    "print(Huber.intercept_)\n",
    "\n",
    "\n",
    "rmse = np.sqrt(mean_squared_error(y, y_pred))\n",
    "print(\"Linear Reg RMSE: \", rmse)\n",
    "\n",
    "\n",
    "\n",
    "# sns.regplot(data=data, x=\"x1\",y=\"y\")\n",
    "\n",
    "plt.figure(figsize=(8,6))\n",
    "plt.scatter(X, y, color=\"blue\",label=\"Data\")\n",
    "plt.plot(X,y_pred,color=\"red\",label=\"Linear\")\n",
    "plt.title(\"Linear Regression\")\n",
    "plt.xlabel(\"X\")\n",
    "plt.ylabel(\"y\")\n",
    "plt.legend()\n",
    "plt.grid(True)\n",
    "plt.show()\n",
    "\n"
   ]
  },
  {
   "cell_type": "code",
   "execution_count": 53,
   "metadata": {},
   "outputs": [
    {
     "name": "stdout",
     "output_type": "stream",
     "text": [
      "[92.90791201]\n",
      "-0.3853936271677045\n",
      "Linear Reg RMSE:  208.55314549026866\n"
     ]
    },
    {
     "data": {
      "image/png": "[encoded data removed]",
      "text/plain": [
       "<Figure size 800x600 with 1 Axes>"
      ]
     },
     "metadata": {},
     "output_type": "display_data"
    }
   ],
   "source": [
    "from sklearn.linear_model import HuberRegressor\n",
    "\n",
    "\n",
    "\n",
    "Huber = HuberRegressor(epsilon=2)\n",
    "\n",
    "\n",
    "Huber.fit(X, y)\n",
    "\n",
    "\n",
    "y_pred = Huber.predict(X)\n",
    "print(Huber.coef_)\n",
    "print(Huber.intercept_)\n",
    "\n",
    "\n",
    "rmse = np.sqrt(mean_squared_error(y, y_pred))\n",
    "print(\"Linear Reg RMSE: \", rmse)\n",
    "\n",
    "\n",
    "\n",
    "# sns.regplot(data=data, x=\"x1\",y=\"y\")\n",
    "\n",
    "plt.figure(figsize=(8,6))\n",
    "plt.scatter(X, y, color=\"blue\",label=\"Data\")\n",
    "plt.plot(X,y_pred,color=\"red\",label=\"Linear\")\n",
    "plt.title(\"Linear Regression\")\n",
    "plt.xlabel(\"X\")\n",
    "plt.ylabel(\"y\")\n",
    "plt.legend()\n",
    "plt.grid(True)\n",
    "plt.show()\n",
    "\n"
   ]
  },
  {
   "cell_type": "code",
   "execution_count": 56,
   "metadata": {},
   "outputs": [
    {
     "name": "stdout",
     "output_type": "stream",
     "text": [
      "[96.01079895]\n",
      "-0.26846255357152615\n",
      "Linear Reg RMSE:  215.58069161731478\n"
     ]
    },
    {
     "data": {
      "image/png": "[encoded data removed]",
      "text/plain": [
       "<Figure size 800x600 with 1 Axes>"
      ]
     },
     "metadata": {},
     "output_type": "display_data"
    }
   ],
   "source": [
    "from sklearn.linear_model import TheilSenRegressor\n",
    "\n",
    "\n",
    "\n",
    "Theil = TheilSenRegressor(random_state=42)\n",
    "\n",
    "\n",
    "Theil.fit(X, y)\n",
    "\n",
    "\n",
    "y_pred = Theil.predict(X)\n",
    "print(Theil.coef_)\n",
    "print(Theil.intercept_)\n",
    "\n",
    "\n",
    "rmse = np.sqrt(mean_squared_error(y, y_pred))\n",
    "print(\"Linear Reg RMSE: \", rmse)\n",
    "\n",
    "\n",
    "\n",
    "# sns.regplot(data=data, x=\"x1\",y=\"y\")\n",
    "\n",
    "plt.figure(figsize=(8,6))\n",
    "plt.scatter(X, y, color=\"blue\",label=\"Data\")\n",
    "plt.plot(X,y_pred,color=\"red\",label=\"Linear\")\n",
    "plt.title(\"Linear Regression\")\n",
    "plt.xlabel(\"X\")\n",
    "plt.ylabel(\"y\")\n",
    "plt.legend()\n",
    "plt.grid(True)\n",
    "plt.show()\n",
    "\n"
   ]
  },
  {
   "cell_type": "code",
   "execution_count": 70,
   "metadata": {},
   "outputs": [
    {
     "name": "stdout",
     "output_type": "stream",
     "text": [
      "7716.319430684704\n",
      "Linear Reg RMSE:  87.84258324232447\n"
     ]
    }
   ],
   "source": [
    "mse = mean_squared_error(y, y_pred)\n",
    "rmse = np.sqrt(mean_squared_error(y, y_pred))\n",
    "print(mse)\n",
    "print(\"Linear Reg RMSE: \", rmse)"
   ]
  },
  {
   "cell_type": "code",
   "execution_count": 73,
   "metadata": {},
   "outputs": [
    {
     "name": "stdout",
     "output_type": "stream",
     "text": [
      "Linear Reg Median:  61.111986806932016\n",
      "Linear Reg MSE:  7716.319430684704\n",
      "Linear Reg MAE:  70.47684795490645\n",
      "Linear Reg RMSE:  87.84258324232447\n"
     ]
    },
    {
     "data": {
      "image/png": "[encoded data removed]",
      "text/plain": [
       "<Figure size 800x600 with 1 Axes>"
      ]
     },
     "metadata": {},
     "output_type": "display_data"
    }
   ],
   "source": [
    "from sklearn.metrics import mean_squared_error, mean_absolute_error,median_absolute_error\n",
    "\n",
    "model = LinearRegression()\n",
    "\n",
    "\n",
    "model.fit(X, y)\n",
    "\n",
    "\n",
    "y_pred = model.predict(X)\n",
    "\n",
    "\n",
    "median = median_absolute_error(y,y_pred)\n",
    "mse = mean_squared_error(y, y_pred)\n",
    "mae = mean_absolute_error(y, y_pred)\n",
    "rmse = np.sqrt(mse)\n",
    "\n",
    "print(\"Linear Reg Median: \", median)\n",
    "print(\"Linear Reg MSE: \", mse)\n",
    "print(\"Linear Reg MAE: \", mae)\n",
    "print(\"Linear Reg RMSE: \", rmse)\n",
    "\n",
    "\n",
    "\n",
    "plt.figure(figsize=(8, 6))\n",
    "plt.scatter(X, y, color=\"blue\", label=\"Data\", alpha=0.5)\n",
    "plt.plot(X, y_pred, color=\"red\", label=\"Linear\")\n",
    "plt.title(\"Linear Regression\")\n",
    "plt.xlabel(\"X\")\n",
    "plt.ylabel(\"y\")\n",
    "plt.legend()\n",
    "plt.grid(True)\n",
    "plt.show()"
   ]
  },
  {
   "cell_type": "code",
   "execution_count": 68,
   "metadata": {},
   "outputs": [
    {
     "name": "stdout",
     "output_type": "stream",
     "text": [
      "Linear Reg Median:  3.1276796124134734\n",
      "Linear Reg MSE:  44765.83046636081\n",
      "Linear Reg MAE:  33.37545948380207\n",
      "Linear Reg RMSE:  211.5793715520509\n"
     ]
    },
    {
     "data": {
      "image/png": "[encoded data removed]",
      "text/plain": [
       "<Figure size 800x600 with 1 Axes>"
      ]
     },
     "metadata": {},
     "output_type": "display_data"
    }
   ],
   "source": [
    "from sklearn.metrics import mean_squared_error, mean_absolute_error,median_absolute_error\n",
    "\n",
    "Huber = HuberRegressor()\n",
    "\n",
    "\n",
    "Huber.fit(X, y)\n",
    "\n",
    "\n",
    "y_pred = Huber.predict(X)\n",
    "\n",
    "\n",
    "median = median_absolute_error(y,y_pred)\n",
    "mse = mean_squared_error(y, y_pred)\n",
    "mae = mean_absolute_error(y, y_pred)\n",
    "rmse = np.sqrt(mse)\n",
    "\n",
    "print(\"Linear Reg Median: \", median)\n",
    "print(\"Linear Reg MSE: \", mse)\n",
    "print(\"Linear Reg MAE: \", mae)\n",
    "print(\"Linear Reg RMSE: \", rmse)\n",
    "\n",
    "\n",
    "\n",
    "plt.figure(figsize=(8, 6))\n",
    "plt.scatter(X, y, color=\"blue\", label=\"Data\", alpha=0.5)\n",
    "plt.plot(X, y_pred, color=\"red\", label=\"Linear\")\n",
    "plt.title(\"Linear Regression\")\n",
    "plt.xlabel(\"X\")\n",
    "plt.ylabel(\"y\")\n",
    "plt.legend()\n",
    "plt.grid(True)\n",
    "plt.show()"
   ]
  },
  {
   "cell_type": "code",
   "execution_count": 74,
   "metadata": {},
   "outputs": [
    {
     "name": "stdout",
     "output_type": "stream",
     "text": [
      "Linear Reg Median:  2.9066989695619485\n",
      "Linear Reg MSE:  46475.03459819978\n",
      "Linear Reg MAE:  33.57349718665092\n",
      "Linear Reg RMSE:  215.58069161731478\n"
     ]
    },
    {
     "data": {
      "image/png": "[encoded data removed]",
      "text/plain": [
       "<Figure size 800x600 with 1 Axes>"
      ]
     },
     "metadata": {},
     "output_type": "display_data"
    }
   ],
   "source": [
    "from sklearn.metrics import mean_squared_error, mean_absolute_error, median_absolute_error\n",
    "\n",
    "Theil1 = TheilSenRegressor(random_state=42)\n",
    "\n",
    "\n",
    "Theil1.fit(X, y)\n",
    "\n",
    "\n",
    "y_pred = Theil1.predict(X)\n",
    "\n",
    "median = median_absolute_error(y,y_pred)\n",
    "mse = mean_squared_error(y, y_pred)\n",
    "mae = mean_absolute_error(y, y_pred)\n",
    "rmse = np.sqrt(mse)\n",
    "\n",
    "print(\"Linear Reg Median: \", median)\n",
    "print(\"Linear Reg MSE: \", mse)\n",
    "print(\"Linear Reg MAE: \", mae)\n",
    "print(\"Linear Reg RMSE: \", rmse)\n",
    "\n",
    "\n",
    "\n",
    "plt.figure(figsize=(8, 6))\n",
    "plt.scatter(X, y, color=\"blue\", label=\"Data\", alpha=0.5)\n",
    "plt.plot(X, y_pred, color=\"red\", label=\"Linear\")\n",
    "plt.title(\"Linear Regression\")\n",
    "plt.xlabel(\"X\")\n",
    "plt.ylabel(\"y\")\n",
    "plt.legend()\n",
    "plt.grid(True)\n",
    "plt.show()"
   ]
  },
  {
   "cell_type": "code",
   "execution_count": 76,
   "metadata": {},
   "outputs": [
    {
     "name": "stdout",
     "output_type": "stream",
     "text": [
      "Linear Reg Median:  2.803136991840197\n",
      "Linear Reg MSE:  46775.196081228525\n",
      "Linear Reg MAE:  33.64131855243349\n",
      "Linear Reg RMSE:  216.27574085234\n"
     ]
    },
    {
     "data": {
      "image/png": "[encoded data removed]",
      "text/plain": [
       "<Figure size 800x600 with 1 Axes>"
      ]
     },
     "metadata": {},
     "output_type": "display_data"
    }
   ],
   "source": [
    "\n",
    "from sklearn.linear_model import RANSACRegressor\n",
    "\n",
    "from sklearn.metrics import mean_squared_error, mean_absolute_error, median_absolute_error\n",
    "\n",
    "RANS = RANSACRegressor()\n",
    "\n",
    "\n",
    "RANS.fit(X, y)\n",
    "\n",
    "\n",
    "y_pred = RANS.predict(X)\n",
    "\n",
    "median = median_absolute_error(y,y_pred)\n",
    "mse = mean_squared_error(y, y_pred)\n",
    "mae = mean_absolute_error(y, y_pred)\n",
    "rmse = np.sqrt(mse)\n",
    "\n",
    "print(\"Linear Reg Median: \", median)\n",
    "print(\"Linear Reg MSE: \", mse)\n",
    "print(\"Linear Reg MAE: \", mae)\n",
    "print(\"Linear Reg RMSE: \", rmse)\n",
    "\n",
    "\n",
    "\n",
    "plt.figure(figsize=(8, 6))\n",
    "plt.scatter(X, y, color=\"blue\", label=\"Data\", alpha=0.5)\n",
    "plt.plot(X, y_pred, color=\"red\", label=\"Linear\")\n",
    "plt.title(\"Linear Regression\")\n",
    "plt.xlabel(\"X\")\n",
    "plt.ylabel(\"y\")\n",
    "plt.legend()\n",
    "plt.grid(True)\n",
    "plt.show()"
   ]
  },
  {
   "cell_type": "code",
   "execution_count": 78,
   "metadata": {},
   "outputs": [
    {
     "data": {
      "text/html": [
       "<div>\n",
       "<style scoped>\n",
       "    .dataframe tbody tr th:only-of-type {\n",
       "        vertical-align: middle;\n",
       "    }\n",
       "\n",
       "    .dataframe tbody tr th {\n",
       "        vertical-align: top;\n",
       "    }\n",
       "\n",
       "    .dataframe thead th {\n",
       "        text-align: right;\n",
       "    }\n",
       "</style>\n",
       "<table border=\"1\" class=\"dataframe\">\n",
       "  <thead>\n",
       "    <tr style=\"text-align: right;\">\n",
       "      <th></th>\n",
       "      <th>Unnamed: 0</th>\n",
       "      <th>x1</th>\n",
       "      <th>x2</th>\n",
       "      <th>x3</th>\n",
       "      <th>x4</th>\n",
       "      <th>x5</th>\n",
       "      <th>x6</th>\n",
       "      <th>x7</th>\n",
       "      <th>x8</th>\n",
       "      <th>x9</th>\n",
       "      <th>...</th>\n",
       "      <th>x12</th>\n",
       "      <th>x13</th>\n",
       "      <th>x14</th>\n",
       "      <th>x15</th>\n",
       "      <th>x16</th>\n",
       "      <th>x17</th>\n",
       "      <th>x18</th>\n",
       "      <th>x19</th>\n",
       "      <th>x20</th>\n",
       "      <th>y</th>\n",
       "    </tr>\n",
       "  </thead>\n",
       "  <tbody>\n",
       "    <tr>\n",
       "      <th>0</th>\n",
       "      <td>0</td>\n",
       "      <td>-1.572796</td>\n",
       "      <td>-0.332759</td>\n",
       "      <td>-0.392821</td>\n",
       "      <td>-1.259596</td>\n",
       "      <td>0.826126</td>\n",
       "      <td>1.226664</td>\n",
       "      <td>-0.217163</td>\n",
       "      <td>-1.448793</td>\n",
       "      <td>-0.652853</td>\n",
       "      <td>...</td>\n",
       "      <td>-0.057281</td>\n",
       "      <td>0.561450</td>\n",
       "      <td>-0.838311</td>\n",
       "      <td>2.337410</td>\n",
       "      <td>-0.204008</td>\n",
       "      <td>0.666355</td>\n",
       "      <td>1.523771</td>\n",
       "      <td>0.095412</td>\n",
       "      <td>-0.336274</td>\n",
       "      <td>32.488872</td>\n",
       "    </tr>\n",
       "    <tr>\n",
       "      <th>1</th>\n",
       "      <td>1</td>\n",
       "      <td>0.079122</td>\n",
       "      <td>-1.040599</td>\n",
       "      <td>-1.133593</td>\n",
       "      <td>1.238007</td>\n",
       "      <td>-1.011774</td>\n",
       "      <td>0.850531</td>\n",
       "      <td>-1.373054</td>\n",
       "      <td>-0.032850</td>\n",
       "      <td>-0.422113</td>\n",
       "      <td>...</td>\n",
       "      <td>0.096004</td>\n",
       "      <td>-0.010056</td>\n",
       "      <td>0.757468</td>\n",
       "      <td>-0.643258</td>\n",
       "      <td>-0.315603</td>\n",
       "      <td>-0.839124</td>\n",
       "      <td>-0.148766</td>\n",
       "      <td>1.587762</td>\n",
       "      <td>0.996760</td>\n",
       "      <td>24.748279</td>\n",
       "    </tr>\n",
       "    <tr>\n",
       "      <th>2</th>\n",
       "      <td>2</td>\n",
       "      <td>0.037996</td>\n",
       "      <td>0.650042</td>\n",
       "      <td>1.336386</td>\n",
       "      <td>-0.843616</td>\n",
       "      <td>0.766990</td>\n",
       "      <td>1.714051</td>\n",
       "      <td>0.003583</td>\n",
       "      <td>0.099201</td>\n",
       "      <td>0.682386</td>\n",
       "      <td>...</td>\n",
       "      <td>-0.046481</td>\n",
       "      <td>-0.050083</td>\n",
       "      <td>1.483129</td>\n",
       "      <td>-0.496608</td>\n",
       "      <td>-0.364170</td>\n",
       "      <td>-0.767949</td>\n",
       "      <td>0.461469</td>\n",
       "      <td>-0.268010</td>\n",
       "      <td>-0.120041</td>\n",
       "      <td>47.960983</td>\n",
       "    </tr>\n",
       "    <tr>\n",
       "      <th>3</th>\n",
       "      <td>3</td>\n",
       "      <td>0.232181</td>\n",
       "      <td>0.426259</td>\n",
       "      <td>-0.463596</td>\n",
       "      <td>-2.069985</td>\n",
       "      <td>-1.424061</td>\n",
       "      <td>-0.597316</td>\n",
       "      <td>0.416050</td>\n",
       "      <td>0.251589</td>\n",
       "      <td>-0.945513</td>\n",
       "      <td>...</td>\n",
       "      <td>0.063262</td>\n",
       "      <td>1.494485</td>\n",
       "      <td>0.781198</td>\n",
       "      <td>-0.345982</td>\n",
       "      <td>0.676908</td>\n",
       "      <td>-0.237922</td>\n",
       "      <td>-1.540797</td>\n",
       "      <td>-0.955945</td>\n",
       "      <td>0.481481</td>\n",
       "      <td>-167.823931</td>\n",
       "    </tr>\n",
       "    <tr>\n",
       "      <th>4</th>\n",
       "      <td>4</td>\n",
       "      <td>0.852830</td>\n",
       "      <td>0.938585</td>\n",
       "      <td>-0.013451</td>\n",
       "      <td>1.239941</td>\n",
       "      <td>-0.726366</td>\n",
       "      <td>0.669562</td>\n",
       "      <td>-0.608815</td>\n",
       "      <td>0.861405</td>\n",
       "      <td>0.362566</td>\n",
       "      <td>...</td>\n",
       "      <td>0.480970</td>\n",
       "      <td>1.951761</td>\n",
       "      <td>1.925806</td>\n",
       "      <td>-0.374126</td>\n",
       "      <td>-1.019251</td>\n",
       "      <td>1.004419</td>\n",
       "      <td>0.410602</td>\n",
       "      <td>0.152177</td>\n",
       "      <td>0.815472</td>\n",
       "      <td>14.316381</td>\n",
       "    </tr>\n",
       "  </tbody>\n",
       "</table>\n",
       "<p>5 rows × 22 columns</p>\n",
       "</div>"
      ],
      "text/plain": [
       "   Unnamed: 0        x1        x2        x3        x4        x5        x6  \\\n",
       "0           0 -1.572796 -0.332759 -0.392821 -1.259596  0.826126  1.226664   \n",
       "1           1  0.079122 -1.040599 -1.133593  1.238007 -1.011774  0.850531   \n",
       "2           2  0.037996  0.650042  1.336386 -0.843616  0.766990  1.714051   \n",
       "3           3  0.232181  0.426259 -0.463596 -2.069985 -1.424061 -0.597316   \n",
       "4           4  0.852830  0.938585 -0.013451  1.239941 -0.726366  0.669562   \n",
       "\n",
       "         x7        x8        x9  ...       x12       x13       x14       x15  \\\n",
       "0 -0.217163 -1.448793 -0.652853  ... -0.057281  0.561450 -0.838311  2.337410   \n",
       "1 -1.373054 -0.032850 -0.422113  ...  0.096004 -0.010056  0.757468 -0.643258   \n",
       "2  0.003583  0.099201  0.682386  ... -0.046481 -0.050083  1.483129 -0.496608   \n",
       "3  0.416050  0.251589 -0.945513  ...  0.063262  1.494485  0.781198 -0.345982   \n",
       "4 -0.608815  0.861405  0.362566  ...  0.480970  1.951761  1.925806 -0.374126   \n",
       "\n",
       "        x16       x17       x18       x19       x20           y  \n",
       "0 -0.204008  0.666355  1.523771  0.095412 -0.336274   32.488872  \n",
       "1 -0.315603 -0.839124 -0.148766  1.587762  0.996760   24.748279  \n",
       "2 -0.364170 -0.767949  0.461469 -0.268010 -0.120041   47.960983  \n",
       "3  0.676908 -0.237922 -1.540797 -0.955945  0.481481 -167.823931  \n",
       "4 -1.019251  1.004419  0.410602  0.152177  0.815472   14.316381  \n",
       "\n",
       "[5 rows x 22 columns]"
      ]
     },
     "execution_count": 78,
     "metadata": {},
     "output_type": "execute_result"
    }
   ],
   "source": [
    "data1 = pd.read_csv(\"data_feature_selection.csv\")\n",
    "data1.head()"
   ]
  },
  {
   "cell_type": "code",
   "execution_count": 81,
   "metadata": {},
   "outputs": [
    {
     "data": {
      "text/html": [
       "<style type=\"text/css\">\n",
       "#T_765c9_row0_col0, #T_765c9_row3_col7, #T_765c9_row6_col6, #T_765c9_row9_col15, #T_765c9_row11_col6, #T_765c9_row15_col14 {\n",
       "  background-color: #e9e5f1;\n",
       "  color: #000000;\n",
       "}\n",
       "#T_765c9_row0_col1, #T_765c9_row1_col9, #T_765c9_row1_col11, #T_765c9_row3_col3, #T_765c9_row4_col4, #T_765c9_row4_col18, #T_765c9_row5_col20, #T_765c9_row7_col1, #T_765c9_row7_col4, #T_765c9_row7_col14, #T_765c9_row8_col17, #T_765c9_row9_col7, #T_765c9_row10_col17, #T_765c9_row10_col18, #T_765c9_row12_col5, #T_765c9_row12_col7, #T_765c9_row13_col6, #T_765c9_row13_col14, #T_765c9_row14_col12, #T_765c9_row15_col1, #T_765c9_row15_col3, #T_765c9_row15_col16, #T_765c9_row16_col11, #T_765c9_row16_col21, #T_765c9_row17_col21, #T_765c9_row19_col18, #T_765c9_row20_col15 {\n",
       "  background-color: #f0eaf4;\n",
       "  color: #000000;\n",
       "}\n",
       "#T_765c9_row0_col2, #T_765c9_row4_col19, #T_765c9_row11_col5, #T_765c9_row11_col20, #T_765c9_row11_col21, #T_765c9_row13_col19, #T_765c9_row15_col17 {\n",
       "  background-color: #ede7f2;\n",
       "  color: #000000;\n",
       "}\n",
       "#T_765c9_row0_col3 {\n",
       "  background-color: #80aed2;\n",
       "  color: #f1f1f1;\n",
       "}\n",
       "#T_765c9_row0_col4, #T_765c9_row0_col14, #T_765c9_row1_col16, #T_765c9_row3_col9, #T_765c9_row3_col20, #T_765c9_row4_col7, #T_765c9_row5_col7, #T_765c9_row12_col0, #T_765c9_row14_col18, #T_765c9_row17_col13, #T_765c9_row21_col8 {\n",
       "  background-color: #eae6f1;\n",
       "  color: #000000;\n",
       "}\n",
       "#T_765c9_row0_col5, #T_765c9_row1_col5, #T_765c9_row4_col12, #T_765c9_row5_col13, #T_765c9_row5_col14, #T_765c9_row6_col11, #T_765c9_row7_col6, #T_765c9_row7_col10, #T_765c9_row7_col17, #T_765c9_row9_col2, #T_765c9_row10_col7, #T_765c9_row11_col16, #T_765c9_row12_col11, #T_765c9_row15_col0, #T_765c9_row15_col2, #T_765c9_row15_col20, #T_765c9_row16_col7, #T_765c9_row19_col19 {\n",
       "  background-color: #ece7f2;\n",
       "  color: #000000;\n",
       "}\n",
       "#T_765c9_row0_col6, #T_765c9_row10_col12, #T_765c9_row12_col13, #T_765c9_row12_col21, #T_765c9_row14_col17, #T_765c9_row16_col12, #T_765c9_row19_col9 {\n",
       "  background-color: #eee8f3;\n",
       "  color: #000000;\n",
       "}\n",
       "#T_765c9_row0_col7, #T_765c9_row13_col16, #T_765c9_row17_col0 {\n",
       "  background-color: #cdd0e5;\n",
       "  color: #000000;\n",
       "}\n",
       "#T_765c9_row0_col8, #T_765c9_row3_col10, #T_765c9_row9_col19, #T_765c9_row12_col1, #T_765c9_row12_col14, #T_765c9_row15_col8, #T_765c9_row16_col8, #T_765c9_row21_col19 {\n",
       "  background-color: #f8f1f8;\n",
       "  color: #000000;\n",
       "}\n",
       "#T_765c9_row0_col9, #T_765c9_row0_col20 {\n",
       "  background-color: #88b1d4;\n",
       "  color: #000000;\n",
       "}\n",
       "#T_765c9_row0_col10, #T_765c9_row1_col14, #T_765c9_row2_col6, #T_765c9_row2_col14, #T_765c9_row6_col14, #T_765c9_row8_col1, #T_765c9_row8_col13, #T_765c9_row9_col16, #T_765c9_row15_col12, #T_765c9_row15_col19, #T_765c9_row17_col15, #T_765c9_row18_col5, #T_765c9_row18_col7, #T_765c9_row18_col14, #T_765c9_row18_col17, #T_765c9_row19_col14 {\n",
       "  background-color: #f3edf5;\n",
       "  color: #000000;\n",
       "}\n",
       "#T_765c9_row0_col11, #T_765c9_row4_col15, #T_765c9_row7_col9, #T_765c9_row7_col18, #T_765c9_row14_col4, #T_765c9_row14_col10, #T_765c9_row14_col20, #T_765c9_row16_col2, #T_765c9_row21_col20 {\n",
       "  background-color: #f5eef6;\n",
       "  color: #000000;\n",
       "}\n",
       "#T_765c9_row0_col12 {\n",
       "  background-color: #d4d4e8;\n",
       "  color: #000000;\n",
       "}\n",
       "#T_765c9_row0_col13, #T_765c9_row8_col3, #T_765c9_row9_col6, #T_765c9_row11_col14 {\n",
       "  background-color: #dcdaeb;\n",
       "  color: #000000;\n",
       "}\n",
       "#T_765c9_row0_col15, #T_765c9_row4_col21, #T_765c9_row5_col21 {\n",
       "  background-color: #8fb4d6;\n",
       "  color: #000000;\n",
       "}\n",
       "#T_765c9_row0_col16, #T_765c9_row3_col12, #T_765c9_row9_col8, #T_765c9_row13_col15, #T_765c9_row17_col10, #T_765c9_row20_col17, #T_765c9_row21_col11 {\n",
       "  background-color: #faf3f9;\n",
       "  color: #000000;\n",
       "}\n",
       "#T_765c9_row0_col17, #T_765c9_row1_col10, #T_765c9_row1_col18, #T_765c9_row3_col2, #T_765c9_row3_col8, #T_765c9_row5_col6, #T_765c9_row6_col8, #T_765c9_row8_col15, #T_765c9_row9_col1, #T_765c9_row9_col10, #T_765c9_row9_col12, #T_765c9_row10_col8, #T_765c9_row10_col13, #T_765c9_row13_col5, #T_765c9_row14_col8, #T_765c9_row15_col15, #T_765c9_row16_col4, #T_765c9_row16_col6, #T_765c9_row18_col15, #T_765c9_row18_col21, #T_765c9_row19_col15, #T_765c9_row19_col21, #T_765c9_row20_col9, #T_765c9_row20_col18, #T_765c9_row20_col21 {\n",
       "  background-color: #f2ecf5;\n",
       "  color: #000000;\n",
       "}\n",
       "#T_765c9_row0_col18 {\n",
       "  background-color: #a8bedc;\n",
       "  color: #000000;\n",
       "}\n",
       "#T_765c9_row0_col19 {\n",
       "  background-color: #62a2cb;\n",
       "  color: #f1f1f1;\n",
       "}\n",
       "#T_765c9_row0_col21, #T_765c9_row1_col19, #T_765c9_row2_col3, #T_765c9_row3_col15, #T_765c9_row4_col20, #T_765c9_row5_col9, #T_765c9_row6_col18, #T_765c9_row7_col12, #T_765c9_row8_col7, #T_765c9_row9_col13, #T_765c9_row10_col14, #T_765c9_row11_col4, #T_765c9_row12_col10, #T_765c9_row13_col2, #T_765c9_row14_col0, #T_765c9_row15_col11, #T_765c9_row16_col17, #T_765c9_row17_col5, #T_765c9_row18_col1, #T_765c9_row19_col8, #T_765c9_row20_col6, #T_765c9_row21_col16 {\n",
       "  background-color: #023858;\n",
       "  color: #f1f1f1;\n",
       "}\n",
       "#T_765c9_row1_col0, #T_765c9_row1_col20, #T_765c9_row9_col11, #T_765c9_row19_col16 {\n",
       "  background-color: #dbdaeb;\n",
       "  color: #000000;\n",
       "}\n",
       "#T_765c9_row1_col1, #T_765c9_row1_col2, #T_765c9_row2_col7, #T_765c9_row6_col0, #T_765c9_row7_col20, #T_765c9_row9_col17, #T_765c9_row9_col20, #T_765c9_row12_col20, #T_765c9_row15_col6 {\n",
       "  background-color: #dfddec;\n",
       "  color: #000000;\n",
       "}\n",
       "#T_765c9_row1_col3, #T_765c9_row1_col13, #T_765c9_row6_col4, #T_765c9_row6_col7, #T_765c9_row6_col17, #T_765c9_row9_col0, #T_765c9_row20_col8, #T_765c9_row21_col12 {\n",
       "  background-color: #f1ebf4;\n",
       "  color: #000000;\n",
       "}\n",
       "#T_765c9_row1_col4, #T_765c9_row2_col10, #T_765c9_row4_col17, #T_765c9_row6_col3, #T_765c9_row6_col9, #T_765c9_row14_col19, #T_765c9_row18_col19, #T_765c9_row20_col4, #T_765c9_row20_col11 {\n",
       "  background-color: #ede8f3;\n",
       "  color: #000000;\n",
       "}\n",
       "#T_765c9_row1_col6, #T_765c9_row4_col9, #T_765c9_row10_col5, #T_765c9_row11_col1, #T_765c9_row13_col21, #T_765c9_row18_col4, #T_765c9_row18_col9, #T_765c9_row18_col18, #T_765c9_row19_col3, #T_765c9_row19_col4 {\n",
       "  background-color: #eee9f3;\n",
       "  color: #000000;\n",
       "}\n",
       "#T_765c9_row1_col7 {\n",
       "  background-color: #cccfe5;\n",
       "  color: #000000;\n",
       "}\n",
       "#T_765c9_row1_col8, #T_765c9_row2_col2, #T_765c9_row3_col1, #T_765c9_row4_col1, #T_765c9_row5_col10, #T_765c9_row6_col1, #T_765c9_row10_col6, #T_765c9_row10_col11, #T_765c9_row10_col20, #T_765c9_row15_col18 {\n",
       "  background-color: #e8e4f0;\n",
       "  color: #000000;\n",
       "}\n",
       "#T_765c9_row1_col12, #T_765c9_row7_col2, #T_765c9_row9_col3, #T_765c9_row9_col21, #T_765c9_row12_col9, #T_765c9_row16_col9 {\n",
       "  background-color: #dad9ea;\n",
       "  color: #000000;\n",
       "}\n",
       "#T_765c9_row1_col15, #T_765c9_row9_col5, #T_765c9_row9_col9, #T_765c9_row9_col18, #T_765c9_row12_col6, #T_765c9_row18_col0, #T_765c9_row18_col6, #T_765c9_row21_col1 {\n",
       "  background-color: #e2dfee;\n",
       "  color: #000000;\n",
       "}\n",
       "#T_765c9_row1_col17, #T_765c9_row2_col8, #T_765c9_row5_col8, #T_765c9_row13_col8, #T_765c9_row17_col19, #T_765c9_row20_col7 {\n",
       "  background-color: #f9f2f8;\n",
       "  color: #000000;\n",
       "}\n",
       "#T_765c9_row1_col21 {\n",
       "  background-color: #549cc7;\n",
       "  color: #f1f1f1;\n",
       "}\n",
       "#T_765c9_row2_col0, #T_765c9_row2_col19, #T_765c9_row5_col19, #T_765c9_row11_col11 {\n",
       "  background-color: #fef6fa;\n",
       "  color: #000000;\n",
       "}\n",
       "#T_765c9_row2_col1, #T_765c9_row3_col11, #T_765c9_row4_col2, #T_765c9_row4_col8, #T_765c9_row5_col1, #T_765c9_row8_col2, #T_765c9_row11_col0, #T_765c9_row13_col7, #T_765c9_row15_col9, #T_765c9_row16_col18, #T_765c9_row17_col12, #T_765c9_row19_col2 {\n",
       "  background-color: #f1ebf5;\n",
       "  color: #000000;\n",
       "}\n",
       "#T_765c9_row2_col4, #T_765c9_row3_col19, #T_765c9_row8_col9, #T_765c9_row14_col6, #T_765c9_row19_col20, #T_765c9_row20_col13 {\n",
       "  background-color: #e5e1ef;\n",
       "  color: #000000;\n",
       "}\n",
       "#T_765c9_row2_col5, #T_765c9_row7_col21, #T_765c9_row14_col5 {\n",
       "  background-color: #ced0e6;\n",
       "  color: #000000;\n",
       "}\n",
       "#T_765c9_row2_col9, #T_765c9_row5_col3 {\n",
       "  background-color: #034871;\n",
       "  color: #f1f1f1;\n",
       "}\n",
       "#T_765c9_row2_col11, #T_765c9_row12_col15, #T_765c9_row13_col17, #T_765c9_row14_col2, #T_765c9_row16_col10, #T_765c9_row16_col15, #T_765c9_row17_col14, #T_765c9_row21_col7, #T_765c9_row21_col13 {\n",
       "  background-color: #faf2f8;\n",
       "  color: #000000;\n",
       "}\n",
       "#T_765c9_row2_col12, #T_765c9_row3_col14, #T_765c9_row4_col5, #T_765c9_row5_col0, #T_765c9_row5_col12, #T_765c9_row8_col4, #T_765c9_row10_col15, #T_765c9_row11_col7, #T_765c9_row11_col13, #T_765c9_row12_col8, #T_765c9_row13_col1, #T_765c9_row14_col3, #T_765c9_row14_col9, #T_765c9_row16_col19, #T_765c9_row17_col8, #T_765c9_row17_col11, #T_765c9_row17_col18, #T_765c9_row17_col20, #T_765c9_row18_col2, #T_765c9_row18_col10, #T_765c9_row20_col16, #T_765c9_row21_col6, #T_765c9_row21_col17, #T_765c9_row21_col21 {\n",
       "  background-color: #fff7fb;\n",
       "  color: #000000;\n",
       "}\n",
       "#T_765c9_row2_col13, #T_765c9_row3_col6, #T_765c9_row10_col21, #T_765c9_row11_col3, #T_765c9_row12_col18, #T_765c9_row13_col9 {\n",
       "  background-color: #e1dfed;\n",
       "  color: #000000;\n",
       "}\n",
       "#T_765c9_row2_col15, #T_765c9_row13_col18 {\n",
       "  background-color: #fbf3f9;\n",
       "  color: #000000;\n",
       "}\n",
       "#T_765c9_row2_col16, #T_765c9_row2_col18, #T_765c9_row4_col14, #T_765c9_row4_col16, #T_765c9_row5_col16, #T_765c9_row7_col11, #T_765c9_row8_col14, #T_765c9_row15_col5, #T_765c9_row17_col2, #T_765c9_row19_col17, #T_765c9_row20_col3, #T_765c9_row20_col14, #T_765c9_row21_col9 {\n",
       "  background-color: #f4eef6;\n",
       "  color: #000000;\n",
       "}\n",
       "#T_765c9_row2_col17, #T_765c9_row6_col13, #T_765c9_row7_col19 {\n",
       "  background-color: #e0dded;\n",
       "  color: #000000;\n",
       "}\n",
       "#T_765c9_row2_col20, #T_765c9_row4_col3, #T_765c9_row7_col13, #T_765c9_row13_col13, #T_765c9_row13_col20, #T_765c9_row14_col21, #T_765c9_row15_col21, #T_765c9_row16_col1, #T_765c9_row17_col4, #T_765c9_row18_col3, #T_765c9_row20_col10, #T_765c9_row21_col4 {\n",
       "  background-color: #efe9f3;\n",
       "  color: #000000;\n",
       "}\n",
       "#T_765c9_row2_col21, #T_765c9_row3_col21 {\n",
       "  background-color: #86b0d3;\n",
       "  color: #000000;\n",
       "}\n",
       "#T_765c9_row3_col0, #T_765c9_row3_col5, #T_765c9_row4_col13, #T_765c9_row6_col15, #T_765c9_row7_col5, #T_765c9_row8_col20, #T_765c9_row10_col3, #T_765c9_row11_col10, #T_765c9_row11_col15, #T_765c9_row14_col1, #T_765c9_row17_col16, #T_765c9_row20_col1, #T_765c9_row21_col5 {\n",
       "  background-color: #e7e3f0;\n",
       "  color: #000000;\n",
       "}\n",
       "#T_765c9_row3_col4, #T_765c9_row8_col5, #T_765c9_row10_col9, #T_765c9_row12_col2, #T_765c9_row12_col4, #T_765c9_row16_col13 {\n",
       "  background-color: #dddbec;\n",
       "  color: #000000;\n",
       "}\n",
       "#T_765c9_row3_col13, #T_765c9_row7_col0, #T_765c9_row13_col12, #T_765c9_row16_col0, #T_765c9_row19_col6, #T_765c9_row21_col10 {\n",
       "  background-color: #e3e0ee;\n",
       "  color: #000000;\n",
       "}\n",
       "#T_765c9_row3_col16, #T_765c9_row4_col10, #T_765c9_row10_col0, #T_765c9_row10_col1, #T_765c9_row10_col16, #T_765c9_row12_col12, #T_765c9_row15_col10 {\n",
       "  background-color: #ebe6f2;\n",
       "  color: #000000;\n",
       "}\n",
       "#T_765c9_row3_col17, #T_765c9_row4_col11, #T_765c9_row5_col15, #T_765c9_row7_col3, #T_765c9_row8_col16, #T_765c9_row8_col18, #T_765c9_row11_col8, #T_765c9_row11_col12, #T_765c9_row11_col18, #T_765c9_row12_col19, #T_765c9_row13_col0 {\n",
       "  background-color: #f6eff7;\n",
       "  color: #000000;\n",
       "}\n",
       "#T_765c9_row3_col18, #T_765c9_row5_col17, #T_765c9_row6_col10, #T_765c9_row16_col20, #T_765c9_row18_col20, #T_765c9_row19_col0, #T_765c9_row20_col0 {\n",
       "  background-color: #e4e1ef;\n",
       "  color: #000000;\n",
       "}\n",
       "#T_765c9_row4_col0, #T_765c9_row6_col16, #T_765c9_row13_col11, #T_765c9_row14_col15, #T_765c9_row16_col14, #T_765c9_row19_col5, #T_765c9_row19_col7, #T_765c9_row20_col2 {\n",
       "  background-color: #f4edf6;\n",
       "  color: #000000;\n",
       "}\n",
       "#T_765c9_row4_col6, #T_765c9_row18_col16, #T_765c9_row20_col20 {\n",
       "  background-color: #dedcec;\n",
       "  color: #000000;\n",
       "}\n",
       "#T_765c9_row5_col2, #T_765c9_row6_col20, #T_765c9_row7_col16, #T_765c9_row10_col2, #T_765c9_row11_col2, #T_765c9_row13_col3, #T_765c9_row13_col4, #T_765c9_row13_col10 {\n",
       "  background-color: #e6e2ef;\n",
       "  color: #000000;\n",
       "}\n",
       "#T_765c9_row5_col4 {\n",
       "  background-color: #7bacd1;\n",
       "  color: #f1f1f1;\n",
       "}\n",
       "#T_765c9_row5_col5, #T_765c9_row10_col4, #T_765c9_row14_col16, #T_765c9_row17_col17, #T_765c9_row21_col0 {\n",
       "  background-color: #d2d3e7;\n",
       "  color: #000000;\n",
       "}\n",
       "#T_765c9_row5_col11, #T_765c9_row21_col18 {\n",
       "  background-color: #fdf5fa;\n",
       "  color: #000000;\n",
       "}\n",
       "#T_765c9_row5_col18, #T_765c9_row6_col2, #T_765c9_row8_col6, #T_765c9_row10_col19, #T_765c9_row15_col4, #T_765c9_row17_col1, #T_765c9_row18_col13, #T_765c9_row19_col12, #T_765c9_row19_col13, #T_765c9_row20_col12, #T_765c9_row21_col3 {\n",
       "  background-color: #f5eff6;\n",
       "  color: #000000;\n",
       "}\n",
       "#T_765c9_row6_col5, #T_765c9_row6_col12, #T_765c9_row6_col19, #T_765c9_row7_col8, #T_765c9_row8_col10, #T_765c9_row9_col14, #T_765c9_row10_col10, #T_765c9_row11_col17, #T_765c9_row11_col19, #T_765c9_row12_col17, #T_765c9_row14_col11, #T_765c9_row14_col13, #T_765c9_row14_col14, #T_765c9_row16_col16, #T_765c9_row18_col11, #T_765c9_row18_col12, #T_765c9_row19_col11, #T_765c9_row21_col14, #T_765c9_row21_col15 {\n",
       "  background-color: #f7f0f7;\n",
       "  color: #000000;\n",
       "}\n",
       "#T_765c9_row6_col21 {\n",
       "  background-color: #a2bcda;\n",
       "  color: #000000;\n",
       "}\n",
       "#T_765c9_row7_col7 {\n",
       "  background-color: #d8d7e9;\n",
       "  color: #000000;\n",
       "}\n",
       "#T_765c9_row7_col15, #T_765c9_row8_col8, #T_765c9_row9_col4, #T_765c9_row20_col19 {\n",
       "  background-color: #fcf4fa;\n",
       "  color: #000000;\n",
       "}\n",
       "#T_765c9_row8_col0 {\n",
       "  background-color: #d1d2e6;\n",
       "  color: #000000;\n",
       "}\n",
       "#T_765c9_row8_col11, #T_765c9_row14_col7, #T_765c9_row15_col13 {\n",
       "  background-color: #d5d5e8;\n",
       "  color: #000000;\n",
       "}\n",
       "#T_765c9_row8_col12, #T_765c9_row12_col3, #T_765c9_row17_col7 {\n",
       "  background-color: #e0deed;\n",
       "  color: #000000;\n",
       "}\n",
       "#T_765c9_row8_col19 {\n",
       "  background-color: #d9d8ea;\n",
       "  color: #000000;\n",
       "}\n",
       "#T_765c9_row8_col21, #T_765c9_row17_col3 {\n",
       "  background-color: #d0d1e6;\n",
       "  color: #000000;\n",
       "}\n",
       "#T_765c9_row11_col9 {\n",
       "  background-color: #76aad0;\n",
       "  color: #f1f1f1;\n",
       "}\n",
       "#T_765c9_row12_col16 {\n",
       "  background-color: #d6d6e9;\n",
       "  color: #000000;\n",
       "}\n",
       "#T_765c9_row15_col7 {\n",
       "  background-color: #cacee5;\n",
       "  color: #000000;\n",
       "}\n",
       "#T_765c9_row16_col3 {\n",
       "  background-color: #d7d6e9;\n",
       "  color: #000000;\n",
       "}\n",
       "#T_765c9_row16_col5 {\n",
       "  background-color: #c8cde4;\n",
       "  color: #000000;\n",
       "}\n",
       "#T_765c9_row17_col6, #T_765c9_row17_col9, #T_765c9_row20_col5, #T_765c9_row21_col2 {\n",
       "  background-color: #d2d2e7;\n",
       "  color: #000000;\n",
       "}\n",
       "#T_765c9_row18_col8, #T_765c9_row19_col1 {\n",
       "  background-color: #02395a;\n",
       "  color: #f1f1f1;\n",
       "}\n",
       "#T_765c9_row19_col10 {\n",
       "  background-color: #fef6fb;\n",
       "  color: #000000;\n",
       "}\n",
       "</style>\n",
       "<table id=\"T_765c9\">\n",
       "  <thead>\n",
       "    <tr>\n",
       "      <th class=\"blank level0\" >&nbsp;</th>\n",
       "      <th id=\"T_765c9_level0_col0\" class=\"col_heading level0 col0\" >Unnamed: 0</th>\n",
       "      <th id=\"T_765c9_level0_col1\" class=\"col_heading level0 col1\" >x1</th>\n",
       "      <th id=\"T_765c9_level0_col2\" class=\"col_heading level0 col2\" >x2</th>\n",
       "      <th id=\"T_765c9_level0_col3\" class=\"col_heading level0 col3\" >x3</th>\n",
       "      <th id=\"T_765c9_level0_col4\" class=\"col_heading level0 col4\" >x4</th>\n",
       "      <th id=\"T_765c9_level0_col5\" class=\"col_heading level0 col5\" >x5</th>\n",
       "      <th id=\"T_765c9_level0_col6\" class=\"col_heading level0 col6\" >x6</th>\n",
       "      <th id=\"T_765c9_level0_col7\" class=\"col_heading level0 col7\" >x7</th>\n",
       "      <th id=\"T_765c9_level0_col8\" class=\"col_heading level0 col8\" >x8</th>\n",
       "      <th id=\"T_765c9_level0_col9\" class=\"col_heading level0 col9\" >x9</th>\n",
       "      <th id=\"T_765c9_level0_col10\" class=\"col_heading level0 col10\" >x10</th>\n",
       "      <th id=\"T_765c9_level0_col11\" class=\"col_heading level0 col11\" >x11</th>\n",
       "      <th id=\"T_765c9_level0_col12\" class=\"col_heading level0 col12\" >x12</th>\n",
       "      <th id=\"T_765c9_level0_col13\" class=\"col_heading level0 col13\" >x13</th>\n",
       "      <th id=\"T_765c9_level0_col14\" class=\"col_heading level0 col14\" >x14</th>\n",
       "      <th id=\"T_765c9_level0_col15\" class=\"col_heading level0 col15\" >x15</th>\n",
       "      <th id=\"T_765c9_level0_col16\" class=\"col_heading level0 col16\" >x16</th>\n",
       "      <th id=\"T_765c9_level0_col17\" class=\"col_heading level0 col17\" >x17</th>\n",
       "      <th id=\"T_765c9_level0_col18\" class=\"col_heading level0 col18\" >x18</th>\n",
       "      <th id=\"T_765c9_level0_col19\" class=\"col_heading level0 col19\" >x19</th>\n",
       "      <th id=\"T_765c9_level0_col20\" class=\"col_heading level0 col20\" >x20</th>\n",
       "      <th id=\"T_765c9_level0_col21\" class=\"col_heading level0 col21\" >y</th>\n",
       "    </tr>\n",
       "  </thead>\n",
       "  <tbody>\n",
       "    <tr>\n",
       "      <th id=\"T_765c9_level0_row0\" class=\"row_heading level0 row0\" >y</th>\n",
       "      <td id=\"T_765c9_row0_col0\" class=\"data row0 col0\" >-0.007000</td>\n",
       "      <td id=\"T_765c9_row0_col1\" class=\"data row0 col1\" >-0.029000</td>\n",
       "      <td id=\"T_765c9_row0_col2\" class=\"data row0 col2\" >-0.002000</td>\n",
       "      <td id=\"T_765c9_row0_col3\" class=\"data row0 col3\" >0.387000</td>\n",
       "      <td id=\"T_765c9_row0_col4\" class=\"data row0 col4\" >0.013000</td>\n",
       "      <td id=\"T_765c9_row0_col5\" class=\"data row0 col5\" >-0.014000</td>\n",
       "      <td id=\"T_765c9_row0_col6\" class=\"data row0 col6\" >-0.034000</td>\n",
       "      <td id=\"T_765c9_row0_col7\" class=\"data row0 col7\" >0.155000</td>\n",
       "      <td id=\"T_765c9_row0_col8\" class=\"data row0 col8\" >-0.029000</td>\n",
       "      <td id=\"T_765c9_row0_col9\" class=\"data row0 col9\" >0.359000</td>\n",
       "      <td id=\"T_765c9_row0_col10\" class=\"data row0 col10\" >0.001000</td>\n",
       "      <td id=\"T_765c9_row0_col11\" class=\"data row0 col11\" >-0.007000</td>\n",
       "      <td id=\"T_765c9_row0_col12\" class=\"data row0 col12\" >0.162000</td>\n",
       "      <td id=\"T_765c9_row0_col13\" class=\"data row0 col13\" >0.106000</td>\n",
       "      <td id=\"T_765c9_row0_col14\" class=\"data row0 col14\" >0.067000</td>\n",
       "      <td id=\"T_765c9_row0_col15\" class=\"data row0 col15\" >0.386000</td>\n",
       "      <td id=\"T_765c9_row0_col16\" class=\"data row0 col16\" >-0.127000</td>\n",
       "      <td id=\"T_765c9_row0_col17\" class=\"data row0 col17\" >-0.011000</td>\n",
       "      <td id=\"T_765c9_row0_col18\" class=\"data row0 col18\" >0.307000</td>\n",
       "      <td id=\"T_765c9_row0_col19\" class=\"data row0 col19\" >0.511000</td>\n",
       "      <td id=\"T_765c9_row0_col20\" class=\"data row0 col20\" >0.361000</td>\n",
       "      <td id=\"T_765c9_row0_col21\" class=\"data row0 col21\" >1.000000</td>\n",
       "    </tr>\n",
       "    <tr>\n",
       "      <th id=\"T_765c9_level0_row1\" class=\"row_heading level0 row1\" >x19</th>\n",
       "      <td id=\"T_765c9_row1_col0\" class=\"data row1 col0\" >0.065000</td>\n",
       "      <td id=\"T_765c9_row1_col1\" class=\"data row1 col1\" >0.068000</td>\n",
       "      <td id=\"T_765c9_row1_col2\" class=\"data row1 col2\" >0.069000</td>\n",
       "      <td id=\"T_765c9_row1_col3\" class=\"data row1 col3\" >-0.051000</td>\n",
       "      <td id=\"T_765c9_row1_col4\" class=\"data row1 col4\" >-0.006000</td>\n",
       "      <td id=\"T_765c9_row1_col5\" class=\"data row1 col5\" >-0.017000</td>\n",
       "      <td id=\"T_765c9_row1_col6\" class=\"data row1 col6\" >-0.039000</td>\n",
       "      <td id=\"T_765c9_row1_col7\" class=\"data row1 col7\" >0.160000</td>\n",
       "      <td id=\"T_765c9_row1_col8\" class=\"data row1 col8\" >0.076000</td>\n",
       "      <td id=\"T_765c9_row1_col9\" class=\"data row1 col9\" >-0.049000</td>\n",
       "      <td id=\"T_765c9_row1_col10\" class=\"data row1 col10\" >0.005000</td>\n",
       "      <td id=\"T_765c9_row1_col11\" class=\"data row1 col11\" >0.026000</td>\n",
       "      <td id=\"T_765c9_row1_col12\" class=\"data row1 col12\" >0.133000</td>\n",
       "      <td id=\"T_765c9_row1_col13\" class=\"data row1 col13\" >-0.010000</td>\n",
       "      <td id=\"T_765c9_row1_col14\" class=\"data row1 col14\" >0.008000</td>\n",
       "      <td id=\"T_765c9_row1_col15\" class=\"data row1 col15\" >0.108000</td>\n",
       "      <td id=\"T_765c9_row1_col16\" class=\"data row1 col16\" >-0.009000</td>\n",
       "      <td id=\"T_765c9_row1_col17\" class=\"data row1 col17\" >-0.060000</td>\n",
       "      <td id=\"T_765c9_row1_col18\" class=\"data row1 col18\" >-0.002000</td>\n",
       "      <td id=\"T_765c9_row1_col19\" class=\"data row1 col19\" >1.000000</td>\n",
       "      <td id=\"T_765c9_row1_col20\" class=\"data row1 col20\" >0.069000</td>\n",
       "      <td id=\"T_765c9_row1_col21\" class=\"data row1 col21\" >0.511000</td>\n",
       "    </tr>\n",
       "    <tr>\n",
       "      <th id=\"T_765c9_level0_row2\" class=\"row_heading level0 row2\" >x3</th>\n",
       "      <td id=\"T_765c9_row2_col0\" class=\"data row2 col0\" >-0.160000</td>\n",
       "      <td id=\"T_765c9_row2_col1\" class=\"data row2 col1\" >-0.035000</td>\n",
       "      <td id=\"T_765c9_row2_col2\" class=\"data row2 col2\" >0.021000</td>\n",
       "      <td id=\"T_765c9_row2_col3\" class=\"data row2 col3\" >1.000000</td>\n",
       "      <td id=\"T_765c9_row2_col4\" class=\"data row2 col4\" >0.040000</td>\n",
       "      <td id=\"T_765c9_row2_col5\" class=\"data row2 col5\" >0.134000</td>\n",
       "      <td id=\"T_765c9_row2_col6\" class=\"data row2 col6\" >-0.076000</td>\n",
       "      <td id=\"T_765c9_row2_col7\" class=\"data row2 col7\" >0.071000</td>\n",
       "      <td id=\"T_765c9_row2_col8\" class=\"data row2 col8\" >-0.033000</td>\n",
       "      <td id=\"T_765c9_row2_col9\" class=\"data row2 col9\" >0.929000</td>\n",
       "      <td id=\"T_765c9_row2_col10\" class=\"data row2 col10\" >0.045000</td>\n",
       "      <td id=\"T_765c9_row2_col11\" class=\"data row2 col11\" >-0.041000</td>\n",
       "      <td id=\"T_765c9_row2_col12\" class=\"data row2 col12\" >-0.088000</td>\n",
       "      <td id=\"T_765c9_row2_col13\" class=\"data row2 col13\" >0.076000</td>\n",
       "      <td id=\"T_765c9_row2_col14\" class=\"data row2 col14\" >0.009000</td>\n",
       "      <td id=\"T_765c9_row2_col15\" class=\"data row2 col15\" >-0.046000</td>\n",
       "      <td id=\"T_765c9_row2_col16\" class=\"data row2 col16\" >-0.084000</td>\n",
       "      <td id=\"T_765c9_row2_col17\" class=\"data row2 col17\" >0.095000</td>\n",
       "      <td id=\"T_765c9_row2_col18\" class=\"data row2 col18\" >-0.021000</td>\n",
       "      <td id=\"T_765c9_row2_col19\" class=\"data row2 col19\" >-0.051000</td>\n",
       "      <td id=\"T_765c9_row2_col20\" class=\"data row2 col20\" >-0.037000</td>\n",
       "      <td id=\"T_765c9_row2_col21\" class=\"data row2 col21\" >0.387000</td>\n",
       "    </tr>\n",
       "    <tr>\n",
       "      <th id=\"T_765c9_level0_row3\" class=\"row_heading level0 row3\" >x15</th>\n",
       "      <td id=\"T_765c9_row3_col0\" class=\"data row3 col0\" >0.003000</td>\n",
       "      <td id=\"T_765c9_row3_col1\" class=\"data row3 col1\" >0.019000</td>\n",
       "      <td id=\"T_765c9_row3_col2\" class=\"data row3 col2\" >-0.040000</td>\n",
       "      <td id=\"T_765c9_row3_col3\" class=\"data row3 col3\" >-0.046000</td>\n",
       "      <td id=\"T_765c9_row3_col4\" class=\"data row3 col4\" >0.081000</td>\n",
       "      <td id=\"T_765c9_row3_col5\" class=\"data row3 col5\" >0.008000</td>\n",
       "      <td id=\"T_765c9_row3_col6\" class=\"data row3 col6\" >0.033000</td>\n",
       "      <td id=\"T_765c9_row3_col7\" class=\"data row3 col7\" >0.015000</td>\n",
       "      <td id=\"T_765c9_row3_col8\" class=\"data row3 col8\" >0.015000</td>\n",
       "      <td id=\"T_765c9_row3_col9\" class=\"data row3 col9\" >-0.012000</td>\n",
       "      <td id=\"T_765c9_row3_col10\" class=\"data row3 col10\" >-0.036000</td>\n",
       "      <td id=\"T_765c9_row3_col11\" class=\"data row3 col11\" >0.017000</td>\n",
       "      <td id=\"T_765c9_row3_col12\" class=\"data row3 col12\" >-0.053000</td>\n",
       "      <td id=\"T_765c9_row3_col13\" class=\"data row3 col13\" >0.071000</td>\n",
       "      <td id=\"T_765c9_row3_col14\" class=\"data row3 col14\" >-0.077000</td>\n",
       "      <td id=\"T_765c9_row3_col15\" class=\"data row3 col15\" >1.000000</td>\n",
       "      <td id=\"T_765c9_row3_col16\" class=\"data row3 col16\" >-0.015000</td>\n",
       "      <td id=\"T_765c9_row3_col17\" class=\"data row3 col17\" >-0.038000</td>\n",
       "      <td id=\"T_765c9_row3_col18\" class=\"data row3 col18\" >0.079000</td>\n",
       "      <td id=\"T_765c9_row3_col19\" class=\"data row3 col19\" >0.108000</td>\n",
       "      <td id=\"T_765c9_row3_col20\" class=\"data row3 col20\" >-0.005000</td>\n",
       "      <td id=\"T_765c9_row3_col21\" class=\"data row3 col21\" >0.386000</td>\n",
       "    </tr>\n",
       "    <tr>\n",
       "      <th id=\"T_765c9_level0_row4\" class=\"row_heading level0 row4\" >x20</th>\n",
       "      <td id=\"T_765c9_row4_col0\" class=\"data row4 col0\" >-0.083000</td>\n",
       "      <td id=\"T_765c9_row4_col1\" class=\"data row4 col1\" >0.023000</td>\n",
       "      <td id=\"T_765c9_row4_col2\" class=\"data row4 col2\" >-0.037000</td>\n",
       "      <td id=\"T_765c9_row4_col3\" class=\"data row4 col3\" >-0.037000</td>\n",
       "      <td id=\"T_765c9_row4_col4\" class=\"data row4 col4\" >-0.022000</td>\n",
       "      <td id=\"T_765c9_row4_col5\" class=\"data row4 col5\" >-0.164000</td>\n",
       "      <td id=\"T_765c9_row4_col6\" class=\"data row4 col6\" >0.055000</td>\n",
       "      <td id=\"T_765c9_row4_col7\" class=\"data row4 col7\" >0.010000</td>\n",
       "      <td id=\"T_765c9_row4_col8\" class=\"data row4 col8\" >0.019000</td>\n",
       "      <td id=\"T_765c9_row4_col9\" class=\"data row4 col9\" >-0.042000</td>\n",
       "      <td id=\"T_765c9_row4_col10\" class=\"data row4 col10\" >0.054000</td>\n",
       "      <td id=\"T_765c9_row4_col11\" class=\"data row4 col11\" >-0.017000</td>\n",
       "      <td id=\"T_765c9_row4_col12\" class=\"data row4 col12\" >0.050000</td>\n",
       "      <td id=\"T_765c9_row4_col13\" class=\"data row4 col13\" >0.051000</td>\n",
       "      <td id=\"T_765c9_row4_col14\" class=\"data row4 col14\" >0.000000</td>\n",
       "      <td id=\"T_765c9_row4_col15\" class=\"data row4 col15\" >-0.005000</td>\n",
       "      <td id=\"T_765c9_row4_col16\" class=\"data row4 col16\" >-0.083000</td>\n",
       "      <td id=\"T_765c9_row4_col17\" class=\"data row4 col17\" >0.025000</td>\n",
       "      <td id=\"T_765c9_row4_col18\" class=\"data row4 col18\" >0.015000</td>\n",
       "      <td id=\"T_765c9_row4_col19\" class=\"data row4 col19\" >0.069000</td>\n",
       "      <td id=\"T_765c9_row4_col20\" class=\"data row4 col20\" >1.000000</td>\n",
       "      <td id=\"T_765c9_row4_col21\" class=\"data row4 col21\" >0.361000</td>\n",
       "    </tr>\n",
       "    <tr>\n",
       "      <th id=\"T_765c9_level0_row5\" class=\"row_heading level0 row5\" >x9</th>\n",
       "      <td id=\"T_765c9_row5_col0\" class=\"data row5 col0\" >-0.170000</td>\n",
       "      <td id=\"T_765c9_row5_col1\" class=\"data row5 col1\" >-0.038000</td>\n",
       "      <td id=\"T_765c9_row5_col2\" class=\"data row5 col2\" >0.032000</td>\n",
       "      <td id=\"T_765c9_row5_col3\" class=\"data row5 col3\" >0.929000</td>\n",
       "      <td id=\"T_765c9_row5_col4\" class=\"data row5 col4\" >0.407000</td>\n",
       "      <td id=\"T_765c9_row5_col5\" class=\"data row5 col5\" >0.115000</td>\n",
       "      <td id=\"T_765c9_row5_col6\" class=\"data row5 col6\" >-0.072000</td>\n",
       "      <td id=\"T_765c9_row5_col7\" class=\"data row5 col7\" >0.013000</td>\n",
       "      <td id=\"T_765c9_row5_col8\" class=\"data row5 col8\" >-0.035000</td>\n",
       "      <td id=\"T_765c9_row5_col9\" class=\"data row5 col9\" >1.000000</td>\n",
       "      <td id=\"T_765c9_row5_col10\" class=\"data row5 col10\" >0.070000</td>\n",
       "      <td id=\"T_765c9_row5_col11\" class=\"data row5 col11\" >-0.063000</td>\n",
       "      <td id=\"T_765c9_row5_col12\" class=\"data row5 col12\" >-0.089000</td>\n",
       "      <td id=\"T_765c9_row5_col13\" class=\"data row5 col13\" >0.027000</td>\n",
       "      <td id=\"T_765c9_row5_col14\" class=\"data row5 col14\" >0.058000</td>\n",
       "      <td id=\"T_765c9_row5_col15\" class=\"data row5 col15\" >-0.012000</td>\n",
       "      <td id=\"T_765c9_row5_col16\" class=\"data row5 col16\" >-0.085000</td>\n",
       "      <td id=\"T_765c9_row5_col17\" class=\"data row5 col17\" >0.072000</td>\n",
       "      <td id=\"T_765c9_row5_col18\" class=\"data row5 col18\" >-0.031000</td>\n",
       "      <td id=\"T_765c9_row5_col19\" class=\"data row5 col19\" >-0.049000</td>\n",
       "      <td id=\"T_765c9_row5_col20\" class=\"data row5 col20\" >-0.042000</td>\n",
       "      <td id=\"T_765c9_row5_col21\" class=\"data row5 col21\" >0.359000</td>\n",
       "    </tr>\n",
       "    <tr>\n",
       "      <th id=\"T_765c9_level0_row6\" class=\"row_heading level0 row6\" >x18</th>\n",
       "      <td id=\"T_765c9_row6_col0\" class=\"data row6 col0\" >0.047000</td>\n",
       "      <td id=\"T_765c9_row6_col1\" class=\"data row6 col1\" >0.023000</td>\n",
       "      <td id=\"T_765c9_row6_col2\" class=\"data row6 col2\" >-0.069000</td>\n",
       "      <td id=\"T_765c9_row6_col3\" class=\"data row6 col3\" >-0.021000</td>\n",
       "      <td id=\"T_765c9_row6_col4\" class=\"data row6 col4\" >-0.034000</td>\n",
       "      <td id=\"T_765c9_row6_col5\" class=\"data row6 col5\" >-0.100000</td>\n",
       "      <td id=\"T_765c9_row6_col6\" class=\"data row6 col6\" >-0.007000</td>\n",
       "      <td id=\"T_765c9_row6_col7\" class=\"data row6 col7\" >-0.034000</td>\n",
       "      <td id=\"T_765c9_row6_col8\" class=\"data row6 col8\" >0.015000</td>\n",
       "      <td id=\"T_765c9_row6_col9\" class=\"data row6 col9\" >-0.031000</td>\n",
       "      <td id=\"T_765c9_row6_col10\" class=\"data row6 col10\" >0.091000</td>\n",
       "      <td id=\"T_765c9_row6_col11\" class=\"data row6 col11\" >0.058000</td>\n",
       "      <td id=\"T_765c9_row6_col12\" class=\"data row6 col12\" >-0.026000</td>\n",
       "      <td id=\"T_765c9_row6_col13\" class=\"data row6 col13\" >0.088000</td>\n",
       "      <td id=\"T_765c9_row6_col14\" class=\"data row6 col14\" >0.009000</td>\n",
       "      <td id=\"T_765c9_row6_col15\" class=\"data row6 col15\" >0.079000</td>\n",
       "      <td id=\"T_765c9_row6_col16\" class=\"data row6 col16\" >-0.081000</td>\n",
       "      <td id=\"T_765c9_row6_col17\" class=\"data row6 col17\" >0.002000</td>\n",
       "      <td id=\"T_765c9_row6_col18\" class=\"data row6 col18\" >1.000000</td>\n",
       "      <td id=\"T_765c9_row6_col19\" class=\"data row6 col19\" >-0.002000</td>\n",
       "      <td id=\"T_765c9_row6_col20\" class=\"data row6 col20\" >0.015000</td>\n",
       "      <td id=\"T_765c9_row6_col21\" class=\"data row6 col21\" >0.307000</td>\n",
       "    </tr>\n",
       "    <tr>\n",
       "      <th id=\"T_765c9_level0_row7\" class=\"row_heading level0 row7\" >x12</th>\n",
       "      <td id=\"T_765c9_row7_col0\" class=\"data row7 col0\" >0.023000</td>\n",
       "      <td id=\"T_765c9_row7_col1\" class=\"data row7 col1\" >-0.030000</td>\n",
       "      <td id=\"T_765c9_row7_col2\" class=\"data row7 col2\" >0.093000</td>\n",
       "      <td id=\"T_765c9_row7_col3\" class=\"data row7 col3\" >-0.088000</td>\n",
       "      <td id=\"T_765c9_row7_col4\" class=\"data row7 col4\" >-0.022000</td>\n",
       "      <td id=\"T_765c9_row7_col5\" class=\"data row7 col5\" >0.013000</td>\n",
       "      <td id=\"T_765c9_row7_col6\" class=\"data row7 col6\" >-0.018000</td>\n",
       "      <td id=\"T_765c9_row7_col7\" class=\"data row7 col7\" >0.106000</td>\n",
       "      <td id=\"T_765c9_row7_col8\" class=\"data row7 col8\" >-0.020000</td>\n",
       "      <td id=\"T_765c9_row7_col9\" class=\"data row7 col9\" >-0.089000</td>\n",
       "      <td id=\"T_765c9_row7_col10\" class=\"data row7 col10\" >0.052000</td>\n",
       "      <td id=\"T_765c9_row7_col11\" class=\"data row7 col11\" >-0.002000</td>\n",
       "      <td id=\"T_765c9_row7_col12\" class=\"data row7 col12\" >1.000000</td>\n",
       "      <td id=\"T_765c9_row7_col13\" class=\"data row7 col13\" >0.003000</td>\n",
       "      <td id=\"T_765c9_row7_col14\" class=\"data row7 col14\" >0.035000</td>\n",
       "      <td id=\"T_765c9_row7_col15\" class=\"data row7 col15\" >-0.053000</td>\n",
       "      <td id=\"T_765c9_row7_col16\" class=\"data row7 col16\" >0.014000</td>\n",
       "      <td id=\"T_765c9_row7_col17\" class=\"data row7 col17\" >0.036000</td>\n",
       "      <td id=\"T_765c9_row7_col18\" class=\"data row7 col18\" >-0.026000</td>\n",
       "      <td id=\"T_765c9_row7_col19\" class=\"data row7 col19\" >0.133000</td>\n",
       "      <td id=\"T_765c9_row7_col20\" class=\"data row7 col20\" >0.050000</td>\n",
       "      <td id=\"T_765c9_row7_col21\" class=\"data row7 col21\" >0.162000</td>\n",
       "    </tr>\n",
       "    <tr>\n",
       "      <th id=\"T_765c9_level0_row8\" class=\"row_heading level0 row8\" >x7</th>\n",
       "      <td id=\"T_765c9_row8_col0\" class=\"data row8 col0\" >0.118000</td>\n",
       "      <td id=\"T_765c9_row8_col1\" class=\"data row8 col1\" >-0.050000</td>\n",
       "      <td id=\"T_765c9_row8_col2\" class=\"data row8 col2\" >-0.038000</td>\n",
       "      <td id=\"T_765c9_row8_col3\" class=\"data row8 col3\" >0.071000</td>\n",
       "      <td id=\"T_765c9_row8_col4\" class=\"data row8 col4\" >-0.142000</td>\n",
       "      <td id=\"T_765c9_row8_col5\" class=\"data row8 col5\" >0.061000</td>\n",
       "      <td id=\"T_765c9_row8_col6\" class=\"data row8 col6\" >-0.095000</td>\n",
       "      <td id=\"T_765c9_row8_col7\" class=\"data row8 col7\" >1.000000</td>\n",
       "      <td id=\"T_765c9_row8_col8\" class=\"data row8 col8\" >-0.055000</td>\n",
       "      <td id=\"T_765c9_row8_col9\" class=\"data row8 col9\" >0.013000</td>\n",
       "      <td id=\"T_765c9_row8_col10\" class=\"data row8 col10\" >-0.023000</td>\n",
       "      <td id=\"T_765c9_row8_col11\" class=\"data row8 col11\" >0.165000</td>\n",
       "      <td id=\"T_765c9_row8_col12\" class=\"data row8 col12\" >0.106000</td>\n",
       "      <td id=\"T_765c9_row8_col13\" class=\"data row8 col13\" >-0.027000</td>\n",
       "      <td id=\"T_765c9_row8_col14\" class=\"data row8 col14\" >0.001000</td>\n",
       "      <td id=\"T_765c9_row8_col15\" class=\"data row8 col15\" >0.015000</td>\n",
       "      <td id=\"T_765c9_row8_col16\" class=\"data row8 col16\" >-0.098000</td>\n",
       "      <td id=\"T_765c9_row8_col17\" class=\"data row8 col17\" >0.003000</td>\n",
       "      <td id=\"T_765c9_row8_col18\" class=\"data row8 col18\" >-0.034000</td>\n",
       "      <td id=\"T_765c9_row8_col19\" class=\"data row8 col19\" >0.160000</td>\n",
       "      <td id=\"T_765c9_row8_col20\" class=\"data row8 col20\" >0.010000</td>\n",
       "      <td id=\"T_765c9_row8_col21\" class=\"data row8 col21\" >0.155000</td>\n",
       "    </tr>\n",
       "    <tr>\n",
       "      <th id=\"T_765c9_level0_row9\" class=\"row_heading level0 row9\" >x13</th>\n",
       "      <td id=\"T_765c9_row9_col0\" class=\"data row9 col0\" >-0.056000</td>\n",
       "      <td id=\"T_765c9_row9_col1\" class=\"data row9 col1\" >-0.044000</td>\n",
       "      <td id=\"T_765c9_row9_col2\" class=\"data row9 col2\" >0.005000</td>\n",
       "      <td id=\"T_765c9_row9_col3\" class=\"data row9 col3\" >0.076000</td>\n",
       "      <td id=\"T_765c9_row9_col4\" class=\"data row9 col4\" >-0.116000</td>\n",
       "      <td id=\"T_765c9_row9_col5\" class=\"data row9 col5\" >0.035000</td>\n",
       "      <td id=\"T_765c9_row9_col6\" class=\"data row9 col6\" >0.061000</td>\n",
       "      <td id=\"T_765c9_row9_col7\" class=\"data row9 col7\" >-0.027000</td>\n",
       "      <td id=\"T_765c9_row9_col8\" class=\"data row9 col8\" >-0.044000</td>\n",
       "      <td id=\"T_765c9_row9_col9\" class=\"data row9 col9\" >0.027000</td>\n",
       "      <td id=\"T_765c9_row9_col10\" class=\"data row9 col10\" >0.011000</td>\n",
       "      <td id=\"T_765c9_row9_col11\" class=\"data row9 col11\" >0.138000</td>\n",
       "      <td id=\"T_765c9_row9_col12\" class=\"data row9 col12\" >0.003000</td>\n",
       "      <td id=\"T_765c9_row9_col13\" class=\"data row9 col13\" >1.000000</td>\n",
       "      <td id=\"T_765c9_row9_col14\" class=\"data row9 col14\" >-0.020000</td>\n",
       "      <td id=\"T_765c9_row9_col15\" class=\"data row9 col15\" >0.071000</td>\n",
       "      <td id=\"T_765c9_row9_col16\" class=\"data row9 col16\" >-0.075000</td>\n",
       "      <td id=\"T_765c9_row9_col17\" class=\"data row9 col17\" >0.101000</td>\n",
       "      <td id=\"T_765c9_row9_col18\" class=\"data row9 col18\" >0.088000</td>\n",
       "      <td id=\"T_765c9_row9_col19\" class=\"data row9 col19\" >-0.010000</td>\n",
       "      <td id=\"T_765c9_row9_col20\" class=\"data row9 col20\" >0.051000</td>\n",
       "      <td id=\"T_765c9_row9_col21\" class=\"data row9 col21\" >0.106000</td>\n",
       "    </tr>\n",
       "    <tr>\n",
       "      <th id=\"T_765c9_level0_row10\" class=\"row_heading level0 row10\" >x14</th>\n",
       "      <td id=\"T_765c9_row10_col0\" class=\"data row10 col0\" >-0.016000</td>\n",
       "      <td id=\"T_765c9_row10_col1\" class=\"data row10 col1\" >0.008000</td>\n",
       "      <td id=\"T_765c9_row10_col2\" class=\"data row10 col2\" >0.032000</td>\n",
       "      <td id=\"T_765c9_row10_col3\" class=\"data row10 col3\" >0.009000</td>\n",
       "      <td id=\"T_765c9_row10_col4\" class=\"data row10 col4\" >0.134000</td>\n",
       "      <td id=\"T_765c9_row10_col5\" class=\"data row10 col5\" >-0.036000</td>\n",
       "      <td id=\"T_765c9_row10_col6\" class=\"data row10 col6\" >0.000000</td>\n",
       "      <td id=\"T_765c9_row10_col7\" class=\"data row10 col7\" >0.001000</td>\n",
       "      <td id=\"T_765c9_row10_col8\" class=\"data row10 col8\" >0.011000</td>\n",
       "      <td id=\"T_765c9_row10_col9\" class=\"data row10 col9\" >0.058000</td>\n",
       "      <td id=\"T_765c9_row10_col10\" class=\"data row10 col10\" >-0.027000</td>\n",
       "      <td id=\"T_765c9_row10_col11\" class=\"data row10 col11\" >0.074000</td>\n",
       "      <td id=\"T_765c9_row10_col12\" class=\"data row10 col12\" >0.035000</td>\n",
       "      <td id=\"T_765c9_row10_col13\" class=\"data row10 col13\" >-0.020000</td>\n",
       "      <td id=\"T_765c9_row10_col14\" class=\"data row10 col14\" >1.000000</td>\n",
       "      <td id=\"T_765c9_row10_col15\" class=\"data row10 col15\" >-0.077000</td>\n",
       "      <td id=\"T_765c9_row10_col16\" class=\"data row10 col16\" >-0.015000</td>\n",
       "      <td id=\"T_765c9_row10_col17\" class=\"data row10 col17\" >0.003000</td>\n",
       "      <td id=\"T_765c9_row10_col18\" class=\"data row10 col18\" >0.009000</td>\n",
       "      <td id=\"T_765c9_row10_col19\" class=\"data row10 col19\" >0.008000</td>\n",
       "      <td id=\"T_765c9_row10_col20\" class=\"data row10 col20\" >0.000000</td>\n",
       "      <td id=\"T_765c9_row10_col21\" class=\"data row10 col21\" >0.067000</td>\n",
       "    </tr>\n",
       "    <tr>\n",
       "      <th id=\"T_765c9_level0_row11\" class=\"row_heading level0 row11\" >x4</th>\n",
       "      <td id=\"T_765c9_row11_col0\" class=\"data row11 col0\" >-0.062000</td>\n",
       "      <td id=\"T_765c9_row11_col1\" class=\"data row11 col1\" >-0.016000</td>\n",
       "      <td id=\"T_765c9_row11_col2\" class=\"data row11 col2\" >0.033000</td>\n",
       "      <td id=\"T_765c9_row11_col3\" class=\"data row11 col3\" >0.040000</td>\n",
       "      <td id=\"T_765c9_row11_col4\" class=\"data row11 col4\" >1.000000</td>\n",
       "      <td id=\"T_765c9_row11_col5\" class=\"data row11 col5\" >-0.019000</td>\n",
       "      <td id=\"T_765c9_row11_col6\" class=\"data row11 col6\" >-0.007000</td>\n",
       "      <td id=\"T_765c9_row11_col7\" class=\"data row11 col7\" >-0.142000</td>\n",
       "      <td id=\"T_765c9_row11_col8\" class=\"data row11 col8\" >-0.013000</td>\n",
       "      <td id=\"T_765c9_row11_col9\" class=\"data row11 col9\" >0.407000</td>\n",
       "      <td id=\"T_765c9_row11_col10\" class=\"data row11 col10\" >0.079000</td>\n",
       "      <td id=\"T_765c9_row11_col11\" class=\"data row11 col11\" >-0.069000</td>\n",
       "      <td id=\"T_765c9_row11_col12\" class=\"data row11 col12\" >-0.022000</td>\n",
       "      <td id=\"T_765c9_row11_col13\" class=\"data row11 col13\" >-0.116000</td>\n",
       "      <td id=\"T_765c9_row11_col14\" class=\"data row11 col14\" >0.134000</td>\n",
       "      <td id=\"T_765c9_row11_col15\" class=\"data row11 col15\" >0.081000</td>\n",
       "      <td id=\"T_765c9_row11_col16\" class=\"data row11 col16\" >-0.021000</td>\n",
       "      <td id=\"T_765c9_row11_col17\" class=\"data row11 col17\" >-0.042000</td>\n",
       "      <td id=\"T_765c9_row11_col18\" class=\"data row11 col18\" >-0.034000</td>\n",
       "      <td id=\"T_765c9_row11_col19\" class=\"data row11 col19\" >-0.006000</td>\n",
       "      <td id=\"T_765c9_row11_col20\" class=\"data row11 col20\" >-0.022000</td>\n",
       "      <td id=\"T_765c9_row11_col21\" class=\"data row11 col21\" >0.013000</td>\n",
       "    </tr>\n",
       "    <tr>\n",
       "      <th id=\"T_765c9_level0_row12\" class=\"row_heading level0 row12\" >x10</th>\n",
       "      <td id=\"T_765c9_row12_col0\" class=\"data row12 col0\" >-0.013000</td>\n",
       "      <td id=\"T_765c9_row12_col1\" class=\"data row12 col1\" >-0.086000</td>\n",
       "      <td id=\"T_765c9_row12_col2\" class=\"data row12 col2\" >0.080000</td>\n",
       "      <td id=\"T_765c9_row12_col3\" class=\"data row12 col3\" >0.045000</td>\n",
       "      <td id=\"T_765c9_row12_col4\" class=\"data row12 col4\" >0.079000</td>\n",
       "      <td id=\"T_765c9_row12_col5\" class=\"data row12 col5\" >-0.048000</td>\n",
       "      <td id=\"T_765c9_row12_col6\" class=\"data row12 col6\" >0.030000</td>\n",
       "      <td id=\"T_765c9_row12_col7\" class=\"data row12 col7\" >-0.023000</td>\n",
       "      <td id=\"T_765c9_row12_col8\" class=\"data row12 col8\" >-0.078000</td>\n",
       "      <td id=\"T_765c9_row12_col9\" class=\"data row12 col9\" >0.070000</td>\n",
       "      <td id=\"T_765c9_row12_col10\" class=\"data row12 col10\" >1.000000</td>\n",
       "      <td id=\"T_765c9_row12_col11\" class=\"data row12 col11\" >0.055000</td>\n",
       "      <td id=\"T_765c9_row12_col12\" class=\"data row12 col12\" >0.052000</td>\n",
       "      <td id=\"T_765c9_row12_col13\" class=\"data row12 col13\" >0.011000</td>\n",
       "      <td id=\"T_765c9_row12_col14\" class=\"data row12 col14\" >-0.027000</td>\n",
       "      <td id=\"T_765c9_row12_col15\" class=\"data row12 col15\" >-0.036000</td>\n",
       "      <td id=\"T_765c9_row12_col16\" class=\"data row12 col16\" >0.095000</td>\n",
       "      <td id=\"T_765c9_row12_col17\" class=\"data row12 col17\" >-0.045000</td>\n",
       "      <td id=\"T_765c9_row12_col18\" class=\"data row12 col18\" >0.091000</td>\n",
       "      <td id=\"T_765c9_row12_col19\" class=\"data row12 col19\" >0.005000</td>\n",
       "      <td id=\"T_765c9_row12_col20\" class=\"data row12 col20\" >0.054000</td>\n",
       "      <td id=\"T_765c9_row12_col21\" class=\"data row12 col21\" >0.001000</td>\n",
       "    </tr>\n",
       "    <tr>\n",
       "      <th id=\"T_765c9_level0_row13\" class=\"row_heading level0 row13\" >x2</th>\n",
       "      <td id=\"T_765c9_row13_col0\" class=\"data row13 col0\" >-0.100000</td>\n",
       "      <td id=\"T_765c9_row13_col1\" class=\"data row13 col1\" >-0.142000</td>\n",
       "      <td id=\"T_765c9_row13_col2\" class=\"data row13 col2\" >1.000000</td>\n",
       "      <td id=\"T_765c9_row13_col3\" class=\"data row13 col3\" >0.021000</td>\n",
       "      <td id=\"T_765c9_row13_col4\" class=\"data row13 col4\" >0.033000</td>\n",
       "      <td id=\"T_765c9_row13_col5\" class=\"data row13 col5\" >-0.060000</td>\n",
       "      <td id=\"T_765c9_row13_col6\" class=\"data row13 col6\" >-0.053000</td>\n",
       "      <td id=\"T_765c9_row13_col7\" class=\"data row13 col7\" >-0.038000</td>\n",
       "      <td id=\"T_765c9_row13_col8\" class=\"data row13 col8\" >-0.035000</td>\n",
       "      <td id=\"T_765c9_row13_col9\" class=\"data row13 col9\" >0.032000</td>\n",
       "      <td id=\"T_765c9_row13_col10\" class=\"data row13 col10\" >0.080000</td>\n",
       "      <td id=\"T_765c9_row13_col11\" class=\"data row13 col11\" >0.001000</td>\n",
       "      <td id=\"T_765c9_row13_col12\" class=\"data row13 col12\" >0.093000</td>\n",
       "      <td id=\"T_765c9_row13_col13\" class=\"data row13 col13\" >0.005000</td>\n",
       "      <td id=\"T_765c9_row13_col14\" class=\"data row13 col14\" >0.032000</td>\n",
       "      <td id=\"T_765c9_row13_col15\" class=\"data row13 col15\" >-0.040000</td>\n",
       "      <td id=\"T_765c9_row13_col16\" class=\"data row13 col16\" >0.137000</td>\n",
       "      <td id=\"T_765c9_row13_col17\" class=\"data row13 col17\" >-0.063000</td>\n",
       "      <td id=\"T_765c9_row13_col18\" class=\"data row13 col18\" >-0.069000</td>\n",
       "      <td id=\"T_765c9_row13_col19\" class=\"data row13 col19\" >0.069000</td>\n",
       "      <td id=\"T_765c9_row13_col20\" class=\"data row13 col20\" >-0.037000</td>\n",
       "      <td id=\"T_765c9_row13_col21\" class=\"data row13 col21\" >-0.002000</td>\n",
       "    </tr>\n",
       "    <tr>\n",
       "      <th id=\"T_765c9_level0_row14\" class=\"row_heading level0 row14\" >Unnamed: 0</th>\n",
       "      <td id=\"T_765c9_row14_col0\" class=\"data row14 col0\" >1.000000</td>\n",
       "      <td id=\"T_765c9_row14_col1\" class=\"data row14 col1\" >0.028000</td>\n",
       "      <td id=\"T_765c9_row14_col2\" class=\"data row14 col2\" >-0.100000</td>\n",
       "      <td id=\"T_765c9_row14_col3\" class=\"data row14 col3\" >-0.160000</td>\n",
       "      <td id=\"T_765c9_row14_col4\" class=\"data row14 col4\" >-0.062000</td>\n",
       "      <td id=\"T_765c9_row14_col5\" class=\"data row14 col5\" >0.133000</td>\n",
       "      <td id=\"T_765c9_row14_col6\" class=\"data row14 col6\" >0.019000</td>\n",
       "      <td id=\"T_765c9_row14_col7\" class=\"data row14 col7\" >0.118000</td>\n",
       "      <td id=\"T_765c9_row14_col8\" class=\"data row14 col8\" >0.018000</td>\n",
       "      <td id=\"T_765c9_row14_col9\" class=\"data row14 col9\" >-0.170000</td>\n",
       "      <td id=\"T_765c9_row14_col10\" class=\"data row14 col10\" >-0.013000</td>\n",
       "      <td id=\"T_765c9_row14_col11\" class=\"data row14 col11\" >-0.023000</td>\n",
       "      <td id=\"T_765c9_row14_col12\" class=\"data row14 col12\" >0.023000</td>\n",
       "      <td id=\"T_765c9_row14_col13\" class=\"data row14 col13\" >-0.056000</td>\n",
       "      <td id=\"T_765c9_row14_col14\" class=\"data row14 col14\" >-0.016000</td>\n",
       "      <td id=\"T_765c9_row14_col15\" class=\"data row14 col15\" >0.003000</td>\n",
       "      <td id=\"T_765c9_row14_col16\" class=\"data row14 col16\" >0.111000</td>\n",
       "      <td id=\"T_765c9_row14_col17\" class=\"data row14 col17\" >0.022000</td>\n",
       "      <td id=\"T_765c9_row14_col18\" class=\"data row14 col18\" >0.047000</td>\n",
       "      <td id=\"T_765c9_row14_col19\" class=\"data row14 col19\" >0.065000</td>\n",
       "      <td id=\"T_765c9_row14_col20\" class=\"data row14 col20\" >-0.083000</td>\n",
       "      <td id=\"T_765c9_row14_col21\" class=\"data row14 col21\" >-0.007000</td>\n",
       "    </tr>\n",
       "    <tr>\n",
       "      <th id=\"T_765c9_level0_row15\" class=\"row_heading level0 row15\" >x11</th>\n",
       "      <td id=\"T_765c9_row15_col0\" class=\"data row15 col0\" >-0.023000</td>\n",
       "      <td id=\"T_765c9_row15_col1\" class=\"data row15 col1\" >-0.024000</td>\n",
       "      <td id=\"T_765c9_row15_col2\" class=\"data row15 col2\" >0.001000</td>\n",
       "      <td id=\"T_765c9_row15_col3\" class=\"data row15 col3\" >-0.041000</td>\n",
       "      <td id=\"T_765c9_row15_col4\" class=\"data row15 col4\" >-0.069000</td>\n",
       "      <td id=\"T_765c9_row15_col5\" class=\"data row15 col5\" >-0.081000</td>\n",
       "      <td id=\"T_765c9_row15_col6\" class=\"data row15 col6\" >0.048000</td>\n",
       "      <td id=\"T_765c9_row15_col7\" class=\"data row15 col7\" >0.165000</td>\n",
       "      <td id=\"T_765c9_row15_col8\" class=\"data row15 col8\" >-0.025000</td>\n",
       "      <td id=\"T_765c9_row15_col9\" class=\"data row15 col9\" >-0.063000</td>\n",
       "      <td id=\"T_765c9_row15_col10\" class=\"data row15 col10\" >0.055000</td>\n",
       "      <td id=\"T_765c9_row15_col11\" class=\"data row15 col11\" >1.000000</td>\n",
       "      <td id=\"T_765c9_row15_col12\" class=\"data row15 col12\" >-0.002000</td>\n",
       "      <td id=\"T_765c9_row15_col13\" class=\"data row15 col13\" >0.138000</td>\n",
       "      <td id=\"T_765c9_row15_col14\" class=\"data row15 col14\" >0.074000</td>\n",
       "      <td id=\"T_765c9_row15_col15\" class=\"data row15 col15\" >0.017000</td>\n",
       "      <td id=\"T_765c9_row15_col16\" class=\"data row15 col16\" >-0.046000</td>\n",
       "      <td id=\"T_765c9_row15_col17\" class=\"data row15 col17\" >0.031000</td>\n",
       "      <td id=\"T_765c9_row15_col18\" class=\"data row15 col18\" >0.058000</td>\n",
       "      <td id=\"T_765c9_row15_col19\" class=\"data row15 col19\" >0.026000</td>\n",
       "      <td id=\"T_765c9_row15_col20\" class=\"data row15 col20\" >-0.017000</td>\n",
       "      <td id=\"T_765c9_row15_col21\" class=\"data row15 col21\" >-0.007000</td>\n",
       "    </tr>\n",
       "    <tr>\n",
       "      <th id=\"T_765c9_level0_row16\" class=\"row_heading level0 row16\" >x17</th>\n",
       "      <td id=\"T_765c9_row16_col0\" class=\"data row16 col0\" >0.022000</td>\n",
       "      <td id=\"T_765c9_row16_col1\" class=\"data row16 col1\" >-0.018000</td>\n",
       "      <td id=\"T_765c9_row16_col2\" class=\"data row16 col2\" >-0.063000</td>\n",
       "      <td id=\"T_765c9_row16_col3\" class=\"data row16 col3\" >0.095000</td>\n",
       "      <td id=\"T_765c9_row16_col4\" class=\"data row16 col4\" >-0.042000</td>\n",
       "      <td id=\"T_765c9_row16_col5\" class=\"data row16 col5\" >0.158000</td>\n",
       "      <td id=\"T_765c9_row16_col6\" class=\"data row16 col6\" >-0.069000</td>\n",
       "      <td id=\"T_765c9_row16_col7\" class=\"data row16 col7\" >0.003000</td>\n",
       "      <td id=\"T_765c9_row16_col8\" class=\"data row16 col8\" >-0.025000</td>\n",
       "      <td id=\"T_765c9_row16_col9\" class=\"data row16 col9\" >0.072000</td>\n",
       "      <td id=\"T_765c9_row16_col10\" class=\"data row16 col10\" >-0.045000</td>\n",
       "      <td id=\"T_765c9_row16_col11\" class=\"data row16 col11\" >0.031000</td>\n",
       "      <td id=\"T_765c9_row16_col12\" class=\"data row16 col12\" >0.036000</td>\n",
       "      <td id=\"T_765c9_row16_col13\" class=\"data row16 col13\" >0.101000</td>\n",
       "      <td id=\"T_765c9_row16_col14\" class=\"data row16 col14\" >0.003000</td>\n",
       "      <td id=\"T_765c9_row16_col15\" class=\"data row16 col15\" >-0.038000</td>\n",
       "      <td id=\"T_765c9_row16_col16\" class=\"data row16 col16\" >-0.106000</td>\n",
       "      <td id=\"T_765c9_row16_col17\" class=\"data row16 col17\" >1.000000</td>\n",
       "      <td id=\"T_765c9_row16_col18\" class=\"data row16 col18\" >0.002000</td>\n",
       "      <td id=\"T_765c9_row16_col19\" class=\"data row16 col19\" >-0.060000</td>\n",
       "      <td id=\"T_765c9_row16_col20\" class=\"data row16 col20\" >0.025000</td>\n",
       "      <td id=\"T_765c9_row16_col21\" class=\"data row16 col21\" >-0.011000</td>\n",
       "    </tr>\n",
       "    <tr>\n",
       "      <th id=\"T_765c9_level0_row17\" class=\"row_heading level0 row17\" >x5</th>\n",
       "      <td id=\"T_765c9_row17_col0\" class=\"data row17 col0\" >0.133000</td>\n",
       "      <td id=\"T_765c9_row17_col1\" class=\"data row17 col1\" >-0.069000</td>\n",
       "      <td id=\"T_765c9_row17_col2\" class=\"data row17 col2\" >-0.060000</td>\n",
       "      <td id=\"T_765c9_row17_col3\" class=\"data row17 col3\" >0.134000</td>\n",
       "      <td id=\"T_765c9_row17_col4\" class=\"data row17 col4\" >-0.019000</td>\n",
       "      <td id=\"T_765c9_row17_col5\" class=\"data row17 col5\" >1.000000</td>\n",
       "      <td id=\"T_765c9_row17_col6\" class=\"data row17 col6\" >0.119000</td>\n",
       "      <td id=\"T_765c9_row17_col7\" class=\"data row17 col7\" >0.061000</td>\n",
       "      <td id=\"T_765c9_row17_col8\" class=\"data row17 col8\" >-0.076000</td>\n",
       "      <td id=\"T_765c9_row17_col9\" class=\"data row17 col9\" >0.115000</td>\n",
       "      <td id=\"T_765c9_row17_col10\" class=\"data row17 col10\" >-0.048000</td>\n",
       "      <td id=\"T_765c9_row17_col11\" class=\"data row17 col11\" >-0.081000</td>\n",
       "      <td id=\"T_765c9_row17_col12\" class=\"data row17 col12\" >0.013000</td>\n",
       "      <td id=\"T_765c9_row17_col13\" class=\"data row17 col13\" >0.035000</td>\n",
       "      <td id=\"T_765c9_row17_col14\" class=\"data row17 col14\" >-0.036000</td>\n",
       "      <td id=\"T_765c9_row17_col15\" class=\"data row17 col15\" >0.008000</td>\n",
       "      <td id=\"T_765c9_row17_col16\" class=\"data row17 col16\" >0.009000</td>\n",
       "      <td id=\"T_765c9_row17_col17\" class=\"data row17 col17\" >0.158000</td>\n",
       "      <td id=\"T_765c9_row17_col18\" class=\"data row17 col18\" >-0.100000</td>\n",
       "      <td id=\"T_765c9_row17_col19\" class=\"data row17 col19\" >-0.017000</td>\n",
       "      <td id=\"T_765c9_row17_col20\" class=\"data row17 col20\" >-0.164000</td>\n",
       "      <td id=\"T_765c9_row17_col21\" class=\"data row17 col21\" >-0.014000</td>\n",
       "    </tr>\n",
       "    <tr>\n",
       "      <th id=\"T_765c9_level0_row18\" class=\"row_heading level0 row18\" >x1</th>\n",
       "      <td id=\"T_765c9_row18_col0\" class=\"data row18 col0\" >0.028000</td>\n",
       "      <td id=\"T_765c9_row18_col1\" class=\"data row18 col1\" >1.000000</td>\n",
       "      <td id=\"T_765c9_row18_col2\" class=\"data row18 col2\" >-0.142000</td>\n",
       "      <td id=\"T_765c9_row18_col3\" class=\"data row18 col3\" >-0.035000</td>\n",
       "      <td id=\"T_765c9_row18_col4\" class=\"data row18 col4\" >-0.016000</td>\n",
       "      <td id=\"T_765c9_row18_col5\" class=\"data row18 col5\" >-0.069000</td>\n",
       "      <td id=\"T_765c9_row18_col6\" class=\"data row18 col6\" >0.031000</td>\n",
       "      <td id=\"T_765c9_row18_col7\" class=\"data row18 col7\" >-0.050000</td>\n",
       "      <td id=\"T_765c9_row18_col8\" class=\"data row18 col8\" >0.994000</td>\n",
       "      <td id=\"T_765c9_row18_col9\" class=\"data row18 col9\" >-0.038000</td>\n",
       "      <td id=\"T_765c9_row18_col10\" class=\"data row18 col10\" >-0.086000</td>\n",
       "      <td id=\"T_765c9_row18_col11\" class=\"data row18 col11\" >-0.024000</td>\n",
       "      <td id=\"T_765c9_row18_col12\" class=\"data row18 col12\" >-0.030000</td>\n",
       "      <td id=\"T_765c9_row18_col13\" class=\"data row18 col13\" >-0.044000</td>\n",
       "      <td id=\"T_765c9_row18_col14\" class=\"data row18 col14\" >0.008000</td>\n",
       "      <td id=\"T_765c9_row18_col15\" class=\"data row18 col15\" >0.019000</td>\n",
       "      <td id=\"T_765c9_row18_col16\" class=\"data row18 col16\" >0.053000</td>\n",
       "      <td id=\"T_765c9_row18_col17\" class=\"data row18 col17\" >-0.018000</td>\n",
       "      <td id=\"T_765c9_row18_col18\" class=\"data row18 col18\" >0.023000</td>\n",
       "      <td id=\"T_765c9_row18_col19\" class=\"data row18 col19\" >0.068000</td>\n",
       "      <td id=\"T_765c9_row18_col20\" class=\"data row18 col20\" >0.023000</td>\n",
       "      <td id=\"T_765c9_row18_col21\" class=\"data row18 col21\" >-0.029000</td>\n",
       "    </tr>\n",
       "    <tr>\n",
       "      <th id=\"T_765c9_level0_row19\" class=\"row_heading level0 row19\" >x8</th>\n",
       "      <td id=\"T_765c9_row19_col0\" class=\"data row19 col0\" >0.018000</td>\n",
       "      <td id=\"T_765c9_row19_col1\" class=\"data row19 col1\" >0.994000</td>\n",
       "      <td id=\"T_765c9_row19_col2\" class=\"data row19 col2\" >-0.035000</td>\n",
       "      <td id=\"T_765c9_row19_col3\" class=\"data row19 col3\" >-0.033000</td>\n",
       "      <td id=\"T_765c9_row19_col4\" class=\"data row19 col4\" >-0.013000</td>\n",
       "      <td id=\"T_765c9_row19_col5\" class=\"data row19 col5\" >-0.076000</td>\n",
       "      <td id=\"T_765c9_row19_col6\" class=\"data row19 col6\" >0.025000</td>\n",
       "      <td id=\"T_765c9_row19_col7\" class=\"data row19 col7\" >-0.055000</td>\n",
       "      <td id=\"T_765c9_row19_col8\" class=\"data row19 col8\" >1.000000</td>\n",
       "      <td id=\"T_765c9_row19_col9\" class=\"data row19 col9\" >-0.035000</td>\n",
       "      <td id=\"T_765c9_row19_col10\" class=\"data row19 col10\" >-0.078000</td>\n",
       "      <td id=\"T_765c9_row19_col11\" class=\"data row19 col11\" >-0.025000</td>\n",
       "      <td id=\"T_765c9_row19_col12\" class=\"data row19 col12\" >-0.020000</td>\n",
       "      <td id=\"T_765c9_row19_col13\" class=\"data row19 col13\" >-0.044000</td>\n",
       "      <td id=\"T_765c9_row19_col14\" class=\"data row19 col14\" >0.011000</td>\n",
       "      <td id=\"T_765c9_row19_col15\" class=\"data row19 col15\" >0.015000</td>\n",
       "      <td id=\"T_765c9_row19_col16\" class=\"data row19 col16\" >0.068000</td>\n",
       "      <td id=\"T_765c9_row19_col17\" class=\"data row19 col17\" >-0.025000</td>\n",
       "      <td id=\"T_765c9_row19_col18\" class=\"data row19 col18\" >0.015000</td>\n",
       "      <td id=\"T_765c9_row19_col19\" class=\"data row19 col19\" >0.076000</td>\n",
       "      <td id=\"T_765c9_row19_col20\" class=\"data row19 col20\" >0.019000</td>\n",
       "      <td id=\"T_765c9_row19_col21\" class=\"data row19 col21\" >-0.029000</td>\n",
       "    </tr>\n",
       "    <tr>\n",
       "      <th id=\"T_765c9_level0_row20\" class=\"row_heading level0 row20\" >x6</th>\n",
       "      <td id=\"T_765c9_row20_col0\" class=\"data row20 col0\" >0.019000</td>\n",
       "      <td id=\"T_765c9_row20_col1\" class=\"data row20 col1\" >0.031000</td>\n",
       "      <td id=\"T_765c9_row20_col2\" class=\"data row20 col2\" >-0.053000</td>\n",
       "      <td id=\"T_765c9_row20_col3\" class=\"data row20 col3\" >-0.076000</td>\n",
       "      <td id=\"T_765c9_row20_col4\" class=\"data row20 col4\" >-0.007000</td>\n",
       "      <td id=\"T_765c9_row20_col5\" class=\"data row20 col5\" >0.119000</td>\n",
       "      <td id=\"T_765c9_row20_col6\" class=\"data row20 col6\" >1.000000</td>\n",
       "      <td id=\"T_765c9_row20_col7\" class=\"data row20 col7\" >-0.095000</td>\n",
       "      <td id=\"T_765c9_row20_col8\" class=\"data row20 col8\" >0.025000</td>\n",
       "      <td id=\"T_765c9_row20_col9\" class=\"data row20 col9\" >-0.072000</td>\n",
       "      <td id=\"T_765c9_row20_col10\" class=\"data row20 col10\" >0.030000</td>\n",
       "      <td id=\"T_765c9_row20_col11\" class=\"data row20 col11\" >0.048000</td>\n",
       "      <td id=\"T_765c9_row20_col12\" class=\"data row20 col12\" >-0.018000</td>\n",
       "      <td id=\"T_765c9_row20_col13\" class=\"data row20 col13\" >0.061000</td>\n",
       "      <td id=\"T_765c9_row20_col14\" class=\"data row20 col14\" >0.000000</td>\n",
       "      <td id=\"T_765c9_row20_col15\" class=\"data row20 col15\" >0.033000</td>\n",
       "      <td id=\"T_765c9_row20_col16\" class=\"data row20 col16\" >-0.168000</td>\n",
       "      <td id=\"T_765c9_row20_col17\" class=\"data row20 col17\" >-0.069000</td>\n",
       "      <td id=\"T_765c9_row20_col18\" class=\"data row20 col18\" >-0.007000</td>\n",
       "      <td id=\"T_765c9_row20_col19\" class=\"data row20 col19\" >-0.039000</td>\n",
       "      <td id=\"T_765c9_row20_col20\" class=\"data row20 col20\" >0.055000</td>\n",
       "      <td id=\"T_765c9_row20_col21\" class=\"data row20 col21\" >-0.034000</td>\n",
       "    </tr>\n",
       "    <tr>\n",
       "      <th id=\"T_765c9_level0_row21\" class=\"row_heading level0 row21\" >x16</th>\n",
       "      <td id=\"T_765c9_row21_col0\" class=\"data row21 col0\" >0.111000</td>\n",
       "      <td id=\"T_765c9_row21_col1\" class=\"data row21 col1\" >0.053000</td>\n",
       "      <td id=\"T_765c9_row21_col2\" class=\"data row21 col2\" >0.137000</td>\n",
       "      <td id=\"T_765c9_row21_col3\" class=\"data row21 col3\" >-0.084000</td>\n",
       "      <td id=\"T_765c9_row21_col4\" class=\"data row21 col4\" >-0.021000</td>\n",
       "      <td id=\"T_765c9_row21_col5\" class=\"data row21 col5\" >0.009000</td>\n",
       "      <td id=\"T_765c9_row21_col6\" class=\"data row21 col6\" >-0.168000</td>\n",
       "      <td id=\"T_765c9_row21_col7\" class=\"data row21 col7\" >-0.098000</td>\n",
       "      <td id=\"T_765c9_row21_col8\" class=\"data row21 col8\" >0.068000</td>\n",
       "      <td id=\"T_765c9_row21_col9\" class=\"data row21 col9\" >-0.085000</td>\n",
       "      <td id=\"T_765c9_row21_col10\" class=\"data row21 col10\" >0.095000</td>\n",
       "      <td id=\"T_765c9_row21_col11\" class=\"data row21 col11\" >-0.046000</td>\n",
       "      <td id=\"T_765c9_row21_col12\" class=\"data row21 col12\" >0.014000</td>\n",
       "      <td id=\"T_765c9_row21_col13\" class=\"data row21 col13\" >-0.075000</td>\n",
       "      <td id=\"T_765c9_row21_col14\" class=\"data row21 col14\" >-0.015000</td>\n",
       "      <td id=\"T_765c9_row21_col15\" class=\"data row21 col15\" >-0.015000</td>\n",
       "      <td id=\"T_765c9_row21_col16\" class=\"data row21 col16\" >1.000000</td>\n",
       "      <td id=\"T_765c9_row21_col17\" class=\"data row21 col17\" >-0.106000</td>\n",
       "      <td id=\"T_765c9_row21_col18\" class=\"data row21 col18\" >-0.081000</td>\n",
       "      <td id=\"T_765c9_row21_col19\" class=\"data row21 col19\" >-0.009000</td>\n",
       "      <td id=\"T_765c9_row21_col20\" class=\"data row21 col20\" >-0.083000</td>\n",
       "      <td id=\"T_765c9_row21_col21\" class=\"data row21 col21\" >-0.127000</td>\n",
       "    </tr>\n",
       "  </tbody>\n",
       "</table>\n"
      ],
      "text/plain": [
       "<pandas.io.formats.style.Styler at 0x1edc076bc10>"
      ]
     },
     "execution_count": 81,
     "metadata": {},
     "output_type": "execute_result"
    }
   ],
   "source": [
    "data1.corr().round(3).sort_values(\"y\",ascending=False).style.background_gradient()"
   ]
  },
  {
   "cell_type": "code",
   "execution_count": 91,
   "metadata": {},
   "outputs": [],
   "source": [
    "from sklearn.feature_selection import RFE\n",
    "from sklearn.feature_selection import RFECV\n",
    "from sklearn.svm import SVR\n"
   ]
  },
  {
   "cell_type": "code",
   "execution_count": 90,
   "metadata": {},
   "outputs": [
    {
     "ename": "TypeError",
     "evalue": "RFE.__init__() got an unexpected keyword argument 'cv'",
     "output_type": "error",
     "traceback": [
      "\u001b[1;31m---------------------------------------------------------------------------\u001b[0m",
      "\u001b[1;31mTypeError\u001b[0m                                 Traceback (most recent call last)",
      "Cell \u001b[1;32mIn[90], line 6\u001b[0m\n\u001b[0;32m      1\u001b[0m \u001b[38;5;28;01mfrom\u001b[39;00m \u001b[38;5;21;01msklearn\u001b[39;00m\u001b[38;5;21;01m.\u001b[39;00m\u001b[38;5;21;01mmetrics\u001b[39;00m \u001b[38;5;28;01mimport\u001b[39;00m mean_squared_error, mean_absolute_error,median_absolute_error\n\u001b[0;32m      3\u001b[0m model \u001b[38;5;241m=\u001b[39m LinearRegression()\n\u001b[1;32m----> 6\u001b[0m rfe  \u001b[38;5;241m=\u001b[39m \u001b[43mRFE\u001b[49m\u001b[43m(\u001b[49m\u001b[43mmodel\u001b[49m\u001b[43m,\u001b[49m\u001b[43mn_features_to_select\u001b[49m\u001b[38;5;241;43m=\u001b[39;49m\u001b[38;5;241;43m5\u001b[39;49m\u001b[43m,\u001b[49m\u001b[43mstep\u001b[49m\u001b[38;5;241;43m=\u001b[39;49m\u001b[38;5;241;43m1\u001b[39;49m\u001b[43m,\u001b[49m\u001b[43mcv\u001b[49m\u001b[38;5;241;43m=\u001b[39;49m\u001b[38;5;241;43m5\u001b[39;49m\u001b[43m,\u001b[49m\u001b[43m \u001b[49m\u001b[43mscoring\u001b[49m\u001b[38;5;241;43m=\u001b[39;49m\u001b[38;5;124;43m\"\u001b[39;49m\u001b[38;5;124;43mneg_mean_squared_error\u001b[39;49m\u001b[38;5;124;43m\"\u001b[39;49m\u001b[43m)\u001b[49m\n\u001b[0;32m      7\u001b[0m rfe \u001b[38;5;241m=\u001b[39m rfe\u001b[38;5;241m.\u001b[39mfit(X,y)\n\u001b[0;32m      9\u001b[0m rfe\u001b[38;5;241m.\u001b[39mfit(X, y)\n",
      "\u001b[1;31mTypeError\u001b[0m: RFE.__init__() got an unexpected keyword argument 'cv'"
     ]
    }
   ],
   "source": [
    "\n",
    "\n",
    "from sklearn.metrics import mean_squared_error, mean_absolute_error,median_absolute_error\n",
    "\n",
    "model = LinearRegression()\n",
    "\n",
    "\n",
    "rfecv  = RFE(model,n_features_to_select=5,step=1,cv=5, scoring=\"neg_mean_squared_error\")\n",
    "rfecv = rfecv.fit(X,y)\n",
    "\n",
    "x_rfe = rfecv\n",
    "\n",
    "\n",
    "y_pred = rfe.predict(X)\n",
    "\n",
    "\n",
    "median = median_absolute_error(y,y_pred)\n",
    "mse = mean_squared_error(y, y_pred)\n",
    "mae = mean_absolute_error(y, y_pred)\n",
    "rmse = np.sqrt(mse)\n",
    "\n",
    "print(\"Linear Reg Median: \", median)\n",
    "print(\"Linear Reg MSE: \", mse)\n",
    "print(\"Linear Reg MAE: \", mae)\n",
    "print(\"Linear Reg RMSE: \", rmse)\n",
    "\n",
    "\n",
    "\n",
    "plt.figure(figsize=(8, 6))\n",
    "plt.scatter(X, y, color=\"blue\", label=\"Data\", alpha=0.5)\n",
    "plt.plot(X, y_pred, color=\"red\", label=\"Linear\")\n",
    "plt.title(\"Linear Regression\")\n",
    "plt.xlabel(\"X\")\n",
    "plt.ylabel(\"y\")\n",
    "plt.legend()\n",
    "plt.grid(True)\n",
    "plt.show()\n"
   ]
  }
 ],
 "metadata": {
  "kernelspec": {
   "display_name": "Python 3",
   "language": "python",
   "name": "python3"
  },
  "language_info": {
   "codemirror_mode": {
    "name": "ipython",
    "version": 3
   },
   "file_extension": ".py",
   "mimetype": "text/x-python",
   "name": "python",
   "nbconvert_exporter": "python",
   "pygments_lexer": "ipython3",
   "version": "3.11.5"
  }
 },
 "nbformat": 4,
 "nbformat_minor": 2
}
