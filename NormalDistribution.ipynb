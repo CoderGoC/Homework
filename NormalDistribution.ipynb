{
  "nbformat": 4,
  "nbformat_minor": 0,
  "metadata": {
    "colab": {
      "provenance": []
    },
    "kernelspec": {
      "name": "python3",
      "display_name": "Python 3"
    },
    "language_info": {
      "name": "python"
    }
  },
  "cells": [
    {
      "cell_type": "code",
      "execution_count": null,
      "metadata": {
        "colab": {
          "base_uri": "https://localhost:8080/"
        },
        "id": "z83Bl82bzl8E",
        "outputId": "9e583d1d-1b44-4637-8a59-890f20d5dc02"
      },
      "outputs": [
        {
          "output_type": "stream",
          "name": "stdout",
          "text": [
            "Percentage of data within 1 standard deviation: 69.60%\n",
            "Percentage of data within 2 standard deviations: 95.40%\n",
            "Percentage of data within 3 standard deviations: 99.60%\n"
          ]
        }
      ],
      "source": [
        "import pandas as pd\n",
        "import numpy as np\n",
        "import matplotlib.pyplot as plt\n",
        "import scipy.stats as stats\n",
        "\n",
        "df = pd.read_csv('/content/StudentsPerformance.csv')\n",
        "\n",
        "math_scores = df['math score']\n",
        "\n",
        "mean = math_scores.mean()\n",
        "std_dev = math_scores.std()\n",
        "\n",
        "\n",
        "one_std_dev = (mean - std_dev, mean + std_dev)\n",
        "two_std_dev = (mean - 2 * std_dev, mean + 2 * std_dev)\n",
        "three_std_dev = (mean - 3 * std_dev, mean + 3 * std_dev)\n",
        "\n",
        "within_one_std_dev = np.sum((math_scores >= one_std_dev[0]) & (math_scores <= one_std_dev[1])) / len(math_scores) * 100\n",
        "within_two_std_dev = np.sum((math_scores >= two_std_dev[0]) & (math_scores <= two_std_dev[1])) / len(math_scores) * 100\n",
        "within_three_std_dev = np.sum((math_scores >= three_std_dev[0]) & (math_scores <= three_std_dev[1])) / len(math_scores) * 100\n",
        "\n",
        "print(f\"Percentage of data within 1 standard deviation: {within_one_std_dev:.2f}%\")\n",
        "print(f\"Percentage of data within 2 standard deviations: {within_two_std_dev:.2f}%\")\n",
        "print(f\"Percentage of data within 3 standard deviations: {within_three_std_dev:.2f}%\")\n",
        "\n"
      ]
    }
  ]
}